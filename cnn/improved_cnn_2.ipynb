{
 "cells": [
  {
   "cell_type": "markdown",
   "id": "43988a2c-0078-4b70-b0bc-c207b9d644c3",
   "metadata": {},
   "source": [
    "# Improved CNN (v2)\n",
    "\n",
    "This CNN is based off the original improved CNN. However, the goal for this one was to maintain (or improve)\n",
    "training accuracy while reducing model complexity and overfitting.\n",
    "\n",
    "## Setup\n",
    "\n",
    "Again, we start by importing modules and (down)loading data."
   ]
  },
  {
   "cell_type": "code",
   "execution_count": 1,
   "id": "6d026df9",
   "metadata": {
    "id": "6d026df9",
    "tags": []
   },
   "outputs": [],
   "source": [
    "import torch\n",
    "import torch.nn as nn\n",
    "import torchvision\n",
    "import torch.nn.functional as F\n",
    "from torch.optim import Adam\n",
    "from torch.autograd import Variable\n",
    "from torchvision.transforms import transforms\n",
    "from torch.utils.data import DataLoader, random_split\n",
    "from torchvision.datasets import ImageFolder\n",
    "from pathlib import Path\n",
    "import gdown\n",
    "\n",
    "from tqdm.notebook import tqdm, trange\n",
    "print = tqdm.write"
   ]
  },
  {
   "cell_type": "code",
   "execution_count": 2,
   "id": "GUc0K31jAux3",
   "metadata": {
    "id": "GUc0K31jAux3",
    "tags": []
   },
   "outputs": [],
   "source": [
    "from typing import Type\n",
    "\n",
    "RESISC45_DIR = Path(\"..\") / \"NWPU-RESISC45\"\n",
    "if not RESISC45_DIR.exists():\n",
    "    gdown.download(\n",
    "        id=\"1nd0R9iljzkWd7Hhfyp2tH55KxAsKrzYj\",\n",
    "        output=\"./NWPU-RESISC45.rar\",\n",
    "    )\n",
    "    !unrar x -inul ./NWPU-RESISC45.rar\n",
    "    !mv NWPU-RESISC45 .."
   ]
  },
  {
   "cell_type": "markdown",
   "id": "706ccfa7-e839-488b-8fae-e8a7aeb04912",
   "metadata": {},
   "source": [
    "### Statistics\n",
    "\n",
    "We now perform some quick statistics on the data $-$ specifically, finding the mean and standard deviation."
   ]
  },
  {
   "cell_type": "code",
   "execution_count": 3,
   "id": "413a1eae",
   "metadata": {
    "id": "413a1eae",
    "tags": []
   },
   "outputs": [],
   "source": [
    "def get_mean_and_std():\n",
    "    \"\"\"Log the mean and standard deviation of the RESISC45 data.\"\"\"\n",
    "    # load in the data\n",
    "    transformations = transforms.Compose(\n",
    "        [\n",
    "            transforms.ToTensor(),\n",
    "        ]\n",
    "    )\n",
    "    dataset = ImageFolder(root=RESISC45_DIR, transform=transformations)\n",
    "    loader = DataLoader(dataset, batch_size=64, shuffle=False, num_workers=4)\n",
    "\n",
    "    # Iterate through the dataset\n",
    "    mean = 0.0\n",
    "    std = 0.0\n",
    "    total_samples = 0\n",
    "\n",
    "    for images, _ in loader:\n",
    "        batch_size = images.size(0)\n",
    "        images = images.view(batch_size, images.size(1), -1)\n",
    "        mean += images.mean(2).sum(0)\n",
    "        std += images.std(2).sum(0)\n",
    "        total_samples += batch_size\n",
    "\n",
    "    # Divide by number of samples and print results\n",
    "    mean /= total_samples\n",
    "    std /= total_samples\n",
    "\n",
    "    print(f\"Mean: {[round(i, 4) for i in mean.tolist()]}\")\n",
    "    print(f\"Std: {[round(i, 4) for i in std.tolist()]}\")\n",
    "\n",
    "\n",
    "get_mean_and_std()"
   ]
  },
  {
   "cell_type": "markdown",
   "id": "2930994f-a18d-4dab-8d2c-001cf2f3f0ef",
   "metadata": {
    "tags": []
   },
   "source": [
    "# Learning\n",
    "\n",
    "We now will train our model.\n",
    "\n",
    "## Setup and Hyperparameters\n",
    "\n",
    "First, we define some basic hyperparameters, as shown below. We also find\n",
    "which device we are training on. Then, we load and normalize the data, and\n",
    "split it into train and test datasets. Finally, we define and create our neural network.\n",
    "\n",
    "The main changes from the previous models are:\n",
    "1. We now have 6 CNN layers, going from big to small (rather than small to big).\n",
    "2. BatchNorm has been replaced by Dropout.\n",
    "3. There are two linear layers at the end, both narrowing, but we still have a quarter of the parameters of the original models."
   ]
  },
  {
   "cell_type": "code",
   "execution_count": 4,
   "id": "6451f372",
   "metadata": {
    "id": "6451f372",
    "tags": []
   },
   "outputs": [],
   "source": [
    "mean = (0.3680, 0.3810, 0.3436)\n",
    "std = (0.1454, 0.1356, 0.1320)\n",
    "\n",
    "# Test/train split\n",
    "train_ratio = 0.8\n",
    "test_ratio = 0.2\n",
    "\n",
    "# Learning settings\n",
    "batch_size = 64\n",
    "learning_rate = 0.0003\n",
    "\n",
    "channel_sizes = (32, 16, 8)\n",
    "linear_sizes = (8712, 256)\n",
    "\n",
    "normalizer = nn.Identity\n",
    "model_name = \"icnn_2\"\n",
    "\n",
    "device = torch.device(\"cuda:0\" if torch.cuda.is_available() else \"cpu\")"
   ]
  },
  {
   "cell_type": "code",
   "execution_count": 5,
   "id": "03ceceec",
   "metadata": {
    "id": "03ceceec",
    "tags": []
   },
   "outputs": [],
   "source": [
    "# Loading and normalizing the data.\n",
    "\n",
    "transformations = transforms.Compose([\n",
    "    transforms.ToTensor(),\n",
    "    transforms.Normalize(mean, std)\n",
    "])\n",
    "\n",
    "dataset = ImageFolder(root=RESISC45_DIR, transform=transformations)\n",
    "classes = dataset.class_to_idx\n",
    "\n",
    "train_size = int(train_ratio * len(dataset))\n",
    "test_size = len(dataset) - train_size\n",
    "\n",
    "train_set, test_set = random_split(dataset, [train_size, test_size])\n",
    "\n",
    "train_loader = DataLoader(train_set, batch_size=batch_size, shuffle=True, num_workers=0)\n",
    "test_loader = DataLoader(test_set, batch_size=batch_size, shuffle=False, num_workers=0)"
   ]
  },
  {
   "cell_type": "code",
   "execution_count": 6,
   "id": "dc3a30a2",
   "metadata": {
    "id": "dc3a30a2",
    "tags": []
   },
   "outputs": [],
   "source": [
    "# Define a convolution neural network\n",
    "class Network(nn.Module):\n",
    "    def __init__(\n",
    "        self, \n",
    "        linear_sizes, \n",
    "        channel_sizes, \n",
    "        activation=F.relu,\n",
    "        norm: Type[nn.Module] = nn.BatchNorm2d\n",
    "    ):\n",
    "        super().__init__()\n",
    "        \n",
    "        self.linear_sizes = linear_sizes\n",
    "        self.activation = activation\n",
    "        \n",
    "        self.pool = nn.MaxPool2d(kernel_size=2)\n",
    "        self.dropout = nn.Dropout(p=0.25)\n",
    "        \n",
    "        c1, c2, c3 = channel_sizes\n",
    "        \n",
    "        # First convolution\n",
    "        self.conv1 = nn.Conv2d(3, c1, kernel_size=3, padding=1)\n",
    "        self.norm1 = norm(c1)\n",
    "\n",
    "        self.conv2 = nn.Conv2d(c1, c1, kernel_size=3, padding=1)\n",
    "        self.norm2 = norm(c1)\n",
    "\n",
    "        # Second convolution\n",
    "        self.conv3 = nn.Conv2d(c1, c2, kernel_size=3, padding=1)\n",
    "        self.norm3 = norm(c2)\n",
    "        \n",
    "        self.conv4 = nn.Conv2d(c2, c2, kernel_size=2, padding=1)\n",
    "        self.norm4 = norm(c2)\n",
    "        \n",
    "        # Third convolution\n",
    "        self.conv5 = nn.Conv2d(c2, c3, kernel_size=2, padding=1)\n",
    "        self.norm5 = norm(c3)\n",
    "        \n",
    "        self.conv6 = nn.Conv2d(c3, c3, kernel_size=2, padding=1)\n",
    "        self.norm6 = norm(c3)\n",
    "\n",
    "        # Linear\n",
    "        lin0, lin1 = linear_sizes\n",
    "\n",
    "        self.fc1 = nn.Linear(lin0, lin1)\n",
    "        self.fc2 = nn.Linear(lin1, 45)\n",
    "\n",
    "    def forward(self, x):\n",
    "        batch_size = x.size(0)\n",
    "        \n",
    "        activation = self.activation\n",
    "        maxpool = self.pool\n",
    "        dropout = self.dropout\n",
    "        \n",
    "        # First convolution\n",
    "        # https://stackoverflow.com/questions/39691902/ordering-of-batch-normalization-and-dropout\n",
    "        x = self.norm1(self.conv1(x))\n",
    "        x = activation(x)\n",
    "        x = dropout(x)\n",
    "        \n",
    "        x = self.norm2(self.conv2(x))\n",
    "        x = activation(x)\n",
    "        \n",
    "        x = maxpool(x)\n",
    "        x = dropout(x)\n",
    "        \n",
    "        # Second convolution\n",
    "        # https://stackoverflow.com/questions/39691902/ordering-of-batch-normalization-and-dropout\n",
    "        x = self.norm3(self.conv3(x))\n",
    "        x = activation(x)\n",
    "        x = dropout(x)\n",
    "        \n",
    "        x = self.norm4(self.conv4(x))\n",
    "        x = activation(x)\n",
    "        \n",
    "        x = maxpool(x)\n",
    "        x = dropout(x)\n",
    "        \n",
    "        # Third convolution\n",
    "        # https://stackoverflow.com/questions/39691902/ordering-of-batch-normalization-and-dropout\n",
    "        x = self.norm5(self.conv5(x))\n",
    "        x = activation(x)\n",
    "        x = dropout(x)\n",
    "        \n",
    "        x = self.norm6(self.conv6(x))\n",
    "        x = activation(x)\n",
    "        \n",
    "        x = maxpool(x)\n",
    "        x = dropout(x)\n",
    "\n",
    "        # Linear\n",
    "        x = x.reshape(batch_size, self.linear_sizes[0])\n",
    "        \n",
    "        x = activation(self.fc1(x))\n",
    "        x = dropout(x)\n",
    "\n",
    "        x = self.fc2(x)\n",
    "\n",
    "        return x\n",
    "\n",
    "# Instantiate a neural network model \n",
    "model = Network(linear_sizes, channel_sizes, norm=normalizer)"
   ]
  },
  {
   "cell_type": "markdown",
   "id": "9271780e-ec75-4a99-a76a-c2100c145cee",
   "metadata": {},
   "source": [
    "### Training\n",
    "\n",
    "We now enter the training phase of the notebook. First, we create our loss function and optimizer\n",
    "(another hyperparameter). We chose the adam optimzier as it works well, with a small weight decay\n",
    "to help with overfitting. We then define helper functions to train our model: one for saving the model,\n",
    "two for testing train/test accuracy. Finally, we create our main training loop."
   ]
  },
  {
   "cell_type": "code",
   "execution_count": 7,
   "id": "ab65882f",
   "metadata": {
    "id": "ab65882f",
    "tags": []
   },
   "outputs": [],
   "source": [
    "# Define the loss function with Classification Cross-Entropy loss and an optimizer with Adam optimizer\n",
    "loss_fn = nn.CrossEntropyLoss()\n",
    "optimizer = Adam(model.parameters(), lr=learning_rate, weight_decay=0.0001)"
   ]
  },
  {
   "cell_type": "code",
   "execution_count": 8,
   "id": "3ab8acab",
   "metadata": {
    "id": "3ab8acab",
    "tags": []
   },
   "outputs": [],
   "source": [
    "# Function to save the model\n",
    "def save_model():\n",
    "    path = f\"{model_name}_best.pth\"\n",
    "    torch.save(model.state_dict(), path)\n",
    "\n",
    "# Function to test the model with the test dataset and print the accuracy for the test images\n",
    "def compute_train_accuracy():\n",
    "    accuracy = 0.0\n",
    "    total = 0\n",
    "    \n",
    "    # Turn on evaluation mode\n",
    "    model.eval()\n",
    "    with torch.no_grad():\n",
    "        for images, labels in tqdm(train_loader, desc=\"Train Acc\"):\n",
    "            images = images.to(device)\n",
    "            labels = labels.to(device)\n",
    "\n",
    "            # run the model on the test set to predict labels\n",
    "            outputs = model(images)\n",
    "\n",
    "            # the label with the highest value will be our prediction\n",
    "            _, predicted = torch.max(outputs.data, 1)\n",
    "            accuracy += (predicted == labels).sum().item()\n",
    "\n",
    "            total += labels.size(0)\n",
    "    \n",
    "    # compute the accuracy percentage over all test images\n",
    "    accuracy = (accuracy / total) * 100\n",
    "    return accuracy\n",
    "\n",
    "def compute_test_accuracy():\n",
    "    accuracy = 0.0\n",
    "    total = 0\n",
    "\n",
    "    # Turn on evaluation mode\n",
    "    model.eval()\n",
    "    with torch.no_grad():\n",
    "        for images, labels in tqdm(test_loader, desc=\"Test Acc\"):\n",
    "            images = Variable(images.to(device))\n",
    "            labels = Variable(labels.to(device))\n",
    "\n",
    "            # run the model on the test set to predict labels\n",
    "            outputs = model(images)\n",
    "\n",
    "            # the label with the highest energy will be our prediction\n",
    "            _, predicted = torch.max(outputs.data, 1)\n",
    "            accuracy += (predicted == labels).sum().item()\n",
    "\n",
    "            total += labels.size(0)\n",
    "    \n",
    "    # compute the accuracy over all test images\n",
    "    accuracy = (accuracy / total) * 100\n",
    "    return accuracy \n",
    "\n",
    "\n",
    "# Training function. We simply have to loop over our data iterator and feed the inputs to the network and optimize.\n",
    "def train(num_epochs, *, log_train_acc):\n",
    "    train_acc_list = []\n",
    "    test_acc_list = []\n",
    "    \n",
    "    # Define your execution device\n",
    "    device = torch.device(\"cuda:0\" if torch.cuda.is_available() else \"cpu\")\n",
    "    print(f\"Running on `{device}`.\")\n",
    "    \n",
    "    # keep track of accuracy\n",
    "    best_accuracy = 0.0\n",
    "\n",
    "    # Convert model parameters and buffers to CPU or Cuda\n",
    "    model.to(device)\n",
    "\n",
    "    for epoch in trange(num_epochs, desc=\"Epochs\"):  # loop over the dataset multiple times\n",
    "        model.train()\n",
    "        \n",
    "        running_loss = 0.0\n",
    "        running_acc = 0.0\n",
    "\n",
    "        for i, (images, labels) in tqdm(\n",
    "            enumerate(train_loader, 0), \n",
    "            total=len(train_loader), \n",
    "            desc=\"Train\"\n",
    "        ):\n",
    "            \n",
    "            # get the inputs\n",
    "            images = images.to(device)\n",
    "            labels = labels.to(device)\n",
    "            \n",
    "            # zero the parameter gradients\n",
    "            optimizer.zero_grad()\n",
    "\n",
    "            # predict classes using images from the training set\n",
    "            outputs = model(images)\n",
    "\n",
    "            # compute the loss based on model output and real labels\n",
    "            loss = loss_fn(outputs, labels)\n",
    "\n",
    "            # backpropagate the loss\n",
    "            loss.backward()\n",
    "\n",
    "            # adjust parameters based on the calculated gradients\n",
    "            optimizer.step()\n",
    "\n",
    "            # Let's print statistics for every 100 images\n",
    "            running_loss += loss.item()     # extract the loss value\n",
    "            if i % 100 == 99:\n",
    "                # print every 100 images\n",
    "                print(\n",
    "                    f'[Epoch {epoch + 1:2d}]: '\n",
    "                    f'Average loss at {i + 1:3d} iterations: {running_loss / (i + 1):.3f}'\n",
    "                )\n",
    "\n",
    "        end = len(train_loader)\n",
    "        print(\n",
    "            f'[Epoch {epoch + 1:2d}]: '\n",
    "            f'Average loss at {end:3d} iterations: {running_loss / end:.3f}'\n",
    "        )\n",
    "\n",
    "        # Compute and print the average accuracy fo this epoch when tested over all 10000 test images\n",
    "        if log_train_acc:\n",
    "            train_accuracy = compute_train_accuracy()\n",
    "            train_acc_list.append(train_accuracy)\n",
    "            print(f'[Epoch {epoch + 1:2d}]: Train accuracy: {train_accuracy:.2f}%')\n",
    "\n",
    "        test_accuracy = compute_test_accuracy()\n",
    "        test_acc_list.append(test_accuracy)\n",
    "        print(f'[Epoch {epoch + 1:2d}]: Test accuracy: {test_accuracy:.2f}%')\n",
    "        \n",
    "        # we want to save the model if the accuracy is the best\n",
    "        if test_accuracy > best_accuracy:\n",
    "            save_model()\n",
    "            best_accuracy = test_accuracy\n",
    "            \n",
    "    return train_acc_list, test_acc_list"
   ]
  },
  {
   "cell_type": "markdown",
   "id": "8401c994-5ba7-493f-b139-b6815aac8675",
   "metadata": {},
   "source": [
    "Finally, we train our model, for sixty epochs, and load the best model we have.\n",
    "While training, we also saved our best accuracies.\n",
    "\n",
    "This is split in 20/40 epoch groups to first test if the model has a good initialization,\n",
    "and only if it does do we do the whole training."
   ]
  },
  {
   "cell_type": "code",
   "execution_count": null,
   "id": "dd9ec189",
   "metadata": {
    "colab": {
     "base_uri": "https://localhost:8080/",
     "height": 1000,
     "referenced_widgets": [
      "03ccf8cbb8474917b7f2932184f65338",
      "9b9213b0c14a49b08ea11d1ac2d782af",
      "e8a3d6caec1648a8b23ff7f7fd7e25b3",
      "c102fb88349946a288f2f9d39869a0c3",
      "317c855af9c3489c822a6e0c6f1d181b",
      "e9edb1dd68e348e8b083ab2eefc4092e",
      "f4cf09693c624fda89db50f53cc67123",
      "f7e2881757104353847a8ae48ef57e21",
      "f14128e2a1f544368aaa2ee3d778a33d",
      "387018128b434ce5b2ccd75495019750",
      "eb0c32ce12954adf98df55fc0f172b3c",
      "e0a04d8b05e4445c8cfaac635fa3f020",
      "b8546e4de5c143849101643807b0d203",
      "1ca234da13ee40cdafa52be5db0221ad",
      "04b2b64ccc704e85aaa5b54fdee08fce",
      "ca19fdc22239411e99448ed970928416",
      "f797d031adbc44b0b142b5bc9ab7cda6",
      "704eff93a84c4e82b0a92e1ac1bf0492",
      "1e2b9825c0c540db9f4a95bc9be7601b",
      "774bf35489974cd791f1d47c41537b9d",
      "5e96d70e00a6405c84d2732ad895d6d8",
      "137516c1142b4cf49e94e68f7d00bd25",
      "b0fd0b9df2194992aa5c1f31961f3f73",
      "c7e4308efcb54c56b97be5ad5eb83da7",
      "e088c21070564533aea0ad01cc5f1fb0",
      "da7fa1cdf0804ed89f5260723e47e9f0",
      "dab8ec32768148d296202637671ddbfb",
      "1d82f9356a344557b12feb6e99688fa6",
      "2277d17f8e4449d28275f1891b997629",
      "43360ee800c74d568b5809119d7275f2",
      "1e11847fb17849cfa83595d50a2bafaf",
      "f72a39b652ee40c3a284645fadb3ff46",
      "a4798deb10094dfc9fc55e5620f2ab14",
      "a794e7c5fca84ac6afa47e86d612f935",
      "a6f583d12d22412aa2c26e219009782f",
      "dafb9cf855bf467aaf5439bf072b3353",
      "79c17a968d664a75a6565c4b2d34c321",
      "ebc265042f9c4ff3aa8693a8b90ad6d9",
      "016a5d76897846c6962e4ab6283ab95e",
      "208401f2be014d3286246242f39197c6",
      "4611e1a813354e1aa13a51d62bf19b39",
      "10e8b97a46894a00ad9609a75ec35d0c",
      "6a8c79d865e841ec9188263c53753f3d",
      "46ad7621d6c2426a9090a23c0304b18a",
      "705b76e424ca4c73ac2689e31788d42b",
      "0085e8d4d8194e96b54f5c1a1a1528a7",
      "ba73fa4a78f44b8a8a6312c592f8b9f3",
      "4f50294088a04ef48ad6c2c5487012a0",
      "410799b397e54882a7d1197713a88a49",
      "731138fc3ef34e4a89d8ed1f13993edf",
      "fbde1f6dfe784574a0b6d928912ddb5f",
      "45cad59c33224fee962de65e50b28456",
      "c95bcb85964b4fed8d37f3282cb4cbdc",
      "f429aa2959084b829069c851746250d2",
      "987c414d44b84ffea79e19c917f7430b",
      "60599c36415046b189df3a97502acb3a",
      "95394bc1a3f847eaa163a287c0c97e52",
      "75b164d11df04e7694b25802c4073aca",
      "d477ff71ce6a48758512cd71ef9de99c",
      "a57481f59e3d46c9b34386bd628d913a",
      "fc66adcb3aa64b09bc2bd15194f80b26",
      "ba86e14c9c6e46468b29c9ef25bd625b",
      "f86087d39a4a4ce4bddf8d6a71ee4dee",
      "e22bbbc154ce4f7d91eaebfabfdcf956",
      "98edc88ed2d74f39b5aa36b62ddf0e9a",
      "246399cb7ce04c2bb58f54e131f77a26",
      "b0a9f96eff364ce5b4b8318e277aa6d4",
      "479bdbf9a7ae4f19a7d117722d899a61",
      "5166a6ca1860442cb2c76f71757efc26",
      "21b25a56c79f4448a8dfdfcd627efb9c",
      "ac80247bb1df429e86b50c157bdfa228",
      "1f39d8851b5647b59d3244c46bf6a52f",
      "ec5e5d0abf0847ba80127af04525527d",
      "66b2ac7a4a7a46eda05744745e462575",
      "34877b92f6964951bb1d2ca7ca4996e2",
      "cae5684d7e424e3aa42d1ccc3eb13d6e",
      "57ddf7280ba2461bac642089f5f61751",
      "b237de9a83294e0e8711e9f1f3974896",
      "d099d4bae53b4b0dbeed3a9707c3ce03",
      "60a45a8ba98045f0b357b083f54b325b",
      "20566a901a13483f9304f8222b1d2d55",
      "cb0403f33da146d6af39f3b968c3ca83",
      "e1a122cb984d46e884bc8b7f6fe5bbfd",
      "edabd67424c44b07b2cd171ea2d648be",
      "055c5d710a50435294d327d54b6da7c4",
      "24acfcdcf416402382b43835ab26d8db",
      "5785c4f147194b4ba0f9d6eeb0944da9",
      "d775e3022495477980dcd5587df9d43c",
      "080cf7df59084b4ba38d3a8d37ea8a57",
      "60255a00b2094cc99d94d060e4b8ab07",
      "2bd13c9339794a4e889d66a5c7f417fb",
      "fafece39ecd5481b9b03e1456c96a3ca",
      "b395255c6eeb44b6afec8c4cd4251c45",
      "4460b968e0764bf3aed992439119cae5",
      "8c249d6aaab54fd4bfc574dbc92c54dd",
      "3de9d35e3d9042098999ed78220d6446",
      "4334476d02a6463a8821341705da93c8",
      "b1979d0d603c4eb1b5da0808719bf8b3",
      "7eba2b6c239f423696dae02cceab84d4",
      "72ede5532a2641f2b043386e88154b3a",
      "08b5b9fe2c2842c9affdc3fa050d24df",
      "42b3ea68b16f4dafb20ababf13efd630",
      "173c4cbdb4e44f98a8a9a08f9f4342d2",
      "1793c061a3124cf0a6805b1244379fd7",
      "36c5d969b021443faa80d93bd272f45d",
      "32debd619e974e68a409d3cb40f07ee9",
      "ff78ef50665942ceafb18be02153ad5d",
      "e7f67d9ae676450983cbd02f32460fa0",
      "8b526ee44e6e415380d9e941242c05a3",
      "257a93042f494a1c8928bca87034dcd2",
      "488f861a5f3047879fea8b8e6fd80578",
      "7cc4b60f819d4d049d0b65c0819876e6",
      "f5cbc0dfd25f4ecfa0a91bb5be9b88c4",
      "7f366d4f36af4b7da46a1e4ecd423ad4",
      "9874ea1e57ca45378c3ade75bf6a2fe7",
      "2ba32e02e1b54425af2e9a030831d0b3",
      "3f2fe2d9a0ad4cfbb0a3816d04046bff",
      "7ae9ca316d07419a8ee8f2886de55cb6",
      "6cb3b2bbdb2e4819a5921acf20978455",
      "8d8430e25f7445d4b0ed3dcf009fa434",
      "8530ac3e4900417a9fa750774839547b",
      "f06d9efc57db454db986a33008adf9b9",
      "38850c00fae0403d850b66bf1592fa1d",
      "a924e5bfeee0495aa9d6a94533ac4fbe",
      "28ae6de797cf456a913cdaf627f57383",
      "3d8e00010f0542e5bde579eb218dfa44",
      "72ed553e40984d4082c2bac0fa604b7d",
      "5a19450362cd488382c58ff8abcd5f42",
      "0be76c59c34346879029e128374ad603",
      "1223c759aa4e4d3594acd99dbd3e0759",
      "2dba218620fa4884a89bfbce631bb4bd",
      "4a3366e1f4fc4f368e764e42d2a95365",
      "1186d5051e9747ee9f2e4802fd42d783",
      "c35bf6d045924329a0e6590de7288db4",
      "a7d7a2e22187471b96412e597f5cf68c",
      "a29373a0a028462c9e5ea80e61e55a91",
      "3b91504a88674c25855e2bb3fa479244",
      "78b8b61b0211443589cfb624ac98f45a",
      "162b0a8e007f439d864fe35a48b52dae",
      "6a34340eba25470591bc474bdec8f802",
      "e7ac031c0c574a4093ef54747c8da3ff",
      "97e6fcc487574c63ae41e498842abd80",
      "0181ebd689274a31bdab2c8dd58c6c4e",
      "5765f07f46284f769973956f060085f9",
      "8a317ca463f74ba7ac763ad49d45b531",
      "ab1c368fb1b042a8a065870b9960aa31",
      "12cdd4ab758d467fb1178c8138ac37ae",
      "59ddccedb7324d3e8f6eca10ad2e1ff9",
      "47e256677ce645669a54db56a388255b",
      "2d39161297a84fce83eda363cdbb22db",
      "20df05c60ffa4e33ab7deb046dd2e1ca",
      "4037dbe08ffb470fa508bcb153563205",
      "73037aac0275474ab83f1759f3c26110",
      "0de8f3a22b2a4ffcaa86a0e2b44be5f1",
      "e3f4ab6e23614bb9b17c8fe2a13b0ad8",
      "4241d35e1df54a0dba5d443d3964b09a",
      "2619aab6a091496b88a47d07295b8a29",
      "cdf5825edce84b7699dd2a4444b9c2ad",
      "c85ec8bf2a184d2a9e3928a26513d351",
      "0f7e725ae69343ce8558bf640609b8c1",
      "c942ac127d2b4bbc9c94e7a89b37efc2",
      "733dbf66519a46089fb456c6ac572044",
      "71884807b9ac4888a25f754cabdd74be",
      "741df4f13b6f438c9ca663699324d9a2",
      "4c25ace49d1b4b13ac8196ce989e82a6",
      "10f83e0fd51a416280b06372c6b7a87b",
      "823034df13de4b9ba31871c6e0b2d5d1",
      "9e0e4ce504ee446e8273d3d0e706bbdc",
      "f457984693624b3d8e96f5161885d333",
      "094b2c66cf6f4dbbb25197d02696d361",
      "5dd7d71b5e114303a1f415b4352cb897",
      "4d7a28afde9e470982a0201d696158e7",
      "0b0404b13a6f4acdb00357204f4b8a2b",
      "e4766288c2eb407a9c52bf7c4ef63556",
      "08abb7ddba00438790c00f53a13a8cb9",
      "9a0a20539dda4478a8a710f1261580ed",
      "a42c1c1355584cc9bdb5de85889d2f22",
      "fcef7abb8dbc4737bb2c6dc69e985bca",
      "126b24ef832543c6a45c31ef9f978db9",
      "a6fe8da71e194fca933d209a5fc77d8d",
      "20f4f47cc5124107869a36d521a6049f",
      "f7641e9d4d9e4d6ea47e91876b312e04",
      "4ed79e5ccd9242c6abc0ef77ef666415",
      "ee8b5246c5584d8ba8659b522477646c",
      "6219976d422941f0972b36ac67672456",
      "2eb4bec3068e42b786d9d86227e62547",
      "8fa0d24599654e5084e683de00c9d7b2"
     ]
    },
    "id": "dd9ec189",
    "outputId": "63f9362e-44af-469d-fdd7-650ecc4d565a",
    "tags": []
   },
   "outputs": [],
   "source": [
    "# Let's build our model\n",
    "train_acc_list, test_acc_list = train(20, log_train_acc=True)\n",
    "print('Finished Training')\n",
    "\n",
    "# Test which classes performed well\n",
    "compute_test_accuracy()\n",
    "\n",
    "# Save final model\n",
    "torch.save(model.state_dict(), f\"{model_name}_final.pth\")"
   ]
  },
  {
   "cell_type": "code",
   "execution_count": 14,
   "id": "87745a45-9c06-4feb-902d-4717a2a466f6",
   "metadata": {
    "colab": {
     "base_uri": "https://localhost:8080/",
     "height": 1000,
     "referenced_widgets": [
      "03ccf8cbb8474917b7f2932184f65338",
      "9b9213b0c14a49b08ea11d1ac2d782af",
      "e8a3d6caec1648a8b23ff7f7fd7e25b3",
      "c102fb88349946a288f2f9d39869a0c3",
      "317c855af9c3489c822a6e0c6f1d181b",
      "e9edb1dd68e348e8b083ab2eefc4092e",
      "f4cf09693c624fda89db50f53cc67123",
      "f7e2881757104353847a8ae48ef57e21",
      "f14128e2a1f544368aaa2ee3d778a33d",
      "387018128b434ce5b2ccd75495019750",
      "eb0c32ce12954adf98df55fc0f172b3c",
      "e0a04d8b05e4445c8cfaac635fa3f020",
      "b8546e4de5c143849101643807b0d203",
      "1ca234da13ee40cdafa52be5db0221ad",
      "04b2b64ccc704e85aaa5b54fdee08fce",
      "ca19fdc22239411e99448ed970928416",
      "f797d031adbc44b0b142b5bc9ab7cda6",
      "704eff93a84c4e82b0a92e1ac1bf0492",
      "1e2b9825c0c540db9f4a95bc9be7601b",
      "774bf35489974cd791f1d47c41537b9d",
      "5e96d70e00a6405c84d2732ad895d6d8",
      "137516c1142b4cf49e94e68f7d00bd25",
      "b0fd0b9df2194992aa5c1f31961f3f73",
      "c7e4308efcb54c56b97be5ad5eb83da7",
      "e088c21070564533aea0ad01cc5f1fb0",
      "da7fa1cdf0804ed89f5260723e47e9f0",
      "dab8ec32768148d296202637671ddbfb",
      "1d82f9356a344557b12feb6e99688fa6",
      "2277d17f8e4449d28275f1891b997629",
      "43360ee800c74d568b5809119d7275f2",
      "1e11847fb17849cfa83595d50a2bafaf",
      "f72a39b652ee40c3a284645fadb3ff46",
      "a4798deb10094dfc9fc55e5620f2ab14",
      "a794e7c5fca84ac6afa47e86d612f935",
      "a6f583d12d22412aa2c26e219009782f",
      "dafb9cf855bf467aaf5439bf072b3353",
      "79c17a968d664a75a6565c4b2d34c321",
      "ebc265042f9c4ff3aa8693a8b90ad6d9",
      "016a5d76897846c6962e4ab6283ab95e",
      "208401f2be014d3286246242f39197c6",
      "4611e1a813354e1aa13a51d62bf19b39",
      "10e8b97a46894a00ad9609a75ec35d0c",
      "6a8c79d865e841ec9188263c53753f3d",
      "46ad7621d6c2426a9090a23c0304b18a",
      "705b76e424ca4c73ac2689e31788d42b",
      "0085e8d4d8194e96b54f5c1a1a1528a7",
      "ba73fa4a78f44b8a8a6312c592f8b9f3",
      "4f50294088a04ef48ad6c2c5487012a0",
      "410799b397e54882a7d1197713a88a49",
      "731138fc3ef34e4a89d8ed1f13993edf",
      "fbde1f6dfe784574a0b6d928912ddb5f",
      "45cad59c33224fee962de65e50b28456",
      "c95bcb85964b4fed8d37f3282cb4cbdc",
      "f429aa2959084b829069c851746250d2",
      "987c414d44b84ffea79e19c917f7430b",
      "60599c36415046b189df3a97502acb3a",
      "95394bc1a3f847eaa163a287c0c97e52",
      "75b164d11df04e7694b25802c4073aca",
      "d477ff71ce6a48758512cd71ef9de99c",
      "a57481f59e3d46c9b34386bd628d913a",
      "fc66adcb3aa64b09bc2bd15194f80b26",
      "ba86e14c9c6e46468b29c9ef25bd625b",
      "f86087d39a4a4ce4bddf8d6a71ee4dee",
      "e22bbbc154ce4f7d91eaebfabfdcf956",
      "98edc88ed2d74f39b5aa36b62ddf0e9a",
      "246399cb7ce04c2bb58f54e131f77a26",
      "b0a9f96eff364ce5b4b8318e277aa6d4",
      "479bdbf9a7ae4f19a7d117722d899a61",
      "5166a6ca1860442cb2c76f71757efc26",
      "21b25a56c79f4448a8dfdfcd627efb9c",
      "ac80247bb1df429e86b50c157bdfa228",
      "1f39d8851b5647b59d3244c46bf6a52f",
      "ec5e5d0abf0847ba80127af04525527d",
      "66b2ac7a4a7a46eda05744745e462575",
      "34877b92f6964951bb1d2ca7ca4996e2",
      "cae5684d7e424e3aa42d1ccc3eb13d6e",
      "57ddf7280ba2461bac642089f5f61751",
      "b237de9a83294e0e8711e9f1f3974896",
      "d099d4bae53b4b0dbeed3a9707c3ce03",
      "60a45a8ba98045f0b357b083f54b325b",
      "20566a901a13483f9304f8222b1d2d55",
      "cb0403f33da146d6af39f3b968c3ca83",
      "e1a122cb984d46e884bc8b7f6fe5bbfd",
      "edabd67424c44b07b2cd171ea2d648be",
      "055c5d710a50435294d327d54b6da7c4",
      "24acfcdcf416402382b43835ab26d8db",
      "5785c4f147194b4ba0f9d6eeb0944da9",
      "d775e3022495477980dcd5587df9d43c",
      "080cf7df59084b4ba38d3a8d37ea8a57",
      "60255a00b2094cc99d94d060e4b8ab07",
      "2bd13c9339794a4e889d66a5c7f417fb",
      "fafece39ecd5481b9b03e1456c96a3ca",
      "b395255c6eeb44b6afec8c4cd4251c45",
      "4460b968e0764bf3aed992439119cae5",
      "8c249d6aaab54fd4bfc574dbc92c54dd",
      "3de9d35e3d9042098999ed78220d6446",
      "4334476d02a6463a8821341705da93c8",
      "b1979d0d603c4eb1b5da0808719bf8b3",
      "7eba2b6c239f423696dae02cceab84d4",
      "72ede5532a2641f2b043386e88154b3a",
      "08b5b9fe2c2842c9affdc3fa050d24df",
      "42b3ea68b16f4dafb20ababf13efd630",
      "173c4cbdb4e44f98a8a9a08f9f4342d2",
      "1793c061a3124cf0a6805b1244379fd7",
      "36c5d969b021443faa80d93bd272f45d",
      "32debd619e974e68a409d3cb40f07ee9",
      "ff78ef50665942ceafb18be02153ad5d",
      "e7f67d9ae676450983cbd02f32460fa0",
      "8b526ee44e6e415380d9e941242c05a3",
      "257a93042f494a1c8928bca87034dcd2",
      "488f861a5f3047879fea8b8e6fd80578",
      "7cc4b60f819d4d049d0b65c0819876e6",
      "f5cbc0dfd25f4ecfa0a91bb5be9b88c4",
      "7f366d4f36af4b7da46a1e4ecd423ad4",
      "9874ea1e57ca45378c3ade75bf6a2fe7",
      "2ba32e02e1b54425af2e9a030831d0b3",
      "3f2fe2d9a0ad4cfbb0a3816d04046bff",
      "7ae9ca316d07419a8ee8f2886de55cb6",
      "6cb3b2bbdb2e4819a5921acf20978455",
      "8d8430e25f7445d4b0ed3dcf009fa434",
      "8530ac3e4900417a9fa750774839547b",
      "f06d9efc57db454db986a33008adf9b9",
      "38850c00fae0403d850b66bf1592fa1d",
      "a924e5bfeee0495aa9d6a94533ac4fbe",
      "28ae6de797cf456a913cdaf627f57383",
      "3d8e00010f0542e5bde579eb218dfa44",
      "72ed553e40984d4082c2bac0fa604b7d",
      "5a19450362cd488382c58ff8abcd5f42",
      "0be76c59c34346879029e128374ad603",
      "1223c759aa4e4d3594acd99dbd3e0759",
      "2dba218620fa4884a89bfbce631bb4bd",
      "4a3366e1f4fc4f368e764e42d2a95365",
      "1186d5051e9747ee9f2e4802fd42d783",
      "c35bf6d045924329a0e6590de7288db4",
      "a7d7a2e22187471b96412e597f5cf68c",
      "a29373a0a028462c9e5ea80e61e55a91",
      "3b91504a88674c25855e2bb3fa479244",
      "78b8b61b0211443589cfb624ac98f45a",
      "162b0a8e007f439d864fe35a48b52dae",
      "6a34340eba25470591bc474bdec8f802",
      "e7ac031c0c574a4093ef54747c8da3ff",
      "97e6fcc487574c63ae41e498842abd80",
      "0181ebd689274a31bdab2c8dd58c6c4e",
      "5765f07f46284f769973956f060085f9",
      "8a317ca463f74ba7ac763ad49d45b531",
      "ab1c368fb1b042a8a065870b9960aa31",
      "12cdd4ab758d467fb1178c8138ac37ae",
      "59ddccedb7324d3e8f6eca10ad2e1ff9",
      "47e256677ce645669a54db56a388255b",
      "2d39161297a84fce83eda363cdbb22db",
      "20df05c60ffa4e33ab7deb046dd2e1ca",
      "4037dbe08ffb470fa508bcb153563205",
      "73037aac0275474ab83f1759f3c26110",
      "0de8f3a22b2a4ffcaa86a0e2b44be5f1",
      "e3f4ab6e23614bb9b17c8fe2a13b0ad8",
      "4241d35e1df54a0dba5d443d3964b09a",
      "2619aab6a091496b88a47d07295b8a29",
      "cdf5825edce84b7699dd2a4444b9c2ad",
      "c85ec8bf2a184d2a9e3928a26513d351",
      "0f7e725ae69343ce8558bf640609b8c1",
      "c942ac127d2b4bbc9c94e7a89b37efc2",
      "733dbf66519a46089fb456c6ac572044",
      "71884807b9ac4888a25f754cabdd74be",
      "741df4f13b6f438c9ca663699324d9a2",
      "4c25ace49d1b4b13ac8196ce989e82a6",
      "10f83e0fd51a416280b06372c6b7a87b",
      "823034df13de4b9ba31871c6e0b2d5d1",
      "9e0e4ce504ee446e8273d3d0e706bbdc",
      "f457984693624b3d8e96f5161885d333",
      "094b2c66cf6f4dbbb25197d02696d361",
      "5dd7d71b5e114303a1f415b4352cb897",
      "4d7a28afde9e470982a0201d696158e7",
      "0b0404b13a6f4acdb00357204f4b8a2b",
      "e4766288c2eb407a9c52bf7c4ef63556",
      "08abb7ddba00438790c00f53a13a8cb9",
      "9a0a20539dda4478a8a710f1261580ed",
      "a42c1c1355584cc9bdb5de85889d2f22",
      "fcef7abb8dbc4737bb2c6dc69e985bca",
      "126b24ef832543c6a45c31ef9f978db9",
      "a6fe8da71e194fca933d209a5fc77d8d",
      "20f4f47cc5124107869a36d521a6049f",
      "f7641e9d4d9e4d6ea47e91876b312e04",
      "4ed79e5ccd9242c6abc0ef77ef666415",
      "ee8b5246c5584d8ba8659b522477646c",
      "6219976d422941f0972b36ac67672456",
      "2eb4bec3068e42b786d9d86227e62547",
      "8fa0d24599654e5084e683de00c9d7b2"
     ]
    },
    "id": "dd9ec189",
    "outputId": "63f9362e-44af-469d-fdd7-650ecc4d565a",
    "tags": []
   },
   "outputs": [
    {
     "name": "stdout",
     "output_type": "stream",
     "text": [
      "Running on `cuda:0`.\n"
     ]
    },
    {
     "data": {
      "application/vnd.jupyter.widget-view+json": {
       "model_id": "bbdbc70243cf4b749b02f02dfe5df2c8",
       "version_major": 2,
       "version_minor": 0
      },
      "text/plain": [
       "Epochs:   0%|          | 0/40 [00:00<?, ?it/s]"
      ]
     },
     "metadata": {},
     "output_type": "display_data"
    },
    {
     "data": {
      "application/vnd.jupyter.widget-view+json": {
       "model_id": "a8fa63c728334bc3ae4475750c5b4c27",
       "version_major": 2,
       "version_minor": 0
      },
      "text/plain": [
       "Train:   0%|          | 0/394 [00:00<?, ?it/s]"
      ]
     },
     "metadata": {},
     "output_type": "display_data"
    },
    {
     "name": "stdout",
     "output_type": "stream",
     "text": [
      "[Epoch  1]: Average loss at 100 iterations: 1.690\n",
      "[Epoch  1]: Average loss at 200 iterations: 1.682\n",
      "[Epoch  1]: Average loss at 300 iterations: 1.693\n",
      "[Epoch  1]: Average loss at 394 iterations: 1.700\n"
     ]
    },
    {
     "data": {
      "application/vnd.jupyter.widget-view+json": {
       "model_id": "530bf025111243aaaa42f727eabc1078",
       "version_major": 2,
       "version_minor": 0
      },
      "text/plain": [
       "Train Acc:   0%|          | 0/394 [00:00<?, ?it/s]"
      ]
     },
     "metadata": {},
     "output_type": "display_data"
    },
    {
     "name": "stdout",
     "output_type": "stream",
     "text": [
      "[Epoch  1]: Train accuracy: 52.65%\n"
     ]
    },
    {
     "data": {
      "application/vnd.jupyter.widget-view+json": {
       "model_id": "52d4e57736d1427ab769cdb7a5beccbe",
       "version_major": 2,
       "version_minor": 0
      },
      "text/plain": [
       "Test Acc:   0%|          | 0/99 [00:00<?, ?it/s]"
      ]
     },
     "metadata": {},
     "output_type": "display_data"
    },
    {
     "name": "stdout",
     "output_type": "stream",
     "text": [
      "[Epoch  1]: Test accuracy: 37.62%\n"
     ]
    },
    {
     "data": {
      "application/vnd.jupyter.widget-view+json": {
       "model_id": "31187b6fec6f4e7b93ac89dff9b3a782",
       "version_major": 2,
       "version_minor": 0
      },
      "text/plain": [
       "Train:   0%|          | 0/394 [00:00<?, ?it/s]"
      ]
     },
     "metadata": {},
     "output_type": "display_data"
    },
    {
     "name": "stdout",
     "output_type": "stream",
     "text": [
      "[Epoch  2]: Average loss at 100 iterations: 1.655\n",
      "[Epoch  2]: Average loss at 200 iterations: 1.666\n",
      "[Epoch  2]: Average loss at 300 iterations: 1.672\n",
      "[Epoch  2]: Average loss at 394 iterations: 1.677\n"
     ]
    },
    {
     "data": {
      "application/vnd.jupyter.widget-view+json": {
       "model_id": "e70e48bbb65649e3831c37644c3cb897",
       "version_major": 2,
       "version_minor": 0
      },
      "text/plain": [
       "Train Acc:   0%|          | 0/394 [00:00<?, ?it/s]"
      ]
     },
     "metadata": {},
     "output_type": "display_data"
    },
    {
     "name": "stdout",
     "output_type": "stream",
     "text": [
      "[Epoch  2]: Train accuracy: 53.60%\n"
     ]
    },
    {
     "data": {
      "application/vnd.jupyter.widget-view+json": {
       "model_id": "e9a2465c72fa440aadf093f962a5ce8d",
       "version_major": 2,
       "version_minor": 0
      },
      "text/plain": [
       "Test Acc:   0%|          | 0/99 [00:00<?, ?it/s]"
      ]
     },
     "metadata": {},
     "output_type": "display_data"
    },
    {
     "name": "stdout",
     "output_type": "stream",
     "text": [
      "[Epoch  2]: Test accuracy: 37.54%\n"
     ]
    },
    {
     "data": {
      "application/vnd.jupyter.widget-view+json": {
       "model_id": "e71534cd8f264756953e80e4610ca68a",
       "version_major": 2,
       "version_minor": 0
      },
      "text/plain": [
       "Train:   0%|          | 0/394 [00:00<?, ?it/s]"
      ]
     },
     "metadata": {},
     "output_type": "display_data"
    },
    {
     "name": "stdout",
     "output_type": "stream",
     "text": [
      "[Epoch  3]: Average loss at 100 iterations: 1.632\n",
      "[Epoch  3]: Average loss at 200 iterations: 1.634\n",
      "[Epoch  3]: Average loss at 300 iterations: 1.633\n",
      "[Epoch  3]: Average loss at 394 iterations: 1.645\n"
     ]
    },
    {
     "data": {
      "application/vnd.jupyter.widget-view+json": {
       "model_id": "baf08d56af744b549f7b4db703be106b",
       "version_major": 2,
       "version_minor": 0
      },
      "text/plain": [
       "Train Acc:   0%|          | 0/394 [00:00<?, ?it/s]"
      ]
     },
     "metadata": {},
     "output_type": "display_data"
    },
    {
     "name": "stdout",
     "output_type": "stream",
     "text": [
      "[Epoch  3]: Train accuracy: 54.40%\n"
     ]
    },
    {
     "data": {
      "application/vnd.jupyter.widget-view+json": {
       "model_id": "2a96059ca2dd440cb018d2f3092cacf2",
       "version_major": 2,
       "version_minor": 0
      },
      "text/plain": [
       "Test Acc:   0%|          | 0/99 [00:00<?, ?it/s]"
      ]
     },
     "metadata": {},
     "output_type": "display_data"
    },
    {
     "name": "stdout",
     "output_type": "stream",
     "text": [
      "[Epoch  3]: Test accuracy: 37.32%\n"
     ]
    },
    {
     "data": {
      "application/vnd.jupyter.widget-view+json": {
       "model_id": "31c316edcb9d40cd839d8da991eb579e",
       "version_major": 2,
       "version_minor": 0
      },
      "text/plain": [
       "Train:   0%|          | 0/394 [00:00<?, ?it/s]"
      ]
     },
     "metadata": {},
     "output_type": "display_data"
    },
    {
     "name": "stdout",
     "output_type": "stream",
     "text": [
      "[Epoch  4]: Average loss at 100 iterations: 1.600\n",
      "[Epoch  4]: Average loss at 200 iterations: 1.608\n",
      "[Epoch  4]: Average loss at 300 iterations: 1.607\n",
      "[Epoch  4]: Average loss at 394 iterations: 1.610\n"
     ]
    },
    {
     "data": {
      "application/vnd.jupyter.widget-view+json": {
       "model_id": "f59f3d89b25a43b5a913f02d15f11d7d",
       "version_major": 2,
       "version_minor": 0
      },
      "text/plain": [
       "Train Acc:   0%|          | 0/394 [00:00<?, ?it/s]"
      ]
     },
     "metadata": {},
     "output_type": "display_data"
    },
    {
     "name": "stdout",
     "output_type": "stream",
     "text": [
      "[Epoch  4]: Train accuracy: 53.67%\n"
     ]
    },
    {
     "data": {
      "application/vnd.jupyter.widget-view+json": {
       "model_id": "953525fba74f45038f51589ac9510c3a",
       "version_major": 2,
       "version_minor": 0
      },
      "text/plain": [
       "Test Acc:   0%|          | 0/99 [00:00<?, ?it/s]"
      ]
     },
     "metadata": {},
     "output_type": "display_data"
    },
    {
     "name": "stdout",
     "output_type": "stream",
     "text": [
      "[Epoch  4]: Test accuracy: 37.56%\n"
     ]
    },
    {
     "data": {
      "application/vnd.jupyter.widget-view+json": {
       "model_id": "d30364323aa44099856a5f6fc4a58803",
       "version_major": 2,
       "version_minor": 0
      },
      "text/plain": [
       "Train:   0%|          | 0/394 [00:00<?, ?it/s]"
      ]
     },
     "metadata": {},
     "output_type": "display_data"
    },
    {
     "name": "stdout",
     "output_type": "stream",
     "text": [
      "[Epoch  5]: Average loss at 100 iterations: 1.568\n",
      "[Epoch  5]: Average loss at 200 iterations: 1.571\n",
      "[Epoch  5]: Average loss at 300 iterations: 1.580\n",
      "[Epoch  5]: Average loss at 394 iterations: 1.582\n"
     ]
    },
    {
     "data": {
      "application/vnd.jupyter.widget-view+json": {
       "model_id": "ed8d7d0cd10f401aab8102956b9e03e5",
       "version_major": 2,
       "version_minor": 0
      },
      "text/plain": [
       "Train Acc:   0%|          | 0/394 [00:00<?, ?it/s]"
      ]
     },
     "metadata": {},
     "output_type": "display_data"
    },
    {
     "name": "stdout",
     "output_type": "stream",
     "text": [
      "[Epoch  5]: Train accuracy: 55.81%\n"
     ]
    },
    {
     "data": {
      "application/vnd.jupyter.widget-view+json": {
       "model_id": "0a7ca24b6d83480fbe247b655556c35a",
       "version_major": 2,
       "version_minor": 0
      },
      "text/plain": [
       "Test Acc:   0%|          | 0/99 [00:00<?, ?it/s]"
      ]
     },
     "metadata": {},
     "output_type": "display_data"
    },
    {
     "name": "stdout",
     "output_type": "stream",
     "text": [
      "[Epoch  5]: Test accuracy: 38.32%\n"
     ]
    },
    {
     "data": {
      "application/vnd.jupyter.widget-view+json": {
       "model_id": "501552f5c33f44c8b9288af49033980a",
       "version_major": 2,
       "version_minor": 0
      },
      "text/plain": [
       "Train:   0%|          | 0/394 [00:00<?, ?it/s]"
      ]
     },
     "metadata": {},
     "output_type": "display_data"
    },
    {
     "name": "stdout",
     "output_type": "stream",
     "text": [
      "[Epoch  6]: Average loss at 100 iterations: 1.534\n",
      "[Epoch  6]: Average loss at 200 iterations: 1.536\n",
      "[Epoch  6]: Average loss at 300 iterations: 1.553\n",
      "[Epoch  6]: Average loss at 394 iterations: 1.553\n"
     ]
    },
    {
     "data": {
      "application/vnd.jupyter.widget-view+json": {
       "model_id": "12e0976ce153452d89f4ef8751e88efc",
       "version_major": 2,
       "version_minor": 0
      },
      "text/plain": [
       "Train Acc:   0%|          | 0/394 [00:00<?, ?it/s]"
      ]
     },
     "metadata": {},
     "output_type": "display_data"
    },
    {
     "name": "stdout",
     "output_type": "stream",
     "text": [
      "[Epoch  6]: Train accuracy: 59.72%\n"
     ]
    },
    {
     "data": {
      "application/vnd.jupyter.widget-view+json": {
       "model_id": "ab4b5e8c592948bb98865168e41ab03c",
       "version_major": 2,
       "version_minor": 0
      },
      "text/plain": [
       "Test Acc:   0%|          | 0/99 [00:00<?, ?it/s]"
      ]
     },
     "metadata": {},
     "output_type": "display_data"
    },
    {
     "name": "stdout",
     "output_type": "stream",
     "text": [
      "[Epoch  6]: Test accuracy: 40.02%\n"
     ]
    },
    {
     "data": {
      "application/vnd.jupyter.widget-view+json": {
       "model_id": "35a5ef2104e24e9eb3f192f0937e6c96",
       "version_major": 2,
       "version_minor": 0
      },
      "text/plain": [
       "Train:   0%|          | 0/394 [00:00<?, ?it/s]"
      ]
     },
     "metadata": {},
     "output_type": "display_data"
    },
    {
     "name": "stdout",
     "output_type": "stream",
     "text": [
      "[Epoch  7]: Average loss at 100 iterations: 1.499\n",
      "[Epoch  7]: Average loss at 200 iterations: 1.493\n",
      "[Epoch  7]: Average loss at 300 iterations: 1.502\n",
      "[Epoch  7]: Average loss at 394 iterations: 1.514\n"
     ]
    },
    {
     "data": {
      "application/vnd.jupyter.widget-view+json": {
       "model_id": "e400e4bd4a504a4aa78119ee64127a40",
       "version_major": 2,
       "version_minor": 0
      },
      "text/plain": [
       "Train Acc:   0%|          | 0/394 [00:00<?, ?it/s]"
      ]
     },
     "metadata": {},
     "output_type": "display_data"
    },
    {
     "name": "stdout",
     "output_type": "stream",
     "text": [
      "[Epoch  7]: Train accuracy: 55.58%\n"
     ]
    },
    {
     "data": {
      "application/vnd.jupyter.widget-view+json": {
       "model_id": "5916ab2f00b64d8d9cf55930575a2fff",
       "version_major": 2,
       "version_minor": 0
      },
      "text/plain": [
       "Test Acc:   0%|          | 0/99 [00:00<?, ?it/s]"
      ]
     },
     "metadata": {},
     "output_type": "display_data"
    },
    {
     "name": "stdout",
     "output_type": "stream",
     "text": [
      "[Epoch  7]: Test accuracy: 38.40%\n"
     ]
    },
    {
     "data": {
      "application/vnd.jupyter.widget-view+json": {
       "model_id": "ec0b6d1970c140eaa9ec84adc3afef34",
       "version_major": 2,
       "version_minor": 0
      },
      "text/plain": [
       "Train:   0%|          | 0/394 [00:00<?, ?it/s]"
      ]
     },
     "metadata": {},
     "output_type": "display_data"
    },
    {
     "name": "stdout",
     "output_type": "stream",
     "text": [
      "[Epoch  8]: Average loss at 100 iterations: 1.483\n",
      "[Epoch  8]: Average loss at 200 iterations: 1.490\n",
      "[Epoch  8]: Average loss at 300 iterations: 1.496\n",
      "[Epoch  8]: Average loss at 394 iterations: 1.502\n"
     ]
    },
    {
     "data": {
      "application/vnd.jupyter.widget-view+json": {
       "model_id": "2b711e68e21c49f4bc1fc8936462bea1",
       "version_major": 2,
       "version_minor": 0
      },
      "text/plain": [
       "Train Acc:   0%|          | 0/394 [00:00<?, ?it/s]"
      ]
     },
     "metadata": {},
     "output_type": "display_data"
    },
    {
     "name": "stdout",
     "output_type": "stream",
     "text": [
      "[Epoch  8]: Train accuracy: 59.83%\n"
     ]
    },
    {
     "data": {
      "application/vnd.jupyter.widget-view+json": {
       "model_id": "a55965d5cc7b419d9c84b122b2f290af",
       "version_major": 2,
       "version_minor": 0
      },
      "text/plain": [
       "Test Acc:   0%|          | 0/99 [00:00<?, ?it/s]"
      ]
     },
     "metadata": {},
     "output_type": "display_data"
    },
    {
     "name": "stdout",
     "output_type": "stream",
     "text": [
      "[Epoch  8]: Test accuracy: 40.30%\n"
     ]
    },
    {
     "data": {
      "application/vnd.jupyter.widget-view+json": {
       "model_id": "ab22fd9a17564557999adabd8543f5dc",
       "version_major": 2,
       "version_minor": 0
      },
      "text/plain": [
       "Train:   0%|          | 0/394 [00:00<?, ?it/s]"
      ]
     },
     "metadata": {},
     "output_type": "display_data"
    },
    {
     "name": "stdout",
     "output_type": "stream",
     "text": [
      "[Epoch  9]: Average loss at 100 iterations: 1.414\n",
      "[Epoch  9]: Average loss at 200 iterations: 1.443\n",
      "[Epoch  9]: Average loss at 300 iterations: 1.455\n",
      "[Epoch  9]: Average loss at 394 iterations: 1.460\n"
     ]
    },
    {
     "data": {
      "application/vnd.jupyter.widget-view+json": {
       "model_id": "cdeb17caeb23404c88433515dcf2653b",
       "version_major": 2,
       "version_minor": 0
      },
      "text/plain": [
       "Train Acc:   0%|          | 0/394 [00:00<?, ?it/s]"
      ]
     },
     "metadata": {},
     "output_type": "display_data"
    },
    {
     "name": "stdout",
     "output_type": "stream",
     "text": [
      "[Epoch  9]: Train accuracy: 59.85%\n"
     ]
    },
    {
     "data": {
      "application/vnd.jupyter.widget-view+json": {
       "model_id": "a555a2d51652416c9e2f7a9ff56a05c2",
       "version_major": 2,
       "version_minor": 0
      },
      "text/plain": [
       "Test Acc:   0%|          | 0/99 [00:00<?, ?it/s]"
      ]
     },
     "metadata": {},
     "output_type": "display_data"
    },
    {
     "name": "stdout",
     "output_type": "stream",
     "text": [
      "[Epoch  9]: Test accuracy: 39.46%\n"
     ]
    },
    {
     "data": {
      "application/vnd.jupyter.widget-view+json": {
       "model_id": "230c66d578724bd8baeb11245ab1a471",
       "version_major": 2,
       "version_minor": 0
      },
      "text/plain": [
       "Train:   0%|          | 0/394 [00:00<?, ?it/s]"
      ]
     },
     "metadata": {},
     "output_type": "display_data"
    },
    {
     "name": "stdout",
     "output_type": "stream",
     "text": [
      "[Epoch 10]: Average loss at 100 iterations: 1.413\n",
      "[Epoch 10]: Average loss at 200 iterations: 1.430\n",
      "[Epoch 10]: Average loss at 300 iterations: 1.441\n",
      "[Epoch 10]: Average loss at 394 iterations: 1.445\n"
     ]
    },
    {
     "data": {
      "application/vnd.jupyter.widget-view+json": {
       "model_id": "d7de661617db4a31b1d9d85d2b3271ed",
       "version_major": 2,
       "version_minor": 0
      },
      "text/plain": [
       "Train Acc:   0%|          | 0/394 [00:00<?, ?it/s]"
      ]
     },
     "metadata": {},
     "output_type": "display_data"
    },
    {
     "name": "stdout",
     "output_type": "stream",
     "text": [
      "[Epoch 10]: Train accuracy: 59.76%\n"
     ]
    },
    {
     "data": {
      "application/vnd.jupyter.widget-view+json": {
       "model_id": "c4bcab7c187c42ca93065418e0dde55b",
       "version_major": 2,
       "version_minor": 0
      },
      "text/plain": [
       "Test Acc:   0%|          | 0/99 [00:00<?, ?it/s]"
      ]
     },
     "metadata": {},
     "output_type": "display_data"
    },
    {
     "name": "stdout",
     "output_type": "stream",
     "text": [
      "[Epoch 10]: Test accuracy: 38.44%\n"
     ]
    },
    {
     "data": {
      "application/vnd.jupyter.widget-view+json": {
       "model_id": "9c329624014844b2aac29332cfebd834",
       "version_major": 2,
       "version_minor": 0
      },
      "text/plain": [
       "Train:   0%|          | 0/394 [00:00<?, ?it/s]"
      ]
     },
     "metadata": {},
     "output_type": "display_data"
    },
    {
     "name": "stdout",
     "output_type": "stream",
     "text": [
      "[Epoch 11]: Average loss at 100 iterations: 1.417\n",
      "[Epoch 11]: Average loss at 200 iterations: 1.417\n",
      "[Epoch 11]: Average loss at 300 iterations: 1.416\n",
      "[Epoch 11]: Average loss at 394 iterations: 1.422\n"
     ]
    },
    {
     "data": {
      "application/vnd.jupyter.widget-view+json": {
       "model_id": "2d3125b4bb274c94a358b28bb4b99987",
       "version_major": 2,
       "version_minor": 0
      },
      "text/plain": [
       "Train Acc:   0%|          | 0/394 [00:00<?, ?it/s]"
      ]
     },
     "metadata": {},
     "output_type": "display_data"
    },
    {
     "name": "stdout",
     "output_type": "stream",
     "text": [
      "[Epoch 11]: Train accuracy: 62.06%\n"
     ]
    },
    {
     "data": {
      "application/vnd.jupyter.widget-view+json": {
       "model_id": "f649e724e28b4db1abe2ccb017183928",
       "version_major": 2,
       "version_minor": 0
      },
      "text/plain": [
       "Test Acc:   0%|          | 0/99 [00:00<?, ?it/s]"
      ]
     },
     "metadata": {},
     "output_type": "display_data"
    },
    {
     "name": "stdout",
     "output_type": "stream",
     "text": [
      "[Epoch 11]: Test accuracy: 40.52%\n"
     ]
    },
    {
     "data": {
      "application/vnd.jupyter.widget-view+json": {
       "model_id": "32b8cc24cf1b469bbebc6997f5497c58",
       "version_major": 2,
       "version_minor": 0
      },
      "text/plain": [
       "Train:   0%|          | 0/394 [00:00<?, ?it/s]"
      ]
     },
     "metadata": {},
     "output_type": "display_data"
    },
    {
     "name": "stdout",
     "output_type": "stream",
     "text": [
      "[Epoch 12]: Average loss at 100 iterations: 1.394\n",
      "[Epoch 12]: Average loss at 200 iterations: 1.394\n",
      "[Epoch 12]: Average loss at 300 iterations: 1.400\n",
      "[Epoch 12]: Average loss at 394 iterations: 1.402\n"
     ]
    },
    {
     "data": {
      "application/vnd.jupyter.widget-view+json": {
       "model_id": "ed077370adb942f788956511c6725b9a",
       "version_major": 2,
       "version_minor": 0
      },
      "text/plain": [
       "Train Acc:   0%|          | 0/394 [00:00<?, ?it/s]"
      ]
     },
     "metadata": {},
     "output_type": "display_data"
    },
    {
     "name": "stdout",
     "output_type": "stream",
     "text": [
      "[Epoch 12]: Train accuracy: 59.88%\n"
     ]
    },
    {
     "data": {
      "application/vnd.jupyter.widget-view+json": {
       "model_id": "9f93f8940c714d01aa9a709456949be8",
       "version_major": 2,
       "version_minor": 0
      },
      "text/plain": [
       "Test Acc:   0%|          | 0/99 [00:00<?, ?it/s]"
      ]
     },
     "metadata": {},
     "output_type": "display_data"
    },
    {
     "name": "stdout",
     "output_type": "stream",
     "text": [
      "[Epoch 12]: Test accuracy: 38.41%\n"
     ]
    },
    {
     "data": {
      "application/vnd.jupyter.widget-view+json": {
       "model_id": "ecd0eb5d81b548ae97c183b251f00978",
       "version_major": 2,
       "version_minor": 0
      },
      "text/plain": [
       "Train:   0%|          | 0/394 [00:00<?, ?it/s]"
      ]
     },
     "metadata": {},
     "output_type": "display_data"
    },
    {
     "name": "stdout",
     "output_type": "stream",
     "text": [
      "[Epoch 13]: Average loss at 100 iterations: 1.347\n",
      "[Epoch 13]: Average loss at 200 iterations: 1.364\n",
      "[Epoch 13]: Average loss at 300 iterations: 1.373\n",
      "[Epoch 13]: Average loss at 394 iterations: 1.376\n"
     ]
    },
    {
     "data": {
      "application/vnd.jupyter.widget-view+json": {
       "model_id": "490b8c17dfeb46758df40c206a28ee12",
       "version_major": 2,
       "version_minor": 0
      },
      "text/plain": [
       "Train Acc:   0%|          | 0/394 [00:00<?, ?it/s]"
      ]
     },
     "metadata": {},
     "output_type": "display_data"
    },
    {
     "name": "stdout",
     "output_type": "stream",
     "text": [
      "[Epoch 13]: Train accuracy: 63.02%\n"
     ]
    },
    {
     "data": {
      "application/vnd.jupyter.widget-view+json": {
       "model_id": "dd410fd332544a298c2d72ebb2591740",
       "version_major": 2,
       "version_minor": 0
      },
      "text/plain": [
       "Test Acc:   0%|          | 0/99 [00:00<?, ?it/s]"
      ]
     },
     "metadata": {},
     "output_type": "display_data"
    },
    {
     "name": "stdout",
     "output_type": "stream",
     "text": [
      "[Epoch 13]: Test accuracy: 40.38%\n"
     ]
    },
    {
     "data": {
      "application/vnd.jupyter.widget-view+json": {
       "model_id": "e9feb54cd5e04bc8a49de6819b6b149b",
       "version_major": 2,
       "version_minor": 0
      },
      "text/plain": [
       "Train:   0%|          | 0/394 [00:00<?, ?it/s]"
      ]
     },
     "metadata": {},
     "output_type": "display_data"
    },
    {
     "name": "stdout",
     "output_type": "stream",
     "text": [
      "[Epoch 14]: Average loss at 100 iterations: 1.352\n",
      "[Epoch 14]: Average loss at 200 iterations: 1.346\n",
      "[Epoch 14]: Average loss at 300 iterations: 1.356\n",
      "[Epoch 14]: Average loss at 394 iterations: 1.360\n"
     ]
    },
    {
     "data": {
      "application/vnd.jupyter.widget-view+json": {
       "model_id": "5d0707df71a8479e81ac5b900b3f42bc",
       "version_major": 2,
       "version_minor": 0
      },
      "text/plain": [
       "Train Acc:   0%|          | 0/394 [00:00<?, ?it/s]"
      ]
     },
     "metadata": {},
     "output_type": "display_data"
    },
    {
     "name": "stdout",
     "output_type": "stream",
     "text": [
      "[Epoch 14]: Train accuracy: 65.61%\n"
     ]
    },
    {
     "data": {
      "application/vnd.jupyter.widget-view+json": {
       "model_id": "3acb08b321e14f8daa7c9629261f8092",
       "version_major": 2,
       "version_minor": 0
      },
      "text/plain": [
       "Test Acc:   0%|          | 0/99 [00:00<?, ?it/s]"
      ]
     },
     "metadata": {},
     "output_type": "display_data"
    },
    {
     "name": "stdout",
     "output_type": "stream",
     "text": [
      "[Epoch 14]: Test accuracy: 40.83%\n"
     ]
    },
    {
     "data": {
      "application/vnd.jupyter.widget-view+json": {
       "model_id": "a94242549e524b758989bbfd9e28c665",
       "version_major": 2,
       "version_minor": 0
      },
      "text/plain": [
       "Train:   0%|          | 0/394 [00:00<?, ?it/s]"
      ]
     },
     "metadata": {},
     "output_type": "display_data"
    },
    {
     "name": "stdout",
     "output_type": "stream",
     "text": [
      "[Epoch 15]: Average loss at 100 iterations: 1.313\n",
      "[Epoch 15]: Average loss at 200 iterations: 1.311\n",
      "[Epoch 15]: Average loss at 300 iterations: 1.320\n",
      "[Epoch 15]: Average loss at 394 iterations: 1.326\n"
     ]
    },
    {
     "data": {
      "application/vnd.jupyter.widget-view+json": {
       "model_id": "807f2e08b34d419cb37171c2713d2a72",
       "version_major": 2,
       "version_minor": 0
      },
      "text/plain": [
       "Train Acc:   0%|          | 0/394 [00:00<?, ?it/s]"
      ]
     },
     "metadata": {},
     "output_type": "display_data"
    },
    {
     "name": "stdout",
     "output_type": "stream",
     "text": [
      "[Epoch 15]: Train accuracy: 67.22%\n"
     ]
    },
    {
     "data": {
      "application/vnd.jupyter.widget-view+json": {
       "model_id": "a878873f9d7749c9827179f63c98f4b6",
       "version_major": 2,
       "version_minor": 0
      },
      "text/plain": [
       "Test Acc:   0%|          | 0/99 [00:00<?, ?it/s]"
      ]
     },
     "metadata": {},
     "output_type": "display_data"
    },
    {
     "name": "stdout",
     "output_type": "stream",
     "text": [
      "[Epoch 15]: Test accuracy: 41.10%\n"
     ]
    },
    {
     "data": {
      "application/vnd.jupyter.widget-view+json": {
       "model_id": "da291060e96f48f6b68cf34b9d51365b",
       "version_major": 2,
       "version_minor": 0
      },
      "text/plain": [
       "Train:   0%|          | 0/394 [00:00<?, ?it/s]"
      ]
     },
     "metadata": {},
     "output_type": "display_data"
    },
    {
     "name": "stdout",
     "output_type": "stream",
     "text": [
      "[Epoch 16]: Average loss at 100 iterations: 1.301\n",
      "[Epoch 16]: Average loss at 200 iterations: 1.294\n",
      "[Epoch 16]: Average loss at 300 iterations: 1.299\n",
      "[Epoch 16]: Average loss at 394 iterations: 1.304\n"
     ]
    },
    {
     "data": {
      "application/vnd.jupyter.widget-view+json": {
       "model_id": "fb503bf4e1e4499ebe23293cb8e0c375",
       "version_major": 2,
       "version_minor": 0
      },
      "text/plain": [
       "Train Acc:   0%|          | 0/394 [00:00<?, ?it/s]"
      ]
     },
     "metadata": {},
     "output_type": "display_data"
    },
    {
     "name": "stdout",
     "output_type": "stream",
     "text": [
      "[Epoch 16]: Train accuracy: 69.94%\n"
     ]
    },
    {
     "data": {
      "application/vnd.jupyter.widget-view+json": {
       "model_id": "c706dd936e02436bbc076e71bf3f7036",
       "version_major": 2,
       "version_minor": 0
      },
      "text/plain": [
       "Test Acc:   0%|          | 0/99 [00:00<?, ?it/s]"
      ]
     },
     "metadata": {},
     "output_type": "display_data"
    },
    {
     "name": "stdout",
     "output_type": "stream",
     "text": [
      "[Epoch 16]: Test accuracy: 42.41%\n"
     ]
    },
    {
     "data": {
      "application/vnd.jupyter.widget-view+json": {
       "model_id": "064248202f7e438b9269d480b3342cfc",
       "version_major": 2,
       "version_minor": 0
      },
      "text/plain": [
       "Train:   0%|          | 0/394 [00:00<?, ?it/s]"
      ]
     },
     "metadata": {},
     "output_type": "display_data"
    },
    {
     "name": "stdout",
     "output_type": "stream",
     "text": [
      "[Epoch 17]: Average loss at 100 iterations: 1.295\n",
      "[Epoch 17]: Average loss at 200 iterations: 1.277\n",
      "[Epoch 17]: Average loss at 300 iterations: 1.280\n",
      "[Epoch 17]: Average loss at 394 iterations: 1.288\n"
     ]
    },
    {
     "data": {
      "application/vnd.jupyter.widget-view+json": {
       "model_id": "33da42ec4f854b5891955d3afa1c5f50",
       "version_major": 2,
       "version_minor": 0
      },
      "text/plain": [
       "Train Acc:   0%|          | 0/394 [00:00<?, ?it/s]"
      ]
     },
     "metadata": {},
     "output_type": "display_data"
    },
    {
     "name": "stdout",
     "output_type": "stream",
     "text": [
      "[Epoch 17]: Train accuracy: 69.48%\n"
     ]
    },
    {
     "data": {
      "application/vnd.jupyter.widget-view+json": {
       "model_id": "3243d9adabf749a8943a0ec312700d2f",
       "version_major": 2,
       "version_minor": 0
      },
      "text/plain": [
       "Test Acc:   0%|          | 0/99 [00:00<?, ?it/s]"
      ]
     },
     "metadata": {},
     "output_type": "display_data"
    },
    {
     "name": "stdout",
     "output_type": "stream",
     "text": [
      "[Epoch 17]: Test accuracy: 41.92%\n"
     ]
    },
    {
     "data": {
      "application/vnd.jupyter.widget-view+json": {
       "model_id": "3c07e9587c0a42d2b4415bc44d9927f3",
       "version_major": 2,
       "version_minor": 0
      },
      "text/plain": [
       "Train:   0%|          | 0/394 [00:00<?, ?it/s]"
      ]
     },
     "metadata": {},
     "output_type": "display_data"
    },
    {
     "name": "stdout",
     "output_type": "stream",
     "text": [
      "[Epoch 18]: Average loss at 100 iterations: 1.229\n",
      "[Epoch 18]: Average loss at 200 iterations: 1.243\n",
      "[Epoch 18]: Average loss at 300 iterations: 1.248\n",
      "[Epoch 18]: Average loss at 394 iterations: 1.254\n"
     ]
    },
    {
     "data": {
      "application/vnd.jupyter.widget-view+json": {
       "model_id": "9e0e0cf1eb2c40918127e9e39af756fa",
       "version_major": 2,
       "version_minor": 0
      },
      "text/plain": [
       "Train Acc:   0%|          | 0/394 [00:00<?, ?it/s]"
      ]
     },
     "metadata": {},
     "output_type": "display_data"
    },
    {
     "name": "stdout",
     "output_type": "stream",
     "text": [
      "[Epoch 18]: Train accuracy: 69.31%\n"
     ]
    },
    {
     "data": {
      "application/vnd.jupyter.widget-view+json": {
       "model_id": "d99c00222cff4b7dab0318021eff53e1",
       "version_major": 2,
       "version_minor": 0
      },
      "text/plain": [
       "Test Acc:   0%|          | 0/99 [00:00<?, ?it/s]"
      ]
     },
     "metadata": {},
     "output_type": "display_data"
    },
    {
     "name": "stdout",
     "output_type": "stream",
     "text": [
      "[Epoch 18]: Test accuracy: 41.10%\n"
     ]
    },
    {
     "data": {
      "application/vnd.jupyter.widget-view+json": {
       "model_id": "ecfe8d904d03476aaaa2073cabee00e7",
       "version_major": 2,
       "version_minor": 0
      },
      "text/plain": [
       "Train:   0%|          | 0/394 [00:00<?, ?it/s]"
      ]
     },
     "metadata": {},
     "output_type": "display_data"
    },
    {
     "name": "stdout",
     "output_type": "stream",
     "text": [
      "[Epoch 19]: Average loss at 100 iterations: 1.185\n",
      "[Epoch 19]: Average loss at 200 iterations: 1.207\n",
      "[Epoch 19]: Average loss at 300 iterations: 1.236\n",
      "[Epoch 19]: Average loss at 394 iterations: 1.240\n"
     ]
    },
    {
     "data": {
      "application/vnd.jupyter.widget-view+json": {
       "model_id": "6a341fa380e04fe5ad6323667361e464",
       "version_major": 2,
       "version_minor": 0
      },
      "text/plain": [
       "Train Acc:   0%|          | 0/394 [00:00<?, ?it/s]"
      ]
     },
     "metadata": {},
     "output_type": "display_data"
    },
    {
     "name": "stdout",
     "output_type": "stream",
     "text": [
      "[Epoch 19]: Train accuracy: 68.53%\n"
     ]
    },
    {
     "data": {
      "application/vnd.jupyter.widget-view+json": {
       "model_id": "379395f5b1d9444f99ec4250ae1ba3b1",
       "version_major": 2,
       "version_minor": 0
      },
      "text/plain": [
       "Test Acc:   0%|          | 0/99 [00:00<?, ?it/s]"
      ]
     },
     "metadata": {},
     "output_type": "display_data"
    },
    {
     "name": "stdout",
     "output_type": "stream",
     "text": [
      "[Epoch 19]: Test accuracy: 40.86%\n"
     ]
    },
    {
     "data": {
      "application/vnd.jupyter.widget-view+json": {
       "model_id": "7be9e4dadc7247b28ba2b0fa5c2613ae",
       "version_major": 2,
       "version_minor": 0
      },
      "text/plain": [
       "Train:   0%|          | 0/394 [00:00<?, ?it/s]"
      ]
     },
     "metadata": {},
     "output_type": "display_data"
    },
    {
     "name": "stdout",
     "output_type": "stream",
     "text": [
      "[Epoch 20]: Average loss at 100 iterations: 1.198\n",
      "[Epoch 20]: Average loss at 200 iterations: 1.200\n",
      "[Epoch 20]: Average loss at 300 iterations: 1.204\n",
      "[Epoch 20]: Average loss at 394 iterations: 1.214\n"
     ]
    },
    {
     "data": {
      "application/vnd.jupyter.widget-view+json": {
       "model_id": "0569aaeb933d4dba82cd06eccb68a399",
       "version_major": 2,
       "version_minor": 0
      },
      "text/plain": [
       "Train Acc:   0%|          | 0/394 [00:00<?, ?it/s]"
      ]
     },
     "metadata": {},
     "output_type": "display_data"
    },
    {
     "name": "stdout",
     "output_type": "stream",
     "text": [
      "[Epoch 20]: Train accuracy: 71.62%\n"
     ]
    },
    {
     "data": {
      "application/vnd.jupyter.widget-view+json": {
       "model_id": "85a9bc06962a4f10a9bbe86488359b16",
       "version_major": 2,
       "version_minor": 0
      },
      "text/plain": [
       "Test Acc:   0%|          | 0/99 [00:00<?, ?it/s]"
      ]
     },
     "metadata": {},
     "output_type": "display_data"
    },
    {
     "name": "stdout",
     "output_type": "stream",
     "text": [
      "[Epoch 20]: Test accuracy: 42.06%\n"
     ]
    },
    {
     "data": {
      "application/vnd.jupyter.widget-view+json": {
       "model_id": "147bbbcb74ef4c9a848b4e0e4c251eb1",
       "version_major": 2,
       "version_minor": 0
      },
      "text/plain": [
       "Train:   0%|          | 0/394 [00:00<?, ?it/s]"
      ]
     },
     "metadata": {},
     "output_type": "display_data"
    },
    {
     "name": "stdout",
     "output_type": "stream",
     "text": [
      "[Epoch 21]: Average loss at 100 iterations: 1.148\n",
      "[Epoch 21]: Average loss at 200 iterations: 1.169\n",
      "[Epoch 21]: Average loss at 300 iterations: 1.181\n",
      "[Epoch 21]: Average loss at 394 iterations: 1.183\n"
     ]
    },
    {
     "data": {
      "application/vnd.jupyter.widget-view+json": {
       "model_id": "a4f5e132145448be9570d792628d24d8",
       "version_major": 2,
       "version_minor": 0
      },
      "text/plain": [
       "Train Acc:   0%|          | 0/394 [00:00<?, ?it/s]"
      ]
     },
     "metadata": {},
     "output_type": "display_data"
    },
    {
     "name": "stdout",
     "output_type": "stream",
     "text": [
      "[Epoch 21]: Train accuracy: 73.62%\n"
     ]
    },
    {
     "data": {
      "application/vnd.jupyter.widget-view+json": {
       "model_id": "10950163205a4c808fb199c5cf9d6ebf",
       "version_major": 2,
       "version_minor": 0
      },
      "text/plain": [
       "Test Acc:   0%|          | 0/99 [00:00<?, ?it/s]"
      ]
     },
     "metadata": {},
     "output_type": "display_data"
    },
    {
     "name": "stdout",
     "output_type": "stream",
     "text": [
      "[Epoch 21]: Test accuracy: 42.49%\n"
     ]
    },
    {
     "data": {
      "application/vnd.jupyter.widget-view+json": {
       "model_id": "460e784f442e4a9a9dc43b2404b21408",
       "version_major": 2,
       "version_minor": 0
      },
      "text/plain": [
       "Train:   0%|          | 0/394 [00:00<?, ?it/s]"
      ]
     },
     "metadata": {},
     "output_type": "display_data"
    },
    {
     "name": "stdout",
     "output_type": "stream",
     "text": [
      "[Epoch 22]: Average loss at 100 iterations: 1.122\n",
      "[Epoch 22]: Average loss at 200 iterations: 1.140\n",
      "[Epoch 22]: Average loss at 300 iterations: 1.153\n",
      "[Epoch 22]: Average loss at 394 iterations: 1.165\n"
     ]
    },
    {
     "data": {
      "application/vnd.jupyter.widget-view+json": {
       "model_id": "7379b9da204a41938580fa7008b21321",
       "version_major": 2,
       "version_minor": 0
      },
      "text/plain": [
       "Train Acc:   0%|          | 0/394 [00:00<?, ?it/s]"
      ]
     },
     "metadata": {},
     "output_type": "display_data"
    },
    {
     "name": "stdout",
     "output_type": "stream",
     "text": [
      "[Epoch 22]: Train accuracy: 72.70%\n"
     ]
    },
    {
     "data": {
      "application/vnd.jupyter.widget-view+json": {
       "model_id": "e92d92147f3549778ac9078b538eef8a",
       "version_major": 2,
       "version_minor": 0
      },
      "text/plain": [
       "Test Acc:   0%|          | 0/99 [00:00<?, ?it/s]"
      ]
     },
     "metadata": {},
     "output_type": "display_data"
    },
    {
     "name": "stdout",
     "output_type": "stream",
     "text": [
      "[Epoch 22]: Test accuracy: 42.19%\n"
     ]
    },
    {
     "data": {
      "application/vnd.jupyter.widget-view+json": {
       "model_id": "ddfde485bc674a51ad7648104865bdcc",
       "version_major": 2,
       "version_minor": 0
      },
      "text/plain": [
       "Train:   0%|          | 0/394 [00:00<?, ?it/s]"
      ]
     },
     "metadata": {},
     "output_type": "display_data"
    },
    {
     "name": "stdout",
     "output_type": "stream",
     "text": [
      "[Epoch 23]: Average loss at 100 iterations: 1.121\n",
      "[Epoch 23]: Average loss at 200 iterations: 1.144\n",
      "[Epoch 23]: Average loss at 300 iterations: 1.140\n",
      "[Epoch 23]: Average loss at 394 iterations: 1.142\n"
     ]
    },
    {
     "data": {
      "application/vnd.jupyter.widget-view+json": {
       "model_id": "9ef8aee79578456d97ee89064e55c202",
       "version_major": 2,
       "version_minor": 0
      },
      "text/plain": [
       "Train Acc:   0%|          | 0/394 [00:00<?, ?it/s]"
      ]
     },
     "metadata": {},
     "output_type": "display_data"
    },
    {
     "name": "stdout",
     "output_type": "stream",
     "text": [
      "[Epoch 23]: Train accuracy: 76.23%\n"
     ]
    },
    {
     "data": {
      "application/vnd.jupyter.widget-view+json": {
       "model_id": "1d4fe1fd4cea4575a2f8e9d8e0ed4318",
       "version_major": 2,
       "version_minor": 0
      },
      "text/plain": [
       "Test Acc:   0%|          | 0/99 [00:00<?, ?it/s]"
      ]
     },
     "metadata": {},
     "output_type": "display_data"
    },
    {
     "name": "stdout",
     "output_type": "stream",
     "text": [
      "[Epoch 23]: Test accuracy: 42.48%\n"
     ]
    },
    {
     "data": {
      "application/vnd.jupyter.widget-view+json": {
       "model_id": "4704ac4389a848cfb5865ca660341e4e",
       "version_major": 2,
       "version_minor": 0
      },
      "text/plain": [
       "Train:   0%|          | 0/394 [00:00<?, ?it/s]"
      ]
     },
     "metadata": {},
     "output_type": "display_data"
    },
    {
     "name": "stdout",
     "output_type": "stream",
     "text": [
      "[Epoch 24]: Average loss at 100 iterations: 1.077\n",
      "[Epoch 24]: Average loss at 200 iterations: 1.102\n",
      "[Epoch 24]: Average loss at 300 iterations: 1.118\n",
      "[Epoch 24]: Average loss at 394 iterations: 1.123\n"
     ]
    },
    {
     "data": {
      "application/vnd.jupyter.widget-view+json": {
       "model_id": "983a30579e614635b5d95da8219d90af",
       "version_major": 2,
       "version_minor": 0
      },
      "text/plain": [
       "Train Acc:   0%|          | 0/394 [00:00<?, ?it/s]"
      ]
     },
     "metadata": {},
     "output_type": "display_data"
    },
    {
     "name": "stdout",
     "output_type": "stream",
     "text": [
      "[Epoch 24]: Train accuracy: 73.64%\n"
     ]
    },
    {
     "data": {
      "application/vnd.jupyter.widget-view+json": {
       "model_id": "598b8f64f2014544bddba20c2699c66c",
       "version_major": 2,
       "version_minor": 0
      },
      "text/plain": [
       "Test Acc:   0%|          | 0/99 [00:00<?, ?it/s]"
      ]
     },
     "metadata": {},
     "output_type": "display_data"
    },
    {
     "name": "stdout",
     "output_type": "stream",
     "text": [
      "[Epoch 24]: Test accuracy: 42.57%\n"
     ]
    },
    {
     "data": {
      "application/vnd.jupyter.widget-view+json": {
       "model_id": "6ccd1d61129f4ecaace9ca579f06e0d3",
       "version_major": 2,
       "version_minor": 0
      },
      "text/plain": [
       "Train:   0%|          | 0/394 [00:00<?, ?it/s]"
      ]
     },
     "metadata": {},
     "output_type": "display_data"
    },
    {
     "name": "stdout",
     "output_type": "stream",
     "text": [
      "[Epoch 25]: Average loss at 100 iterations: 1.114\n",
      "[Epoch 25]: Average loss at 200 iterations: 1.109\n",
      "[Epoch 25]: Average loss at 300 iterations: 1.108\n",
      "[Epoch 25]: Average loss at 394 iterations: 1.108\n"
     ]
    },
    {
     "data": {
      "application/vnd.jupyter.widget-view+json": {
       "model_id": "6142eef091fe4bff896a57a761682f53",
       "version_major": 2,
       "version_minor": 0
      },
      "text/plain": [
       "Train Acc:   0%|          | 0/394 [00:00<?, ?it/s]"
      ]
     },
     "metadata": {},
     "output_type": "display_data"
    },
    {
     "name": "stdout",
     "output_type": "stream",
     "text": [
      "[Epoch 25]: Train accuracy: 76.79%\n"
     ]
    },
    {
     "data": {
      "application/vnd.jupyter.widget-view+json": {
       "model_id": "9a94c4859c154e4ca0c4363db17d9421",
       "version_major": 2,
       "version_minor": 0
      },
      "text/plain": [
       "Test Acc:   0%|          | 0/99 [00:00<?, ?it/s]"
      ]
     },
     "metadata": {},
     "output_type": "display_data"
    },
    {
     "name": "stdout",
     "output_type": "stream",
     "text": [
      "[Epoch 25]: Test accuracy: 42.95%\n"
     ]
    },
    {
     "data": {
      "application/vnd.jupyter.widget-view+json": {
       "model_id": "f11a1548418840949fcd8638361523cb",
       "version_major": 2,
       "version_minor": 0
      },
      "text/plain": [
       "Train:   0%|          | 0/394 [00:00<?, ?it/s]"
      ]
     },
     "metadata": {},
     "output_type": "display_data"
    },
    {
     "name": "stdout",
     "output_type": "stream",
     "text": [
      "[Epoch 26]: Average loss at 100 iterations: 1.079\n",
      "[Epoch 26]: Average loss at 200 iterations: 1.063\n",
      "[Epoch 26]: Average loss at 300 iterations: 1.066\n",
      "[Epoch 26]: Average loss at 394 iterations: 1.074\n"
     ]
    },
    {
     "data": {
      "application/vnd.jupyter.widget-view+json": {
       "model_id": "c1303b85f70f4747b5d91eb36c9ba5ae",
       "version_major": 2,
       "version_minor": 0
      },
      "text/plain": [
       "Train Acc:   0%|          | 0/394 [00:00<?, ?it/s]"
      ]
     },
     "metadata": {},
     "output_type": "display_data"
    },
    {
     "name": "stdout",
     "output_type": "stream",
     "text": [
      "[Epoch 26]: Train accuracy: 79.48%\n"
     ]
    },
    {
     "data": {
      "application/vnd.jupyter.widget-view+json": {
       "model_id": "b3c2b78b6f8d45a1b044a69a2af37a19",
       "version_major": 2,
       "version_minor": 0
      },
      "text/plain": [
       "Test Acc:   0%|          | 0/99 [00:00<?, ?it/s]"
      ]
     },
     "metadata": {},
     "output_type": "display_data"
    },
    {
     "name": "stdout",
     "output_type": "stream",
     "text": [
      "[Epoch 26]: Test accuracy: 44.94%\n"
     ]
    },
    {
     "data": {
      "application/vnd.jupyter.widget-view+json": {
       "model_id": "91c49051cdc54f34b2b9798045419ae2",
       "version_major": 2,
       "version_minor": 0
      },
      "text/plain": [
       "Train:   0%|          | 0/394 [00:00<?, ?it/s]"
      ]
     },
     "metadata": {},
     "output_type": "display_data"
    },
    {
     "name": "stdout",
     "output_type": "stream",
     "text": [
      "[Epoch 27]: Average loss at 100 iterations: 1.025\n",
      "[Epoch 27]: Average loss at 200 iterations: 1.051\n",
      "[Epoch 27]: Average loss at 300 iterations: 1.060\n",
      "[Epoch 27]: Average loss at 394 iterations: 1.065\n"
     ]
    },
    {
     "data": {
      "application/vnd.jupyter.widget-view+json": {
       "model_id": "b5ec850aff19492d974adf23a3cb4bcd",
       "version_major": 2,
       "version_minor": 0
      },
      "text/plain": [
       "Train Acc:   0%|          | 0/394 [00:00<?, ?it/s]"
      ]
     },
     "metadata": {},
     "output_type": "display_data"
    },
    {
     "name": "stdout",
     "output_type": "stream",
     "text": [
      "[Epoch 27]: Train accuracy: 75.90%\n"
     ]
    },
    {
     "data": {
      "application/vnd.jupyter.widget-view+json": {
       "model_id": "194fe88389474f8f8258c6606f332702",
       "version_major": 2,
       "version_minor": 0
      },
      "text/plain": [
       "Test Acc:   0%|          | 0/99 [00:00<?, ?it/s]"
      ]
     },
     "metadata": {},
     "output_type": "display_data"
    },
    {
     "name": "stdout",
     "output_type": "stream",
     "text": [
      "[Epoch 27]: Test accuracy: 42.19%\n"
     ]
    },
    {
     "data": {
      "application/vnd.jupyter.widget-view+json": {
       "model_id": "978236860c974921a252f2718a538a3c",
       "version_major": 2,
       "version_minor": 0
      },
      "text/plain": [
       "Train:   0%|          | 0/394 [00:00<?, ?it/s]"
      ]
     },
     "metadata": {},
     "output_type": "display_data"
    },
    {
     "name": "stdout",
     "output_type": "stream",
     "text": [
      "[Epoch 28]: Average loss at 100 iterations: 1.017\n",
      "[Epoch 28]: Average loss at 200 iterations: 1.035\n",
      "[Epoch 28]: Average loss at 300 iterations: 1.041\n",
      "[Epoch 28]: Average loss at 394 iterations: 1.045\n"
     ]
    },
    {
     "data": {
      "application/vnd.jupyter.widget-view+json": {
       "model_id": "992f2fcc6e4347baa67e6263f6700d28",
       "version_major": 2,
       "version_minor": 0
      },
      "text/plain": [
       "Train Acc:   0%|          | 0/394 [00:00<?, ?it/s]"
      ]
     },
     "metadata": {},
     "output_type": "display_data"
    },
    {
     "name": "stdout",
     "output_type": "stream",
     "text": [
      "[Epoch 28]: Train accuracy: 78.47%\n"
     ]
    },
    {
     "data": {
      "application/vnd.jupyter.widget-view+json": {
       "model_id": "482210c051e74ec0be22033abdc8c565",
       "version_major": 2,
       "version_minor": 0
      },
      "text/plain": [
       "Test Acc:   0%|          | 0/99 [00:00<?, ?it/s]"
      ]
     },
     "metadata": {},
     "output_type": "display_data"
    },
    {
     "name": "stdout",
     "output_type": "stream",
     "text": [
      "[Epoch 28]: Test accuracy: 43.46%\n"
     ]
    },
    {
     "data": {
      "application/vnd.jupyter.widget-view+json": {
       "model_id": "606733b11b6143cc8dff26276a20f11f",
       "version_major": 2,
       "version_minor": 0
      },
      "text/plain": [
       "Train:   0%|          | 0/394 [00:00<?, ?it/s]"
      ]
     },
     "metadata": {},
     "output_type": "display_data"
    },
    {
     "name": "stdout",
     "output_type": "stream",
     "text": [
      "[Epoch 29]: Average loss at 100 iterations: 1.013\n",
      "[Epoch 29]: Average loss at 200 iterations: 1.009\n",
      "[Epoch 29]: Average loss at 300 iterations: 1.016\n",
      "[Epoch 29]: Average loss at 394 iterations: 1.019\n"
     ]
    },
    {
     "data": {
      "application/vnd.jupyter.widget-view+json": {
       "model_id": "b9b6b1010c804ee98e5979bbddf73421",
       "version_major": 2,
       "version_minor": 0
      },
      "text/plain": [
       "Train Acc:   0%|          | 0/394 [00:00<?, ?it/s]"
      ]
     },
     "metadata": {},
     "output_type": "display_data"
    },
    {
     "name": "stdout",
     "output_type": "stream",
     "text": [
      "[Epoch 29]: Train accuracy: 79.11%\n"
     ]
    },
    {
     "data": {
      "application/vnd.jupyter.widget-view+json": {
       "model_id": "85f68f368dd04dd6a72f7a0f84474faa",
       "version_major": 2,
       "version_minor": 0
      },
      "text/plain": [
       "Test Acc:   0%|          | 0/99 [00:00<?, ?it/s]"
      ]
     },
     "metadata": {},
     "output_type": "display_data"
    },
    {
     "name": "stdout",
     "output_type": "stream",
     "text": [
      "[Epoch 29]: Test accuracy: 42.95%\n"
     ]
    },
    {
     "data": {
      "application/vnd.jupyter.widget-view+json": {
       "model_id": "9abc9e9dc73b4f6b8ccb170c4d682b71",
       "version_major": 2,
       "version_minor": 0
      },
      "text/plain": [
       "Train:   0%|          | 0/394 [00:00<?, ?it/s]"
      ]
     },
     "metadata": {},
     "output_type": "display_data"
    },
    {
     "name": "stdout",
     "output_type": "stream",
     "text": [
      "[Epoch 30]: Average loss at 100 iterations: 0.976\n",
      "[Epoch 30]: Average loss at 200 iterations: 0.979\n",
      "[Epoch 30]: Average loss at 300 iterations: 0.997\n",
      "[Epoch 30]: Average loss at 394 iterations: 1.005\n"
     ]
    },
    {
     "data": {
      "application/vnd.jupyter.widget-view+json": {
       "model_id": "89ca96eede0343cf88dd5afe021e0557",
       "version_major": 2,
       "version_minor": 0
      },
      "text/plain": [
       "Train Acc:   0%|          | 0/394 [00:00<?, ?it/s]"
      ]
     },
     "metadata": {},
     "output_type": "display_data"
    },
    {
     "name": "stdout",
     "output_type": "stream",
     "text": [
      "[Epoch 30]: Train accuracy: 79.92%\n"
     ]
    },
    {
     "data": {
      "application/vnd.jupyter.widget-view+json": {
       "model_id": "06a838b4cfd845d3a33d4c3829a3c10d",
       "version_major": 2,
       "version_minor": 0
      },
      "text/plain": [
       "Test Acc:   0%|          | 0/99 [00:00<?, ?it/s]"
      ]
     },
     "metadata": {},
     "output_type": "display_data"
    },
    {
     "name": "stdout",
     "output_type": "stream",
     "text": [
      "[Epoch 30]: Test accuracy: 42.94%\n"
     ]
    },
    {
     "data": {
      "application/vnd.jupyter.widget-view+json": {
       "model_id": "1115f59255d44bb79eedf5c87118ba22",
       "version_major": 2,
       "version_minor": 0
      },
      "text/plain": [
       "Train:   0%|          | 0/394 [00:00<?, ?it/s]"
      ]
     },
     "metadata": {},
     "output_type": "display_data"
    },
    {
     "name": "stdout",
     "output_type": "stream",
     "text": [
      "[Epoch 31]: Average loss at 100 iterations: 0.980\n",
      "[Epoch 31]: Average loss at 200 iterations: 0.978\n",
      "[Epoch 31]: Average loss at 300 iterations: 0.985\n",
      "[Epoch 31]: Average loss at 394 iterations: 0.987\n"
     ]
    },
    {
     "data": {
      "application/vnd.jupyter.widget-view+json": {
       "model_id": "784676926e6249a190d7b412296ac7e7",
       "version_major": 2,
       "version_minor": 0
      },
      "text/plain": [
       "Train Acc:   0%|          | 0/394 [00:00<?, ?it/s]"
      ]
     },
     "metadata": {},
     "output_type": "display_data"
    },
    {
     "name": "stdout",
     "output_type": "stream",
     "text": [
      "[Epoch 31]: Train accuracy: 80.97%\n"
     ]
    },
    {
     "data": {
      "application/vnd.jupyter.widget-view+json": {
       "model_id": "2060a23ef7e14200b245d9f1e5282df9",
       "version_major": 2,
       "version_minor": 0
      },
      "text/plain": [
       "Test Acc:   0%|          | 0/99 [00:00<?, ?it/s]"
      ]
     },
     "metadata": {},
     "output_type": "display_data"
    },
    {
     "name": "stdout",
     "output_type": "stream",
     "text": [
      "[Epoch 31]: Test accuracy: 44.49%\n"
     ]
    },
    {
     "data": {
      "application/vnd.jupyter.widget-view+json": {
       "model_id": "8094a1c1da1a4a4bb188b95eb5e8c58b",
       "version_major": 2,
       "version_minor": 0
      },
      "text/plain": [
       "Train:   0%|          | 0/394 [00:00<?, ?it/s]"
      ]
     },
     "metadata": {},
     "output_type": "display_data"
    },
    {
     "name": "stdout",
     "output_type": "stream",
     "text": [
      "[Epoch 32]: Average loss at 100 iterations: 0.949\n",
      "[Epoch 32]: Average loss at 200 iterations: 0.957\n",
      "[Epoch 32]: Average loss at 300 iterations: 0.963\n",
      "[Epoch 32]: Average loss at 394 iterations: 0.972\n"
     ]
    },
    {
     "data": {
      "application/vnd.jupyter.widget-view+json": {
       "model_id": "72ed3ef4cb97489dbb8d6be832626184",
       "version_major": 2,
       "version_minor": 0
      },
      "text/plain": [
       "Train Acc:   0%|          | 0/394 [00:00<?, ?it/s]"
      ]
     },
     "metadata": {},
     "output_type": "display_data"
    },
    {
     "name": "stdout",
     "output_type": "stream",
     "text": [
      "[Epoch 32]: Train accuracy: 79.10%\n"
     ]
    },
    {
     "data": {
      "application/vnd.jupyter.widget-view+json": {
       "model_id": "476052ea93954bb694938499bf36e931",
       "version_major": 2,
       "version_minor": 0
      },
      "text/plain": [
       "Test Acc:   0%|          | 0/99 [00:00<?, ?it/s]"
      ]
     },
     "metadata": {},
     "output_type": "display_data"
    },
    {
     "name": "stdout",
     "output_type": "stream",
     "text": [
      "[Epoch 32]: Test accuracy: 42.79%\n"
     ]
    },
    {
     "data": {
      "application/vnd.jupyter.widget-view+json": {
       "model_id": "7979f9e9099447c3898dc0db509bac86",
       "version_major": 2,
       "version_minor": 0
      },
      "text/plain": [
       "Train:   0%|          | 0/394 [00:00<?, ?it/s]"
      ]
     },
     "metadata": {},
     "output_type": "display_data"
    },
    {
     "name": "stdout",
     "output_type": "stream",
     "text": [
      "[Epoch 33]: Average loss at 100 iterations: 0.930\n",
      "[Epoch 33]: Average loss at 200 iterations: 0.940\n",
      "[Epoch 33]: Average loss at 300 iterations: 0.947\n",
      "[Epoch 33]: Average loss at 394 iterations: 0.945\n"
     ]
    },
    {
     "data": {
      "application/vnd.jupyter.widget-view+json": {
       "model_id": "1eea78d2e9534eeaac86cabac55524c5",
       "version_major": 2,
       "version_minor": 0
      },
      "text/plain": [
       "Train Acc:   0%|          | 0/394 [00:00<?, ?it/s]"
      ]
     },
     "metadata": {},
     "output_type": "display_data"
    },
    {
     "name": "stdout",
     "output_type": "stream",
     "text": [
      "[Epoch 33]: Train accuracy: 81.69%\n"
     ]
    },
    {
     "data": {
      "application/vnd.jupyter.widget-view+json": {
       "model_id": "e97d0dc5faf84b8c911c143f3992ae56",
       "version_major": 2,
       "version_minor": 0
      },
      "text/plain": [
       "Test Acc:   0%|          | 0/99 [00:00<?, ?it/s]"
      ]
     },
     "metadata": {},
     "output_type": "display_data"
    },
    {
     "name": "stdout",
     "output_type": "stream",
     "text": [
      "[Epoch 33]: Test accuracy: 43.73%\n"
     ]
    },
    {
     "data": {
      "application/vnd.jupyter.widget-view+json": {
       "model_id": "7dd75fbd73d5406c97ad19fa59b40834",
       "version_major": 2,
       "version_minor": 0
      },
      "text/plain": [
       "Train:   0%|          | 0/394 [00:00<?, ?it/s]"
      ]
     },
     "metadata": {},
     "output_type": "display_data"
    },
    {
     "name": "stdout",
     "output_type": "stream",
     "text": [
      "[Epoch 34]: Average loss at 100 iterations: 0.909\n",
      "[Epoch 34]: Average loss at 200 iterations: 0.909\n",
      "[Epoch 34]: Average loss at 300 iterations: 0.924\n",
      "[Epoch 34]: Average loss at 394 iterations: 0.932\n"
     ]
    },
    {
     "data": {
      "application/vnd.jupyter.widget-view+json": {
       "model_id": "c1f15c41902a4e1cb0f26f9775884a70",
       "version_major": 2,
       "version_minor": 0
      },
      "text/plain": [
       "Train Acc:   0%|          | 0/394 [00:00<?, ?it/s]"
      ]
     },
     "metadata": {},
     "output_type": "display_data"
    },
    {
     "name": "stdout",
     "output_type": "stream",
     "text": [
      "[Epoch 34]: Train accuracy: 82.77%\n"
     ]
    },
    {
     "data": {
      "application/vnd.jupyter.widget-view+json": {
       "model_id": "880a6d3a23764d228b17bac7409de58a",
       "version_major": 2,
       "version_minor": 0
      },
      "text/plain": [
       "Test Acc:   0%|          | 0/99 [00:00<?, ?it/s]"
      ]
     },
     "metadata": {},
     "output_type": "display_data"
    },
    {
     "name": "stdout",
     "output_type": "stream",
     "text": [
      "[Epoch 34]: Test accuracy: 43.95%\n"
     ]
    },
    {
     "data": {
      "application/vnd.jupyter.widget-view+json": {
       "model_id": "89e8d4c05132481f99d2f9fa216b962b",
       "version_major": 2,
       "version_minor": 0
      },
      "text/plain": [
       "Train:   0%|          | 0/394 [00:00<?, ?it/s]"
      ]
     },
     "metadata": {},
     "output_type": "display_data"
    },
    {
     "name": "stdout",
     "output_type": "stream",
     "text": [
      "[Epoch 35]: Average loss at 100 iterations: 0.868\n",
      "[Epoch 35]: Average loss at 200 iterations: 0.895\n",
      "[Epoch 35]: Average loss at 300 iterations: 0.903\n",
      "[Epoch 35]: Average loss at 394 iterations: 0.915\n"
     ]
    },
    {
     "data": {
      "application/vnd.jupyter.widget-view+json": {
       "model_id": "f828ef0f6d064e0fb905539ab96f7226",
       "version_major": 2,
       "version_minor": 0
      },
      "text/plain": [
       "Train Acc:   0%|          | 0/394 [00:00<?, ?it/s]"
      ]
     },
     "metadata": {},
     "output_type": "display_data"
    },
    {
     "name": "stdout",
     "output_type": "stream",
     "text": [
      "[Epoch 35]: Train accuracy: 84.34%\n"
     ]
    },
    {
     "data": {
      "application/vnd.jupyter.widget-view+json": {
       "model_id": "d3802d170cf94aeca3621178823c92a6",
       "version_major": 2,
       "version_minor": 0
      },
      "text/plain": [
       "Test Acc:   0%|          | 0/99 [00:00<?, ?it/s]"
      ]
     },
     "metadata": {},
     "output_type": "display_data"
    },
    {
     "name": "stdout",
     "output_type": "stream",
     "text": [
      "[Epoch 35]: Test accuracy: 43.94%\n"
     ]
    },
    {
     "data": {
      "application/vnd.jupyter.widget-view+json": {
       "model_id": "128472dc5f0b40449aa506793e73044f",
       "version_major": 2,
       "version_minor": 0
      },
      "text/plain": [
       "Train:   0%|          | 0/394 [00:00<?, ?it/s]"
      ]
     },
     "metadata": {},
     "output_type": "display_data"
    },
    {
     "name": "stdout",
     "output_type": "stream",
     "text": [
      "[Epoch 36]: Average loss at 100 iterations: 0.887\n",
      "[Epoch 36]: Average loss at 200 iterations: 0.890\n",
      "[Epoch 36]: Average loss at 300 iterations: 0.886\n",
      "[Epoch 36]: Average loss at 394 iterations: 0.896\n"
     ]
    },
    {
     "data": {
      "application/vnd.jupyter.widget-view+json": {
       "model_id": "f3d4499dfda442729d4e044a8cfaa252",
       "version_major": 2,
       "version_minor": 0
      },
      "text/plain": [
       "Train Acc:   0%|          | 0/394 [00:00<?, ?it/s]"
      ]
     },
     "metadata": {},
     "output_type": "display_data"
    },
    {
     "name": "stdout",
     "output_type": "stream",
     "text": [
      "[Epoch 36]: Train accuracy: 85.77%\n"
     ]
    },
    {
     "data": {
      "application/vnd.jupyter.widget-view+json": {
       "model_id": "d944aa179b9947998d0fbce2bd900854",
       "version_major": 2,
       "version_minor": 0
      },
      "text/plain": [
       "Test Acc:   0%|          | 0/99 [00:00<?, ?it/s]"
      ]
     },
     "metadata": {},
     "output_type": "display_data"
    },
    {
     "name": "stdout",
     "output_type": "stream",
     "text": [
      "[Epoch 36]: Test accuracy: 45.22%\n"
     ]
    },
    {
     "data": {
      "application/vnd.jupyter.widget-view+json": {
       "model_id": "878c9d967c064ad186729f03bac04816",
       "version_major": 2,
       "version_minor": 0
      },
      "text/plain": [
       "Train:   0%|          | 0/394 [00:00<?, ?it/s]"
      ]
     },
     "metadata": {},
     "output_type": "display_data"
    },
    {
     "name": "stdout",
     "output_type": "stream",
     "text": [
      "[Epoch 37]: Average loss at 100 iterations: 0.865\n",
      "[Epoch 37]: Average loss at 200 iterations: 0.873\n",
      "[Epoch 37]: Average loss at 300 iterations: 0.882\n",
      "[Epoch 37]: Average loss at 394 iterations: 0.893\n"
     ]
    },
    {
     "data": {
      "application/vnd.jupyter.widget-view+json": {
       "model_id": "c9991295f51d4b5ab3394152c637550f",
       "version_major": 2,
       "version_minor": 0
      },
      "text/plain": [
       "Train Acc:   0%|          | 0/394 [00:00<?, ?it/s]"
      ]
     },
     "metadata": {},
     "output_type": "display_data"
    },
    {
     "name": "stdout",
     "output_type": "stream",
     "text": [
      "[Epoch 37]: Train accuracy: 87.59%\n"
     ]
    },
    {
     "data": {
      "application/vnd.jupyter.widget-view+json": {
       "model_id": "19415b28a4a447868a8e6df362527e6f",
       "version_major": 2,
       "version_minor": 0
      },
      "text/plain": [
       "Test Acc:   0%|          | 0/99 [00:00<?, ?it/s]"
      ]
     },
     "metadata": {},
     "output_type": "display_data"
    },
    {
     "name": "stdout",
     "output_type": "stream",
     "text": [
      "[Epoch 37]: Test accuracy: 45.68%\n"
     ]
    },
    {
     "data": {
      "application/vnd.jupyter.widget-view+json": {
       "model_id": "c8a3464ed8b54d888ebab71d9e8f2f86",
       "version_major": 2,
       "version_minor": 0
      },
      "text/plain": [
       "Train:   0%|          | 0/394 [00:00<?, ?it/s]"
      ]
     },
     "metadata": {},
     "output_type": "display_data"
    },
    {
     "name": "stdout",
     "output_type": "stream",
     "text": [
      "[Epoch 38]: Average loss at 100 iterations: 0.845\n",
      "[Epoch 38]: Average loss at 200 iterations: 0.862\n",
      "[Epoch 38]: Average loss at 300 iterations: 0.862\n",
      "[Epoch 38]: Average loss at 394 iterations: 0.868\n"
     ]
    },
    {
     "data": {
      "application/vnd.jupyter.widget-view+json": {
       "model_id": "6ca975cbc74d4a138e84ba7ade245d6b",
       "version_major": 2,
       "version_minor": 0
      },
      "text/plain": [
       "Train Acc:   0%|          | 0/394 [00:00<?, ?it/s]"
      ]
     },
     "metadata": {},
     "output_type": "display_data"
    },
    {
     "name": "stdout",
     "output_type": "stream",
     "text": [
      "[Epoch 38]: Train accuracy: 85.94%\n"
     ]
    },
    {
     "data": {
      "application/vnd.jupyter.widget-view+json": {
       "model_id": "6efa9950fac14d31a6e61d5f04cfa277",
       "version_major": 2,
       "version_minor": 0
      },
      "text/plain": [
       "Test Acc:   0%|          | 0/99 [00:00<?, ?it/s]"
      ]
     },
     "metadata": {},
     "output_type": "display_data"
    },
    {
     "name": "stdout",
     "output_type": "stream",
     "text": [
      "[Epoch 38]: Test accuracy: 43.73%\n"
     ]
    },
    {
     "data": {
      "application/vnd.jupyter.widget-view+json": {
       "model_id": "035c12cf2ced4eb59afc363388021970",
       "version_major": 2,
       "version_minor": 0
      },
      "text/plain": [
       "Train:   0%|          | 0/394 [00:00<?, ?it/s]"
      ]
     },
     "metadata": {},
     "output_type": "display_data"
    },
    {
     "name": "stdout",
     "output_type": "stream",
     "text": [
      "[Epoch 39]: Average loss at 100 iterations: 0.840\n",
      "[Epoch 39]: Average loss at 200 iterations: 0.844\n",
      "[Epoch 39]: Average loss at 300 iterations: 0.846\n",
      "[Epoch 39]: Average loss at 394 iterations: 0.851\n"
     ]
    },
    {
     "data": {
      "application/vnd.jupyter.widget-view+json": {
       "model_id": "b30f62b463ab48dd817d8cfa25c10e24",
       "version_major": 2,
       "version_minor": 0
      },
      "text/plain": [
       "Train Acc:   0%|          | 0/394 [00:00<?, ?it/s]"
      ]
     },
     "metadata": {},
     "output_type": "display_data"
    },
    {
     "name": "stdout",
     "output_type": "stream",
     "text": [
      "[Epoch 39]: Train accuracy: 87.13%\n"
     ]
    },
    {
     "data": {
      "application/vnd.jupyter.widget-view+json": {
       "model_id": "ea3fea0861154a51bac061dff53a38b6",
       "version_major": 2,
       "version_minor": 0
      },
      "text/plain": [
       "Test Acc:   0%|          | 0/99 [00:00<?, ?it/s]"
      ]
     },
     "metadata": {},
     "output_type": "display_data"
    },
    {
     "name": "stdout",
     "output_type": "stream",
     "text": [
      "[Epoch 39]: Test accuracy: 44.27%\n"
     ]
    },
    {
     "data": {
      "application/vnd.jupyter.widget-view+json": {
       "model_id": "87917c73207444f59f950c16cf407aaa",
       "version_major": 2,
       "version_minor": 0
      },
      "text/plain": [
       "Train:   0%|          | 0/394 [00:00<?, ?it/s]"
      ]
     },
     "metadata": {},
     "output_type": "display_data"
    },
    {
     "name": "stdout",
     "output_type": "stream",
     "text": [
      "[Epoch 40]: Average loss at 100 iterations: 0.809\n",
      "[Epoch 40]: Average loss at 200 iterations: 0.811\n",
      "[Epoch 40]: Average loss at 300 iterations: 0.810\n",
      "[Epoch 40]: Average loss at 394 iterations: 0.818\n"
     ]
    },
    {
     "data": {
      "application/vnd.jupyter.widget-view+json": {
       "model_id": "9bd1a9938c484afba5fc220157d0e6f9",
       "version_major": 2,
       "version_minor": 0
      },
      "text/plain": [
       "Train Acc:   0%|          | 0/394 [00:00<?, ?it/s]"
      ]
     },
     "metadata": {},
     "output_type": "display_data"
    },
    {
     "name": "stdout",
     "output_type": "stream",
     "text": [
      "[Epoch 40]: Train accuracy: 87.52%\n"
     ]
    },
    {
     "data": {
      "application/vnd.jupyter.widget-view+json": {
       "model_id": "d808098a41bc4ed8b33ef5f1dc4ae31a",
       "version_major": 2,
       "version_minor": 0
      },
      "text/plain": [
       "Test Acc:   0%|          | 0/99 [00:00<?, ?it/s]"
      ]
     },
     "metadata": {},
     "output_type": "display_data"
    },
    {
     "name": "stdout",
     "output_type": "stream",
     "text": [
      "[Epoch 40]: Test accuracy: 45.35%\n",
      "Finished Training\n"
     ]
    },
    {
     "data": {
      "application/vnd.jupyter.widget-view+json": {
       "model_id": "5d0699a3f92b45f086cc050ea76ce7de",
       "version_major": 2,
       "version_minor": 0
      },
      "text/plain": [
       "Test Acc:   0%|          | 0/99 [00:00<?, ?it/s]"
      ]
     },
     "metadata": {},
     "output_type": "display_data"
    }
   ],
   "source": [
    "# Finish up the next 40 epochs if all looks well.\n",
    "train_acc_list2, test_acc_list2 = train(40, log_train_acc=True)\n",
    "print('Finished Training')\n",
    "\n",
    "# Test which classes performed well\n",
    "compute_test_accuracy()\n",
    "\n",
    "# Save final model\n",
    "torch.save(model.state_dict(), f\"{model_name}_final.pth\")"
   ]
  },
  {
   "cell_type": "markdown",
   "id": "e4ce395c-1bc7-495e-b7aa-74cabb900327",
   "metadata": {},
   "source": [
    "### Visualization\n",
    "\n",
    "We now plot our training and testing accuracies across the epochs."
   ]
  },
  {
   "cell_type": "code",
   "execution_count": 43,
   "id": "847b901c-3fdc-405e-a152-9a8f5e3a5c6e",
   "metadata": {
    "tags": []
   },
   "outputs": [],
   "source": [
    "model_save = model\n",
    "\n",
    "train_acc_list += train_acc_list2\n",
    "test_acc_list += test_acc_list2\n",
    "\n",
    "assert len(train_acc_list) == len(test_acc_list)\n",
    "epochs = [x + 1 for x in range(len(train_acc_list))]"
   ]
  },
  {
   "cell_type": "code",
   "execution_count": 44,
   "id": "d2e6b8a5-c14f-4136-9e8b-d9b987d73f20",
   "metadata": {
    "tags": []
   },
   "outputs": [
    {
     "data": {
      "image/png": "[encoded data removed]",
      "text/plain": [
       "<Figure size 640x480 with 1 Axes>"
      ]
     },
     "metadata": {},
     "output_type": "display_data"
    }
   ],
   "source": [
    "import matplotlib.pyplot as plt\n",
    "\n",
    "plt.plot(epochs, train_acc_list, label=\"Training\")\n",
    "plt.plot(epochs, test_acc_list, label=\"Testing\")\n",
    "plt.ylim(0, 105)\n",
    "plt.xlim(1, len(epochs)+0.5)\n",
    "plt.title(\"Training and Testing Accuracy for Improved (v2) CNN\")\n",
    "plt.xlabel(\"Epochs\")\n",
    "plt.ylabel(\"Accuracy\")\n",
    "plt.legend()\n",
    "plt.show()"
   ]
  },
  {
   "cell_type": "markdown",
   "id": "3d6c6fd2-3a51-4180-b020-ad77c821716b",
   "metadata": {},
   "source": [
    "## Validation\n",
    "\n",
    "Now that we've trained our model, we create some visualizations to help us validate the accuracy. \n",
    "Here, we are creating ag rid of images, and comparing the actual vs. predicted lables. This lets\n",
    "us visualize what the model does right and what it does wrong."
   ]
  },
  {
   "cell_type": "code",
   "execution_count": 29,
   "id": "4cf8227b",
   "metadata": {
    "id": "4cf8227b",
    "tags": []
   },
   "outputs": [],
   "source": [
    "import matplotlib.pyplot as plt\n",
    "import numpy as np\n",
    "\n",
    "# Function to show the images\n",
    "def show_image(img):\n",
    "    img = img / 2 + 0.5     # unnormalize\n",
    "    npimg = img.numpy()\n",
    "    plt.imshow(np.transpose(npimg, (1, 2, 0)))\n",
    "    plt.show()\n",
    "\n",
    "\n",
    "# Function to test the model with a batch of images and show the labels predictions\n",
    "def test_batch():\n",
    "    class_list = list(classes.keys())\n",
    "\n",
    "    # get batch of images from the test DataLoader  \n",
    "    images, labels = next(iter(test_loader))\n",
    "\n",
    "    # show all images as one image grid\n",
    "    show_image(torchvision.utils.make_grid(images))\n",
    "   \n",
    "    # Get a tuple of real labels\n",
    "    real_labels = (class_list[labels[j]] for j in range(batch_size))\n",
    "  \n",
    "    # Let's see what if the model identifiers the  labels of those example\n",
    "    images = images.to(device)\n",
    "    labels = labels.to(device)\n",
    "\n",
    "    outputs = model(images)\n",
    "    \n",
    "    # We got the probability for every 10 labels. The highest (max) probability should be correct label\n",
    "    _, predicted = torch.max(outputs, 1)\n",
    "    \n",
    "    # Let's show the predicted labels on the screen to compare with the real ones\n",
    "    predicted_labels = (class_list[predicted[j]] for j in range(batch_size))\n",
    "    \n",
    "    print(f\"{'Real':25s}| {'Predicted':25s}| Match\")\n",
    "    print('-' * 25 + '+' + '-' * 27 + '+' + '-' * 6)\n",
    "\n",
    "    for real, pred in zip(real_labels, predicted_labels, strict=True):\n",
    "        match_char = '✅' if real == pred else '❌'\n",
    "        print(f\"{real:25s}|  {pred:25s}| {match_char}\")"
   ]
  },
  {
   "cell_type": "code",
   "execution_count": 37,
   "id": "Pkj3MLHGsNbx",
   "metadata": {
    "colab": {
     "base_uri": "https://localhost:8080/"
    },
    "id": "Pkj3MLHGsNbx",
    "outputId": "68ca877e-d472-4ac0-a9ef-a87a0d30ba72",
    "tags": []
   },
   "outputs": [
    {
     "data": {
      "text/plain": [
       "Network(\n",
       "  (pool): MaxPool2d(kernel_size=2, stride=2, padding=0, dilation=1, ceil_mode=False)\n",
       "  (dropout): Dropout(p=0.25, inplace=False)\n",
       "  (conv1): Conv2d(3, 32, kernel_size=(3, 3), stride=(1, 1), padding=(1, 1))\n",
       "  (norm1): Identity()\n",
       "  (conv2): Conv2d(32, 32, kernel_size=(3, 3), stride=(1, 1), padding=(1, 1))\n",
       "  (norm2): Identity()\n",
       "  (conv3): Conv2d(32, 16, kernel_size=(3, 3), stride=(1, 1), padding=(1, 1))\n",
       "  (norm3): Identity()\n",
       "  (conv4): Conv2d(16, 16, kernel_size=(2, 2), stride=(1, 1), padding=(1, 1))\n",
       "  (norm4): Identity()\n",
       "  (conv5): Conv2d(16, 8, kernel_size=(2, 2), stride=(1, 1), padding=(1, 1))\n",
       "  (norm5): Identity()\n",
       "  (conv6): Conv2d(8, 8, kernel_size=(2, 2), stride=(1, 1), padding=(1, 1))\n",
       "  (norm6): Identity()\n",
       "  (fc1): Linear(in_features=8712, out_features=256, bias=True)\n",
       "  (fc2): Linear(in_features=256, out_features=45, bias=True)\n",
       ")"
      ]
     },
     "execution_count": 37,
     "metadata": {},
     "output_type": "execute_result"
    }
   ],
   "source": [
    "# Let's load the model we just created and test the accuracy per label\n",
    "model = Network(linear_sizes, channel_sizes, norm=normalizer)\n",
    "\n",
    "model.load_state_dict(torch.load(f\"{model_name}_best.pth\"))\n",
    "model.to(device)"
   ]
  },
  {
   "cell_type": "code",
   "execution_count": 38,
   "id": "4f624c69-866f-4612-962a-f50246d0c6ec",
   "metadata": {
    "colab": {
     "base_uri": "https://localhost:8080/",
     "height": 116,
     "referenced_widgets": [
      "eba2f63fc1f14d74974a0eb234518182",
      "d0f1e987d0634b9085c1ca0f7bdf16fd",
      "ce534a213e5045ef941a4e22544545f1",
      "5e5f699f9c844210b6e65d928302d1e3",
      "f165fcd727d54d9c817b8b9d9ffa1829",
      "0d8734c7ab0b4af8a19f2b84141116f4",
      "254585e78d324aa788aa55e3cb23bd7b",
      "a5c730a12bd141ac886ea6d550eeb24f",
      "094eadcb330346b49510dbc11a8ce48e",
      "a9de44b7c31d424d9f2294c94c75abef",
      "7a68bf639f0740e0bf4d6470b85a0b0f",
      "1216c16fb0ab4139be6be4ea0e8ad78f",
      "90c56bff610c4bcba32631063d57506d",
      "845832323b22450f9bed7716065e99a8",
      "d1bca9c263ca4c1ebf33ca42b22ab825",
      "5fba407906d445ba9e7bdee8aab9f2cd",
      "0a86c315ec93445b9e076ba48f7c6206",
      "96c621cdfb9a4004ae497bb052478256",
      "0935f56f12014730be75b0cc8164e4e7",
      "8262e4d0635441c5a0849e3df74884d2",
      "3b7bad45b315478794c05ecabcd2b03f",
      "2d7e29410bc34e95a16ad9561f376f9a"
     ]
    },
    "id": "4f624c69-866f-4612-962a-f50246d0c6ec",
    "outputId": "c120f746-6975-453e-950e-861cfca7db4e"
   },
   "outputs": [
    {
     "data": {
      "application/vnd.jupyter.widget-view+json": {
       "model_id": "e2241061f11243d4b43c32bf1cac742c",
       "version_major": 2,
       "version_minor": 0
      },
      "text/plain": [
       "Train Acc:   0%|          | 0/394 [00:00<?, ?it/s]"
      ]
     },
     "metadata": {},
     "output_type": "display_data"
    },
    {
     "name": "stdout",
     "output_type": "stream",
     "text": [
      "Best train accuracy: 87.59%\n"
     ]
    },
    {
     "data": {
      "application/vnd.jupyter.widget-view+json": {
       "model_id": "1f2b3421625a43f8821c07b97bf8f90b",
       "version_major": 2,
       "version_minor": 0
      },
      "text/plain": [
       "Test Acc:   0%|          | 0/99 [00:00<?, ?it/s]"
      ]
     },
     "metadata": {},
     "output_type": "display_data"
    },
    {
     "name": "stdout",
     "output_type": "stream",
     "text": [
      "Best test accuracy: 45.68%\n"
     ]
    }
   ],
   "source": [
    "# Test which classes performed well\n",
    "train_accuracy = compute_train_accuracy()\n",
    "print(f'Best train accuracy: {train_accuracy:.2f}%')\n",
    "\n",
    "test_accuracy = compute_test_accuracy()\n",
    "print(f'Best test accuracy: {test_accuracy:.2f}%')"
   ]
  },
  {
   "cell_type": "code",
   "execution_count": 39,
   "id": "2eV21GnWsTpl",
   "metadata": {
    "colab": {
     "base_uri": "https://localhost:8080/",
     "height": 1000
    },
    "id": "2eV21GnWsTpl",
    "outputId": "b4d74502-1228-4d85-82bc-4bd7aee01836",
    "tags": []
   },
   "outputs": [
    {
     "name": "stderr",
     "output_type": "stream",
     "text": [
      "Clipping input data to the valid range for imshow with RGB data ([0..1] for floats or [0..255] for integers).\n"
     ]
    },
    {
     "data": {
      "image/png": "[encoded data removed]",
      "text/plain": [
       "<Figure size 640x480 with 1 Axes>"
      ]
     },
     "metadata": {},
     "output_type": "display_data"
    },
    {
     "name": "stdout",
     "output_type": "stream",
     "text": [
      "Real                     | Predicted                | Match\n",
      "-------------------------+---------------------------+------\n",
      "bridge                   |  bridge                   | ✅\n",
      "snowberg                 |  airplane                 | ❌\n",
      "church                   |  church                   | ✅\n",
      "thermal_power_station    |  thermal_power_station    | ✅\n",
      "bridge                   |  bridge                   | ✅\n",
      "runway                   |  beach                    | ❌\n",
      "freeway                  |  meadow                   | ❌\n",
      "wetland                  |  wetland                  | ✅\n",
      "palace                   |  sparse_residential       | ❌\n",
      "ground_track_field       |  baseball_diamond         | ❌\n",
      "meadow                   |  meadow                   | ✅\n",
      "chaparral                |  chaparral                | ✅\n",
      "terrace                  |  terrace                  | ✅\n",
      "beach                    |  beach                    | ✅\n",
      "dense_residential        |  dense_residential        | ✅\n",
      "industrial_area          |  commercial_area          | ❌\n",
      "stadium                  |  storage_tank             | ❌\n",
      "island                   |  island                   | ✅\n",
      "rectangular_farmland     |  rectangular_farmland     | ✅\n",
      "stadium                  |  snowberg                 | ❌\n",
      "chaparral                |  chaparral                | ✅\n",
      "storage_tank             |  industrial_area          | ❌\n",
      "baseball_diamond         |  rectangular_farmland     | ❌\n",
      "meadow                   |  meadow                   | ✅\n",
      "sea_ice                  |  sea_ice                  | ✅\n",
      "meadow                   |  meadow                   | ✅\n",
      "mountain                 |  mountain                 | ✅\n",
      "roundabout               |  ground_track_field       | ❌\n",
      "basketball_court         |  golf_course              | ❌\n",
      "airplane                 |  airplane                 | ✅\n",
      "desert                   |  desert                   | ✅\n",
      "golf_course              |  golf_course              | ✅\n",
      "cloud                    |  cloud                    | ✅\n",
      "palace                   |  freeway                  | ❌\n",
      "palace                   |  roundabout               | ❌\n",
      "mountain                 |  mountain                 | ✅\n",
      "chaparral                |  chaparral                | ✅\n",
      "golf_course              |  wetland                  | ❌\n",
      "industrial_area          |  industrial_area          | ✅\n",
      "snowberg                 |  snowberg                 | ✅\n",
      "industrial_area          |  industrial_area          | ✅\n",
      "sparse_residential       |  meadow                   | ❌\n",
      "sparse_residential       |  sparse_residential       | ✅\n",
      "meadow                   |  meadow                   | ✅\n",
      "ship                     |  harbor                   | ❌\n",
      "snowberg                 |  airport                  | ❌\n",
      "harbor                   |  mobile_home_park         | ❌\n",
      "railway                  |  railway                  | ✅\n",
      "bridge                   |  baseball_diamond         | ❌\n",
      "circular_farmland        |  circular_farmland        | ✅\n",
      "ship                     |  ship                     | ✅\n",
      "tennis_court             |  baseball_diamond         | ❌\n",
      "desert                   |  desert                   | ✅\n",
      "forest                   |  meadow                   | ❌\n",
      "wetland                  |  terrace                  | ❌\n",
      "sparse_residential       |  sparse_residential       | ✅\n",
      "wetland                  |  wetland                  | ✅\n",
      "thermal_power_station    |  cloud                    | ❌\n",
      "railway_station          |  airport                  | ❌\n",
      "desert                   |  desert                   | ✅\n",
      "bridge                   |  bridge                   | ✅\n",
      "meadow                   |  golf_course              | ❌\n",
      "harbor                   |  harbor                   | ✅\n",
      "sparse_residential       |  sparse_residential       | ✅\n"
     ]
    }
   ],
   "source": [
    "# Show a sample of images\n",
    "test_batch()"
   ]
  }
 ],
 "metadata": {
  "accelerator": "GPU",
  "colab": {
   "provenance": []
  },
  "gpuClass": "standard",
  "kernelspec": {
   "display_name": "Python 3 (ipykernel)",
   "language": "python",
   "name": "python3"
  },
  "language_info": {
   "codemirror_mode": {
    "name": "ipython",
    "version": 3
   },
   "file_extension": ".py",
   "mimetype": "text/x-python",
   "name": "python",
   "nbconvert_exporter": "python",
   "pygments_lexer": "ipython3",
   "version": "3.11.1"
  },
  "widgets": {
   "application/vnd.jupyter.widget-state+json": {
    "0085e8d4d8194e96b54f5c1a1a1528a7": {
     "model_module": "@jupyter-widgets/controls",
     "model_module_version": "1.5.0",
     "model_name": "HTMLModel",
     "state": {
      "_dom_classes": [],
      "_model_module": "@jupyter-widgets/controls",
      "_model_module_version": "1.5.0",
      "_model_name": "HTMLModel",
      "_view_count": null,
      "_view_module": "@jupyter-widgets/controls",
      "_view_module_version": "1.5.0",
      "_view_name": "HTMLView",
      "description": "",
      "description_tooltip": null,
      "layout": "IPY_MODEL_731138fc3ef34e4a89d8ed1f13993edf",
      "placeholder": "​",
      "style": "IPY_MODEL_fbde1f6dfe784574a0b6d928912ddb5f",
      "value": "Train: 100%"
     }
    },
    "016a5d76897846c6962e4ab6283ab95e": {
     "model_module": "@jupyter-widgets/base",
     "model_module_version": "1.2.0",
     "model_name": "LayoutModel",
     "state": {
      "_model_module": "@jupyter-widgets/base",
      "_model_module_version": "1.2.0",
      "_model_name": "LayoutModel",
      "_view_count": null,
      "_view_module": "@jupyter-widgets/base",
      "_view_module_version": "1.2.0",
      "_view_name": "LayoutView",
      "align_content": null,
      "align_items": null,
      "align_self": null,
      "border": null,
      "bottom": null,
      "display": null,
      "flex": null,
      "flex_flow": null,
      "grid_area": null,
      "grid_auto_columns": null,
      "grid_auto_flow": null,
      "grid_auto_rows": null,
      "grid_column": null,
      "grid_gap": null,
      "grid_row": null,
      "grid_template_areas": null,
      "grid_template_columns": null,
      "grid_template_rows": null,
      "height": null,
      "justify_content": null,
      "justify_items": null,
      "left": null,
      "margin": null,
      "max_height": null,
      "max_width": null,
      "min_height": null,
      "min_width": null,
      "object_fit": null,
      "object_position": null,
      "order": null,
      "overflow": null,
      "overflow_x": null,
      "overflow_y": null,
      "padding": null,
      "right": null,
      "top": null,
      "visibility": null,
      "width": null
     }
    },
    "0181ebd689274a31bdab2c8dd58c6c4e": {
     "model_module": "@jupyter-widgets/controls",
     "model_module_version": "1.5.0",
     "model_name": "DescriptionStyleModel",
     "state": {
      "_model_module": "@jupyter-widgets/controls",
      "_model_module_version": "1.5.0",
      "_model_name": "DescriptionStyleModel",
      "_view_count": null,
      "_view_module": "@jupyter-widgets/base",
      "_view_module_version": "1.2.0",
      "_view_name": "StyleView",
      "description_width": ""
     }
    },
    "03ccf8cbb8474917b7f2932184f65338": {
     "model_module": "@jupyter-widgets/controls",
     "model_module_version": "1.5.0",
     "model_name": "HBoxModel",
     "state": {
      "_dom_classes": [],
      "_model_module": "@jupyter-widgets/controls",
      "_model_module_version": "1.5.0",
      "_model_name": "HBoxModel",
      "_view_count": null,
      "_view_module": "@jupyter-widgets/controls",
      "_view_module_version": "1.5.0",
      "_view_name": "HBoxView",
      "box_style": "",
      "children": [
       "IPY_MODEL_9b9213b0c14a49b08ea11d1ac2d782af",
       "IPY_MODEL_e8a3d6caec1648a8b23ff7f7fd7e25b3",
       "IPY_MODEL_c102fb88349946a288f2f9d39869a0c3"
      ],
      "layout": "IPY_MODEL_317c855af9c3489c822a6e0c6f1d181b"
     }
    },
    "04b2b64ccc704e85aaa5b54fdee08fce": {
     "model_module": "@jupyter-widgets/controls",
     "model_module_version": "1.5.0",
     "model_name": "HTMLModel",
     "state": {
      "_dom_classes": [],
      "_model_module": "@jupyter-widgets/controls",
      "_model_module_version": "1.5.0",
      "_model_name": "HTMLModel",
      "_view_count": null,
      "_view_module": "@jupyter-widgets/controls",
      "_view_module_version": "1.5.0",
      "_view_name": "HTMLView",
      "description": "",
      "description_tooltip": null,
      "layout": "IPY_MODEL_5e96d70e00a6405c84d2732ad895d6d8",
      "placeholder": "​",
      "style": "IPY_MODEL_137516c1142b4cf49e94e68f7d00bd25",
      "value": " 394/394 [02:42&lt;00:00,  2.41it/s]"
     }
    },
    "055c5d710a50435294d327d54b6da7c4": {
     "model_module": "@jupyter-widgets/base",
     "model_module_version": "1.2.0",
     "model_name": "LayoutModel",
     "state": {
      "_model_module": "@jupyter-widgets/base",
      "_model_module_version": "1.2.0",
      "_model_name": "LayoutModel",
      "_view_count": null,
      "_view_module": "@jupyter-widgets/base",
      "_view_module_version": "1.2.0",
      "_view_name": "LayoutView",
      "align_content": null,
      "align_items": null,
      "align_self": null,
      "border": null,
      "bottom": null,
      "display": null,
      "flex": null,
      "flex_flow": null,
      "grid_area": null,
      "grid_auto_columns": null,
      "grid_auto_flow": null,
      "grid_auto_rows": null,
      "grid_column": null,
      "grid_gap": null,
      "grid_row": null,
      "grid_template_areas": null,
      "grid_template_columns": null,
      "grid_template_rows": null,
      "height": null,
      "justify_content": null,
      "justify_items": null,
      "left": null,
      "margin": null,
      "max_height": null,
      "max_width": null,
      "min_height": null,
      "min_width": null,
      "object_fit": null,
      "object_position": null,
      "order": null,
      "overflow": null,
      "overflow_x": null,
      "overflow_y": null,
      "padding": null,
      "right": null,
      "top": null,
      "visibility": null,
      "width": null
     }
    },
    "080cf7df59084b4ba38d3a8d37ea8a57": {
     "model_module": "@jupyter-widgets/controls",
     "model_module_version": "1.5.0",
     "model_name": "HBoxModel",
     "state": {
      "_dom_classes": [],
      "_model_module": "@jupyter-widgets/controls",
      "_model_module_version": "1.5.0",
      "_model_name": "HBoxModel",
      "_view_count": null,
      "_view_module": "@jupyter-widgets/controls",
      "_view_module_version": "1.5.0",
      "_view_name": "HBoxView",
      "box_style": "",
      "children": [
       "IPY_MODEL_60255a00b2094cc99d94d060e4b8ab07",
       "IPY_MODEL_2bd13c9339794a4e889d66a5c7f417fb",
       "IPY_MODEL_fafece39ecd5481b9b03e1456c96a3ca"
      ],
      "layout": "IPY_MODEL_b395255c6eeb44b6afec8c4cd4251c45"
     }
    },
    "08abb7ddba00438790c00f53a13a8cb9": {
     "model_module": "@jupyter-widgets/base",
     "model_module_version": "1.2.0",
     "model_name": "LayoutModel",
     "state": {
      "_model_module": "@jupyter-widgets/base",
      "_model_module_version": "1.2.0",
      "_model_name": "LayoutModel",
      "_view_count": null,
      "_view_module": "@jupyter-widgets/base",
      "_view_module_version": "1.2.0",
      "_view_name": "LayoutView",
      "align_content": null,
      "align_items": null,
      "align_self": null,
      "border": null,
      "bottom": null,
      "display": null,
      "flex": null,
      "flex_flow": null,
      "grid_area": null,
      "grid_auto_columns": null,
      "grid_auto_flow": null,
      "grid_auto_rows": null,
      "grid_column": null,
      "grid_gap": null,
      "grid_row": null,
      "grid_template_areas": null,
      "grid_template_columns": null,
      "grid_template_rows": null,
      "height": null,
      "justify_content": null,
      "justify_items": null,
      "left": null,
      "margin": null,
      "max_height": null,
      "max_width": null,
      "min_height": null,
      "min_width": null,
      "object_fit": null,
      "object_position": null,
      "order": null,
      "overflow": null,
      "overflow_x": null,
      "overflow_y": null,
      "padding": null,
      "right": null,
      "top": null,
      "visibility": null,
      "width": null
     }
    },
    "08b5b9fe2c2842c9affdc3fa050d24df": {
     "model_module": "@jupyter-widgets/controls",
     "model_module_version": "1.5.0",
     "model_name": "HTMLModel",
     "state": {
      "_dom_classes": [],
      "_model_module": "@jupyter-widgets/controls",
      "_model_module_version": "1.5.0",
      "_model_name": "HTMLModel",
      "_view_count": null,
      "_view_module": "@jupyter-widgets/controls",
      "_view_module_version": "1.5.0",
      "_view_name": "HTMLView",
      "description": "",
      "description_tooltip": null,
      "layout": "IPY_MODEL_36c5d969b021443faa80d93bd272f45d",
      "placeholder": "​",
      "style": "IPY_MODEL_32debd619e974e68a409d3cb40f07ee9",
      "value": "Test Acc: 100%"
     }
    },
    "0935f56f12014730be75b0cc8164e4e7": {
     "model_module": "@jupyter-widgets/base",
     "model_module_version": "1.2.0",
     "model_name": "LayoutModel",
     "state": {
      "_model_module": "@jupyter-widgets/base",
      "_model_module_version": "1.2.0",
      "_model_name": "LayoutModel",
      "_view_count": null,
      "_view_module": "@jupyter-widgets/base",
      "_view_module_version": "1.2.0",
      "_view_name": "LayoutView",
      "align_content": null,
      "align_items": null,
      "align_self": null,
      "border": null,
      "bottom": null,
      "display": null,
      "flex": null,
      "flex_flow": null,
      "grid_area": null,
      "grid_auto_columns": null,
      "grid_auto_flow": null,
      "grid_auto_rows": null,
      "grid_column": null,
      "grid_gap": null,
      "grid_row": null,
      "grid_template_areas": null,
      "grid_template_columns": null,
      "grid_template_rows": null,
      "height": null,
      "justify_content": null,
      "justify_items": null,
      "left": null,
      "margin": null,
      "max_height": null,
      "max_width": null,
      "min_height": null,
      "min_width": null,
      "object_fit": null,
      "object_position": null,
      "order": null,
      "overflow": null,
      "overflow_x": null,
      "overflow_y": null,
      "padding": null,
      "right": null,
      "top": null,
      "visibility": null,
      "width": null
     }
    },
    "094b2c66cf6f4dbbb25197d02696d361": {
     "model_module": "@jupyter-widgets/base",
     "model_module_version": "1.2.0",
     "model_name": "LayoutModel",
     "state": {
      "_model_module": "@jupyter-widgets/base",
      "_model_module_version": "1.2.0",
      "_model_name": "LayoutModel",
      "_view_count": null,
      "_view_module": "@jupyter-widgets/base",
      "_view_module_version": "1.2.0",
      "_view_name": "LayoutView",
      "align_content": null,
      "align_items": null,
      "align_self": null,
      "border": null,
      "bottom": null,
      "display": null,
      "flex": null,
      "flex_flow": null,
      "grid_area": null,
      "grid_auto_columns": null,
      "grid_auto_flow": null,
      "grid_auto_rows": null,
      "grid_column": null,
      "grid_gap": null,
      "grid_row": null,
      "grid_template_areas": null,
      "grid_template_columns": null,
      "grid_template_rows": null,
      "height": null,
      "justify_content": null,
      "justify_items": null,
      "left": null,
      "margin": null,
      "max_height": null,
      "max_width": null,
      "min_height": null,
      "min_width": null,
      "object_fit": null,
      "object_position": null,
      "order": null,
      "overflow": null,
      "overflow_x": null,
      "overflow_y": null,
      "padding": null,
      "right": null,
      "top": null,
      "visibility": null,
      "width": null
     }
    },
    "094eadcb330346b49510dbc11a8ce48e": {
     "model_module": "@jupyter-widgets/controls",
     "model_module_version": "1.5.0",
     "model_name": "ProgressStyleModel",
     "state": {
      "_model_module": "@jupyter-widgets/controls",
      "_model_module_version": "1.5.0",
      "_model_name": "ProgressStyleModel",
      "_view_count": null,
      "_view_module": "@jupyter-widgets/base",
      "_view_module_version": "1.2.0",
      "_view_name": "StyleView",
      "bar_color": null,
      "description_width": ""
     }
    },
    "0a86c315ec93445b9e076ba48f7c6206": {
     "model_module": "@jupyter-widgets/base",
     "model_module_version": "1.2.0",
     "model_name": "LayoutModel",
     "state": {
      "_model_module": "@jupyter-widgets/base",
      "_model_module_version": "1.2.0",
      "_model_name": "LayoutModel",
      "_view_count": null,
      "_view_module": "@jupyter-widgets/base",
      "_view_module_version": "1.2.0",
      "_view_name": "LayoutView",
      "align_content": null,
      "align_items": null,
      "align_self": null,
      "border": null,
      "bottom": null,
      "display": null,
      "flex": null,
      "flex_flow": null,
      "grid_area": null,
      "grid_auto_columns": null,
      "grid_auto_flow": null,
      "grid_auto_rows": null,
      "grid_column": null,
      "grid_gap": null,
      "grid_row": null,
      "grid_template_areas": null,
      "grid_template_columns": null,
      "grid_template_rows": null,
      "height": null,
      "justify_content": null,
      "justify_items": null,
      "left": null,
      "margin": null,
      "max_height": null,
      "max_width": null,
      "min_height": null,
      "min_width": null,
      "object_fit": null,
      "object_position": null,
      "order": null,
      "overflow": null,
      "overflow_x": null,
      "overflow_y": null,
      "padding": null,
      "right": null,
      "top": null,
      "visibility": null,
      "width": null
     }
    },
    "0b0404b13a6f4acdb00357204f4b8a2b": {
     "model_module": "@jupyter-widgets/base",
     "model_module_version": "1.2.0",
     "model_name": "LayoutModel",
     "state": {
      "_model_module": "@jupyter-widgets/base",
      "_model_module_version": "1.2.0",
      "_model_name": "LayoutModel",
      "_view_count": null,
      "_view_module": "@jupyter-widgets/base",
      "_view_module_version": "1.2.0",
      "_view_name": "LayoutView",
      "align_content": null,
      "align_items": null,
      "align_self": null,
      "border": null,
      "bottom": null,
      "display": null,
      "flex": null,
      "flex_flow": null,
      "grid_area": null,
      "grid_auto_columns": null,
      "grid_auto_flow": null,
      "grid_auto_rows": null,
      "grid_column": null,
      "grid_gap": null,
      "grid_row": null,
      "grid_template_areas": null,
      "grid_template_columns": null,
      "grid_template_rows": null,
      "height": null,
      "justify_content": null,
      "justify_items": null,
      "left": null,
      "margin": null,
      "max_height": null,
      "max_width": null,
      "min_height": null,
      "min_width": null,
      "object_fit": null,
      "object_position": null,
      "order": null,
      "overflow": null,
      "overflow_x": null,
      "overflow_y": null,
      "padding": null,
      "right": null,
      "top": null,
      "visibility": null,
      "width": null
     }
    },
    "0be76c59c34346879029e128374ad603": {
     "model_module": "@jupyter-widgets/base",
     "model_module_version": "1.2.0",
     "model_name": "LayoutModel",
     "state": {
      "_model_module": "@jupyter-widgets/base",
      "_model_module_version": "1.2.0",
      "_model_name": "LayoutModel",
      "_view_count": null,
      "_view_module": "@jupyter-widgets/base",
      "_view_module_version": "1.2.0",
      "_view_name": "LayoutView",
      "align_content": null,
      "align_items": null,
      "align_self": null,
      "border": null,
      "bottom": null,
      "display": null,
      "flex": null,
      "flex_flow": null,
      "grid_area": null,
      "grid_auto_columns": null,
      "grid_auto_flow": null,
      "grid_auto_rows": null,
      "grid_column": null,
      "grid_gap": null,
      "grid_row": null,
      "grid_template_areas": null,
      "grid_template_columns": null,
      "grid_template_rows": null,
      "height": null,
      "justify_content": null,
      "justify_items": null,
      "left": null,
      "margin": null,
      "max_height": null,
      "max_width": null,
      "min_height": null,
      "min_width": null,
      "object_fit": null,
      "object_position": null,
      "order": null,
      "overflow": null,
      "overflow_x": null,
      "overflow_y": null,
      "padding": null,
      "right": null,
      "top": null,
      "visibility": null,
      "width": null
     }
    },
    "0d8734c7ab0b4af8a19f2b84141116f4": {
     "model_module": "@jupyter-widgets/base",
     "model_module_version": "1.2.0",
     "model_name": "LayoutModel",
     "state": {
      "_model_module": "@jupyter-widgets/base",
      "_model_module_version": "1.2.0",
      "_model_name": "LayoutModel",
      "_view_count": null,
      "_view_module": "@jupyter-widgets/base",
      "_view_module_version": "1.2.0",
      "_view_name": "LayoutView",
      "align_content": null,
      "align_items": null,
      "align_self": null,
      "border": null,
      "bottom": null,
      "display": null,
      "flex": null,
      "flex_flow": null,
      "grid_area": null,
      "grid_auto_columns": null,
      "grid_auto_flow": null,
      "grid_auto_rows": null,
      "grid_column": null,
      "grid_gap": null,
      "grid_row": null,
      "grid_template_areas": null,
      "grid_template_columns": null,
      "grid_template_rows": null,
      "height": null,
      "justify_content": null,
      "justify_items": null,
      "left": null,
      "margin": null,
      "max_height": null,
      "max_width": null,
      "min_height": null,
      "min_width": null,
      "object_fit": null,
      "object_position": null,
      "order": null,
      "overflow": null,
      "overflow_x": null,
      "overflow_y": null,
      "padding": null,
      "right": null,
      "top": null,
      "visibility": null,
      "width": null
     }
    },
    "0de8f3a22b2a4ffcaa86a0e2b44be5f1": {
     "model_module": "@jupyter-widgets/controls",
     "model_module_version": "1.5.0",
     "model_name": "DescriptionStyleModel",
     "state": {
      "_model_module": "@jupyter-widgets/controls",
      "_model_module_version": "1.5.0",
      "_model_name": "DescriptionStyleModel",
      "_view_count": null,
      "_view_module": "@jupyter-widgets/base",
      "_view_module_version": "1.2.0",
      "_view_name": "StyleView",
      "description_width": ""
     }
    },
    "0f7e725ae69343ce8558bf640609b8c1": {
     "model_module": "@jupyter-widgets/base",
     "model_module_version": "1.2.0",
     "model_name": "LayoutModel",
     "state": {
      "_model_module": "@jupyter-widgets/base",
      "_model_module_version": "1.2.0",
      "_model_name": "LayoutModel",
      "_view_count": null,
      "_view_module": "@jupyter-widgets/base",
      "_view_module_version": "1.2.0",
      "_view_name": "LayoutView",
      "align_content": null,
      "align_items": null,
      "align_self": null,
      "border": null,
      "bottom": null,
      "display": null,
      "flex": null,
      "flex_flow": null,
      "grid_area": null,
      "grid_auto_columns": null,
      "grid_auto_flow": null,
      "grid_auto_rows": null,
      "grid_column": null,
      "grid_gap": null,
      "grid_row": null,
      "grid_template_areas": null,
      "grid_template_columns": null,
      "grid_template_rows": null,
      "height": null,
      "justify_content": null,
      "justify_items": null,
      "left": null,
      "margin": null,
      "max_height": null,
      "max_width": null,
      "min_height": null,
      "min_width": null,
      "object_fit": null,
      "object_position": null,
      "order": null,
      "overflow": null,
      "overflow_x": null,
      "overflow_y": null,
      "padding": null,
      "right": null,
      "top": null,
      "visibility": null,
      "width": null
     }
    },
    "10e8b97a46894a00ad9609a75ec35d0c": {
     "model_module": "@jupyter-widgets/controls",
     "model_module_version": "1.5.0",
     "model_name": "ProgressStyleModel",
     "state": {
      "_model_module": "@jupyter-widgets/controls",
      "_model_module_version": "1.5.0",
      "_model_name": "ProgressStyleModel",
      "_view_count": null,
      "_view_module": "@jupyter-widgets/base",
      "_view_module_version": "1.2.0",
      "_view_name": "StyleView",
      "bar_color": null,
      "description_width": ""
     }
    },
    "10f83e0fd51a416280b06372c6b7a87b": {
     "model_module": "@jupyter-widgets/controls",
     "model_module_version": "1.5.0",
     "model_name": "HBoxModel",
     "state": {
      "_dom_classes": [],
      "_model_module": "@jupyter-widgets/controls",
      "_model_module_version": "1.5.0",
      "_model_name": "HBoxModel",
      "_view_count": null,
      "_view_module": "@jupyter-widgets/controls",
      "_view_module_version": "1.5.0",
      "_view_name": "HBoxView",
      "box_style": "",
      "children": [
       "IPY_MODEL_823034df13de4b9ba31871c6e0b2d5d1",
       "IPY_MODEL_9e0e4ce504ee446e8273d3d0e706bbdc",
       "IPY_MODEL_f457984693624b3d8e96f5161885d333"
      ],
      "layout": "IPY_MODEL_094b2c66cf6f4dbbb25197d02696d361"
     }
    },
    "1186d5051e9747ee9f2e4802fd42d783": {
     "model_module": "@jupyter-widgets/controls",
     "model_module_version": "1.5.0",
     "model_name": "HBoxModel",
     "state": {
      "_dom_classes": [],
      "_model_module": "@jupyter-widgets/controls",
      "_model_module_version": "1.5.0",
      "_model_name": "HBoxModel",
      "_view_count": null,
      "_view_module": "@jupyter-widgets/controls",
      "_view_module_version": "1.5.0",
      "_view_name": "HBoxView",
      "box_style": "",
      "children": [
       "IPY_MODEL_c35bf6d045924329a0e6590de7288db4",
       "IPY_MODEL_a7d7a2e22187471b96412e597f5cf68c",
       "IPY_MODEL_a29373a0a028462c9e5ea80e61e55a91"
      ],
      "layout": "IPY_MODEL_3b91504a88674c25855e2bb3fa479244"
     }
    },
    "1216c16fb0ab4139be6be4ea0e8ad78f": {
     "model_module": "@jupyter-widgets/controls",
     "model_module_version": "1.5.0",
     "model_name": "HBoxModel",
     "state": {
      "_dom_classes": [],
      "_model_module": "@jupyter-widgets/controls",
      "_model_module_version": "1.5.0",
      "_model_name": "HBoxModel",
      "_view_count": null,
      "_view_module": "@jupyter-widgets/controls",
      "_view_module_version": "1.5.0",
      "_view_name": "HBoxView",
      "box_style": "",
      "children": [
       "IPY_MODEL_90c56bff610c4bcba32631063d57506d",
       "IPY_MODEL_845832323b22450f9bed7716065e99a8",
       "IPY_MODEL_d1bca9c263ca4c1ebf33ca42b22ab825"
      ],
      "layout": "IPY_MODEL_5fba407906d445ba9e7bdee8aab9f2cd"
     }
    },
    "1223c759aa4e4d3594acd99dbd3e0759": {
     "model_module": "@jupyter-widgets/controls",
     "model_module_version": "1.5.0",
     "model_name": "ProgressStyleModel",
     "state": {
      "_model_module": "@jupyter-widgets/controls",
      "_model_module_version": "1.5.0",
      "_model_name": "ProgressStyleModel",
      "_view_count": null,
      "_view_module": "@jupyter-widgets/base",
      "_view_module_version": "1.2.0",
      "_view_name": "StyleView",
      "bar_color": null,
      "description_width": ""
     }
    },
    "126b24ef832543c6a45c31ef9f978db9": {
     "model_module": "@jupyter-widgets/controls",
     "model_module_version": "1.5.0",
     "model_name": "FloatProgressModel",
     "state": {
      "_dom_classes": [],
      "_model_module": "@jupyter-widgets/controls",
      "_model_module_version": "1.5.0",
      "_model_name": "FloatProgressModel",
      "_view_count": null,
      "_view_module": "@jupyter-widgets/controls",
      "_view_module_version": "1.5.0",
      "_view_name": "ProgressView",
      "bar_style": "",
      "description": "",
      "description_tooltip": null,
      "layout": "IPY_MODEL_ee8b5246c5584d8ba8659b522477646c",
      "max": 394,
      "min": 0,
      "orientation": "horizontal",
      "style": "IPY_MODEL_6219976d422941f0972b36ac67672456",
      "value": 328
     }
    },
    "12cdd4ab758d467fb1178c8138ac37ae": {
     "model_module": "@jupyter-widgets/controls",
     "model_module_version": "1.5.0",
     "model_name": "HTMLModel",
     "state": {
      "_dom_classes": [],
      "_model_module": "@jupyter-widgets/controls",
      "_model_module_version": "1.5.0",
      "_model_name": "HTMLModel",
      "_view_count": null,
      "_view_module": "@jupyter-widgets/controls",
      "_view_module_version": "1.5.0",
      "_view_name": "HTMLView",
      "description": "",
      "description_tooltip": null,
      "layout": "IPY_MODEL_73037aac0275474ab83f1759f3c26110",
      "placeholder": "​",
      "style": "IPY_MODEL_0de8f3a22b2a4ffcaa86a0e2b44be5f1",
      "value": " 394/394 [02:58&lt;00:00,  2.55it/s]"
     }
    },
    "137516c1142b4cf49e94e68f7d00bd25": {
     "model_module": "@jupyter-widgets/controls",
     "model_module_version": "1.5.0",
     "model_name": "DescriptionStyleModel",
     "state": {
      "_model_module": "@jupyter-widgets/controls",
      "_model_module_version": "1.5.0",
      "_model_name": "DescriptionStyleModel",
      "_view_count": null,
      "_view_module": "@jupyter-widgets/base",
      "_view_module_version": "1.2.0",
      "_view_name": "StyleView",
      "description_width": ""
     }
    },
    "162b0a8e007f439d864fe35a48b52dae": {
     "model_module": "@jupyter-widgets/controls",
     "model_module_version": "1.5.0",
     "model_name": "DescriptionStyleModel",
     "state": {
      "_model_module": "@jupyter-widgets/controls",
      "_model_module_version": "1.5.0",
      "_model_name": "DescriptionStyleModel",
      "_view_count": null,
      "_view_module": "@jupyter-widgets/base",
      "_view_module_version": "1.2.0",
      "_view_name": "StyleView",
      "description_width": ""
     }
    },
    "173c4cbdb4e44f98a8a9a08f9f4342d2": {
     "model_module": "@jupyter-widgets/controls",
     "model_module_version": "1.5.0",
     "model_name": "HTMLModel",
     "state": {
      "_dom_classes": [],
      "_model_module": "@jupyter-widgets/controls",
      "_model_module_version": "1.5.0",
      "_model_name": "HTMLModel",
      "_view_count": null,
      "_view_module": "@jupyter-widgets/controls",
      "_view_module_version": "1.5.0",
      "_view_name": "HTMLView",
      "description": "",
      "description_tooltip": null,
      "layout": "IPY_MODEL_8b526ee44e6e415380d9e941242c05a3",
      "placeholder": "​",
      "style": "IPY_MODEL_257a93042f494a1c8928bca87034dcd2",
      "value": " 99/99 [00:27&lt;00:00,  4.53it/s]"
     }
    },
    "1793c061a3124cf0a6805b1244379fd7": {
     "model_module": "@jupyter-widgets/base",
     "model_module_version": "1.2.0",
     "model_name": "LayoutModel",
     "state": {
      "_model_module": "@jupyter-widgets/base",
      "_model_module_version": "1.2.0",
      "_model_name": "LayoutModel",
      "_view_count": null,
      "_view_module": "@jupyter-widgets/base",
      "_view_module_version": "1.2.0",
      "_view_name": "LayoutView",
      "align_content": null,
      "align_items": null,
      "align_self": null,
      "border": null,
      "bottom": null,
      "display": null,
      "flex": null,
      "flex_flow": null,
      "grid_area": null,
      "grid_auto_columns": null,
      "grid_auto_flow": null,
      "grid_auto_rows": null,
      "grid_column": null,
      "grid_gap": null,
      "grid_row": null,
      "grid_template_areas": null,
      "grid_template_columns": null,
      "grid_template_rows": null,
      "height": null,
      "justify_content": null,
      "justify_items": null,
      "left": null,
      "margin": null,
      "max_height": null,
      "max_width": null,
      "min_height": null,
      "min_width": null,
      "object_fit": null,
      "object_position": null,
      "order": null,
      "overflow": null,
      "overflow_x": null,
      "overflow_y": null,
      "padding": null,
      "right": null,
      "top": null,
      "visibility": null,
      "width": null
     }
    },
    "1ca234da13ee40cdafa52be5db0221ad": {
     "model_module": "@jupyter-widgets/controls",
     "model_module_version": "1.5.0",
     "model_name": "FloatProgressModel",
     "state": {
      "_dom_classes": [],
      "_model_module": "@jupyter-widgets/controls",
      "_model_module_version": "1.5.0",
      "_model_name": "FloatProgressModel",
      "_view_count": null,
      "_view_module": "@jupyter-widgets/controls",
      "_view_module_version": "1.5.0",
      "_view_name": "ProgressView",
      "bar_style": "success",
      "description": "",
      "description_tooltip": null,
      "layout": "IPY_MODEL_1e2b9825c0c540db9f4a95bc9be7601b",
      "max": 394,
      "min": 0,
      "orientation": "horizontal",
      "style": "IPY_MODEL_774bf35489974cd791f1d47c41537b9d",
      "value": 394
     }
    },
    "1d82f9356a344557b12feb6e99688fa6": {
     "model_module": "@jupyter-widgets/base",
     "model_module_version": "1.2.0",
     "model_name": "LayoutModel",
     "state": {
      "_model_module": "@jupyter-widgets/base",
      "_model_module_version": "1.2.0",
      "_model_name": "LayoutModel",
      "_view_count": null,
      "_view_module": "@jupyter-widgets/base",
      "_view_module_version": "1.2.0",
      "_view_name": "LayoutView",
      "align_content": null,
      "align_items": null,
      "align_self": null,
      "border": null,
      "bottom": null,
      "display": null,
      "flex": null,
      "flex_flow": null,
      "grid_area": null,
      "grid_auto_columns": null,
      "grid_auto_flow": null,
      "grid_auto_rows": null,
      "grid_column": null,
      "grid_gap": null,
      "grid_row": null,
      "grid_template_areas": null,
      "grid_template_columns": null,
      "grid_template_rows": null,
      "height": null,
      "justify_content": null,
      "justify_items": null,
      "left": null,
      "margin": null,
      "max_height": null,
      "max_width": null,
      "min_height": null,
      "min_width": null,
      "object_fit": null,
      "object_position": null,
      "order": null,
      "overflow": null,
      "overflow_x": null,
      "overflow_y": null,
      "padding": null,
      "right": null,
      "top": null,
      "visibility": null,
      "width": null
     }
    },
    "1e11847fb17849cfa83595d50a2bafaf": {
     "model_module": "@jupyter-widgets/controls",
     "model_module_version": "1.5.0",
     "model_name": "ProgressStyleModel",
     "state": {
      "_model_module": "@jupyter-widgets/controls",
      "_model_module_version": "1.5.0",
      "_model_name": "ProgressStyleModel",
      "_view_count": null,
      "_view_module": "@jupyter-widgets/base",
      "_view_module_version": "1.2.0",
      "_view_name": "StyleView",
      "bar_color": null,
      "description_width": ""
     }
    },
    "1e2b9825c0c540db9f4a95bc9be7601b": {
     "model_module": "@jupyter-widgets/base",
     "model_module_version": "1.2.0",
     "model_name": "LayoutModel",
     "state": {
      "_model_module": "@jupyter-widgets/base",
      "_model_module_version": "1.2.0",
      "_model_name": "LayoutModel",
      "_view_count": null,
      "_view_module": "@jupyter-widgets/base",
      "_view_module_version": "1.2.0",
      "_view_name": "LayoutView",
      "align_content": null,
      "align_items": null,
      "align_self": null,
      "border": null,
      "bottom": null,
      "display": null,
      "flex": null,
      "flex_flow": null,
      "grid_area": null,
      "grid_auto_columns": null,
      "grid_auto_flow": null,
      "grid_auto_rows": null,
      "grid_column": null,
      "grid_gap": null,
      "grid_row": null,
      "grid_template_areas": null,
      "grid_template_columns": null,
      "grid_template_rows": null,
      "height": null,
      "justify_content": null,
      "justify_items": null,
      "left": null,
      "margin": null,
      "max_height": null,
      "max_width": null,
      "min_height": null,
      "min_width": null,
      "object_fit": null,
      "object_position": null,
      "order": null,
      "overflow": null,
      "overflow_x": null,
      "overflow_y": null,
      "padding": null,
      "right": null,
      "top": null,
      "visibility": null,
      "width": null
     }
    },
    "1f39d8851b5647b59d3244c46bf6a52f": {
     "model_module": "@jupyter-widgets/base",
     "model_module_version": "1.2.0",
     "model_name": "LayoutModel",
     "state": {
      "_model_module": "@jupyter-widgets/base",
      "_model_module_version": "1.2.0",
      "_model_name": "LayoutModel",
      "_view_count": null,
      "_view_module": "@jupyter-widgets/base",
      "_view_module_version": "1.2.0",
      "_view_name": "LayoutView",
      "align_content": null,
      "align_items": null,
      "align_self": null,
      "border": null,
      "bottom": null,
      "display": null,
      "flex": null,
      "flex_flow": null,
      "grid_area": null,
      "grid_auto_columns": null,
      "grid_auto_flow": null,
      "grid_auto_rows": null,
      "grid_column": null,
      "grid_gap": null,
      "grid_row": null,
      "grid_template_areas": null,
      "grid_template_columns": null,
      "grid_template_rows": null,
      "height": null,
      "justify_content": null,
      "justify_items": null,
      "left": null,
      "margin": null,
      "max_height": null,
      "max_width": null,
      "min_height": null,
      "min_width": null,
      "object_fit": null,
      "object_position": null,
      "order": null,
      "overflow": null,
      "overflow_x": null,
      "overflow_y": null,
      "padding": null,
      "right": null,
      "top": null,
      "visibility": null,
      "width": null
     }
    },
    "20566a901a13483f9304f8222b1d2d55": {
     "model_module": "@jupyter-widgets/controls",
     "model_module_version": "1.5.0",
     "model_name": "HTMLModel",
     "state": {
      "_dom_classes": [],
      "_model_module": "@jupyter-widgets/controls",
      "_model_module_version": "1.5.0",
      "_model_name": "HTMLModel",
      "_view_count": null,
      "_view_module": "@jupyter-widgets/controls",
      "_view_module_version": "1.5.0",
      "_view_name": "HTMLView",
      "description": "",
      "description_tooltip": null,
      "layout": "IPY_MODEL_5785c4f147194b4ba0f9d6eeb0944da9",
      "placeholder": "​",
      "style": "IPY_MODEL_d775e3022495477980dcd5587df9d43c",
      "value": " 394/394 [02:40&lt;00:00,  2.73it/s]"
     }
    },
    "208401f2be014d3286246242f39197c6": {
     "model_module": "@jupyter-widgets/controls",
     "model_module_version": "1.5.0",
     "model_name": "DescriptionStyleModel",
     "state": {
      "_model_module": "@jupyter-widgets/controls",
      "_model_module_version": "1.5.0",
      "_model_name": "DescriptionStyleModel",
      "_view_count": null,
      "_view_module": "@jupyter-widgets/base",
      "_view_module_version": "1.2.0",
      "_view_name": "StyleView",
      "description_width": ""
     }
    },
    "20df05c60ffa4e33ab7deb046dd2e1ca": {
     "model_module": "@jupyter-widgets/base",
     "model_module_version": "1.2.0",
     "model_name": "LayoutModel",
     "state": {
      "_model_module": "@jupyter-widgets/base",
      "_model_module_version": "1.2.0",
      "_model_name": "LayoutModel",
      "_view_count": null,
      "_view_module": "@jupyter-widgets/base",
      "_view_module_version": "1.2.0",
      "_view_name": "LayoutView",
      "align_content": null,
      "align_items": null,
      "align_self": null,
      "border": null,
      "bottom": null,
      "display": null,
      "flex": null,
      "flex_flow": null,
      "grid_area": null,
      "grid_auto_columns": null,
      "grid_auto_flow": null,
      "grid_auto_rows": null,
      "grid_column": null,
      "grid_gap": null,
      "grid_row": null,
      "grid_template_areas": null,
      "grid_template_columns": null,
      "grid_template_rows": null,
      "height": null,
      "justify_content": null,
      "justify_items": null,
      "left": null,
      "margin": null,
      "max_height": null,
      "max_width": null,
      "min_height": null,
      "min_width": null,
      "object_fit": null,
      "object_position": null,
      "order": null,
      "overflow": null,
      "overflow_x": null,
      "overflow_y": null,
      "padding": null,
      "right": null,
      "top": null,
      "visibility": null,
      "width": null
     }
    },
    "20f4f47cc5124107869a36d521a6049f": {
     "model_module": "@jupyter-widgets/base",
     "model_module_version": "1.2.0",
     "model_name": "LayoutModel",
     "state": {
      "_model_module": "@jupyter-widgets/base",
      "_model_module_version": "1.2.0",
      "_model_name": "LayoutModel",
      "_view_count": null,
      "_view_module": "@jupyter-widgets/base",
      "_view_module_version": "1.2.0",
      "_view_name": "LayoutView",
      "align_content": null,
      "align_items": null,
      "align_self": null,
      "border": null,
      "bottom": null,
      "display": null,
      "flex": null,
      "flex_flow": null,
      "grid_area": null,
      "grid_auto_columns": null,
      "grid_auto_flow": null,
      "grid_auto_rows": null,
      "grid_column": null,
      "grid_gap": null,
      "grid_row": null,
      "grid_template_areas": null,
      "grid_template_columns": null,
      "grid_template_rows": null,
      "height": null,
      "justify_content": null,
      "justify_items": null,
      "left": null,
      "margin": null,
      "max_height": null,
      "max_width": null,
      "min_height": null,
      "min_width": null,
      "object_fit": null,
      "object_position": null,
      "order": null,
      "overflow": null,
      "overflow_x": null,
      "overflow_y": null,
      "padding": null,
      "right": null,
      "top": null,
      "visibility": null,
      "width": null
     }
    },
    "21b25a56c79f4448a8dfdfcd627efb9c": {
     "model_module": "@jupyter-widgets/controls",
     "model_module_version": "1.5.0",
     "model_name": "HTMLModel",
     "state": {
      "_dom_classes": [],
      "_model_module": "@jupyter-widgets/controls",
      "_model_module_version": "1.5.0",
      "_model_name": "HTMLModel",
      "_view_count": null,
      "_view_module": "@jupyter-widgets/controls",
      "_view_module_version": "1.5.0",
      "_view_name": "HTMLView",
      "description": "",
      "description_tooltip": null,
      "layout": "IPY_MODEL_cae5684d7e424e3aa42d1ccc3eb13d6e",
      "placeholder": "​",
      "style": "IPY_MODEL_57ddf7280ba2461bac642089f5f61751",
      "value": " 99/99 [00:27&lt;00:00,  4.05it/s]"
     }
    },
    "2277d17f8e4449d28275f1891b997629": {
     "model_module": "@jupyter-widgets/controls",
     "model_module_version": "1.5.0",
     "model_name": "DescriptionStyleModel",
     "state": {
      "_model_module": "@jupyter-widgets/controls",
      "_model_module_version": "1.5.0",
      "_model_name": "DescriptionStyleModel",
      "_view_count": null,
      "_view_module": "@jupyter-widgets/base",
      "_view_module_version": "1.2.0",
      "_view_name": "StyleView",
      "description_width": ""
     }
    },
    "246399cb7ce04c2bb58f54e131f77a26": {
     "model_module": "@jupyter-widgets/controls",
     "model_module_version": "1.5.0",
     "model_name": "DescriptionStyleModel",
     "state": {
      "_model_module": "@jupyter-widgets/controls",
      "_model_module_version": "1.5.0",
      "_model_name": "DescriptionStyleModel",
      "_view_count": null,
      "_view_module": "@jupyter-widgets/base",
      "_view_module_version": "1.2.0",
      "_view_name": "StyleView",
      "description_width": ""
     }
    },
    "24acfcdcf416402382b43835ab26d8db": {
     "model_module": "@jupyter-widgets/controls",
     "model_module_version": "1.5.0",
     "model_name": "ProgressStyleModel",
     "state": {
      "_model_module": "@jupyter-widgets/controls",
      "_model_module_version": "1.5.0",
      "_model_name": "ProgressStyleModel",
      "_view_count": null,
      "_view_module": "@jupyter-widgets/base",
      "_view_module_version": "1.2.0",
      "_view_name": "StyleView",
      "bar_color": null,
      "description_width": ""
     }
    },
    "254585e78d324aa788aa55e3cb23bd7b": {
     "model_module": "@jupyter-widgets/controls",
     "model_module_version": "1.5.0",
     "model_name": "DescriptionStyleModel",
     "state": {
      "_model_module": "@jupyter-widgets/controls",
      "_model_module_version": "1.5.0",
      "_model_name": "DescriptionStyleModel",
      "_view_count": null,
      "_view_module": "@jupyter-widgets/base",
      "_view_module_version": "1.2.0",
      "_view_name": "StyleView",
      "description_width": ""
     }
    },
    "257a93042f494a1c8928bca87034dcd2": {
     "model_module": "@jupyter-widgets/controls",
     "model_module_version": "1.5.0",
     "model_name": "DescriptionStyleModel",
     "state": {
      "_model_module": "@jupyter-widgets/controls",
      "_model_module_version": "1.5.0",
      "_model_name": "DescriptionStyleModel",
      "_view_count": null,
      "_view_module": "@jupyter-widgets/base",
      "_view_module_version": "1.2.0",
      "_view_name": "StyleView",
      "description_width": ""
     }
    },
    "2619aab6a091496b88a47d07295b8a29": {
     "model_module": "@jupyter-widgets/controls",
     "model_module_version": "1.5.0",
     "model_name": "FloatProgressModel",
     "state": {
      "_dom_classes": [],
      "_model_module": "@jupyter-widgets/controls",
      "_model_module_version": "1.5.0",
      "_model_name": "FloatProgressModel",
      "_view_count": null,
      "_view_module": "@jupyter-widgets/controls",
      "_view_module_version": "1.5.0",
      "_view_name": "ProgressView",
      "bar_style": "success",
      "description": "",
      "description_tooltip": null,
      "layout": "IPY_MODEL_733dbf66519a46089fb456c6ac572044",
      "max": 394,
      "min": 0,
      "orientation": "horizontal",
      "style": "IPY_MODEL_71884807b9ac4888a25f754cabdd74be",
      "value": 394
     }
    },
    "28ae6de797cf456a913cdaf627f57383": {
     "model_module": "@jupyter-widgets/controls",
     "model_module_version": "1.5.0",
     "model_name": "HTMLModel",
     "state": {
      "_dom_classes": [],
      "_model_module": "@jupyter-widgets/controls",
      "_model_module_version": "1.5.0",
      "_model_name": "HTMLModel",
      "_view_count": null,
      "_view_module": "@jupyter-widgets/controls",
      "_view_module_version": "1.5.0",
      "_view_name": "HTMLView",
      "description": "",
      "description_tooltip": null,
      "layout": "IPY_MODEL_2dba218620fa4884a89bfbce631bb4bd",
      "placeholder": "​",
      "style": "IPY_MODEL_4a3366e1f4fc4f368e764e42d2a95365",
      "value": " 394/394 [01:49&lt;00:00,  4.07it/s]"
     }
    },
    "2ba32e02e1b54425af2e9a030831d0b3": {
     "model_module": "@jupyter-widgets/base",
     "model_module_version": "1.2.0",
     "model_name": "LayoutModel",
     "state": {
      "_model_module": "@jupyter-widgets/base",
      "_model_module_version": "1.2.0",
      "_model_name": "LayoutModel",
      "_view_count": null,
      "_view_module": "@jupyter-widgets/base",
      "_view_module_version": "1.2.0",
      "_view_name": "LayoutView",
      "align_content": null,
      "align_items": null,
      "align_self": null,
      "border": null,
      "bottom": null,
      "display": null,
      "flex": null,
      "flex_flow": null,
      "grid_area": null,
      "grid_auto_columns": null,
      "grid_auto_flow": null,
      "grid_auto_rows": null,
      "grid_column": null,
      "grid_gap": null,
      "grid_row": null,
      "grid_template_areas": null,
      "grid_template_columns": null,
      "grid_template_rows": null,
      "height": null,
      "justify_content": null,
      "justify_items": null,
      "left": null,
      "margin": null,
      "max_height": null,
      "max_width": null,
      "min_height": null,
      "min_width": null,
      "object_fit": null,
      "object_position": null,
      "order": null,
      "overflow": null,
      "overflow_x": null,
      "overflow_y": null,
      "padding": null,
      "right": null,
      "top": null,
      "visibility": null,
      "width": null
     }
    },
    "2bd13c9339794a4e889d66a5c7f417fb": {
     "model_module": "@jupyter-widgets/controls",
     "model_module_version": "1.5.0",
     "model_name": "FloatProgressModel",
     "state": {
      "_dom_classes": [],
      "_model_module": "@jupyter-widgets/controls",
      "_model_module_version": "1.5.0",
      "_model_name": "FloatProgressModel",
      "_view_count": null,
      "_view_module": "@jupyter-widgets/controls",
      "_view_module_version": "1.5.0",
      "_view_name": "ProgressView",
      "bar_style": "success",
      "description": "",
      "description_tooltip": null,
      "layout": "IPY_MODEL_3de9d35e3d9042098999ed78220d6446",
      "max": 394,
      "min": 0,
      "orientation": "horizontal",
      "style": "IPY_MODEL_4334476d02a6463a8821341705da93c8",
      "value": 394
     }
    },
    "2d39161297a84fce83eda363cdbb22db": {
     "model_module": "@jupyter-widgets/controls",
     "model_module_version": "1.5.0",
     "model_name": "DescriptionStyleModel",
     "state": {
      "_model_module": "@jupyter-widgets/controls",
      "_model_module_version": "1.5.0",
      "_model_name": "DescriptionStyleModel",
      "_view_count": null,
      "_view_module": "@jupyter-widgets/base",
      "_view_module_version": "1.2.0",
      "_view_name": "StyleView",
      "description_width": ""
     }
    },
    "2d7e29410bc34e95a16ad9561f376f9a": {
     "model_module": "@jupyter-widgets/controls",
     "model_module_version": "1.5.0",
     "model_name": "DescriptionStyleModel",
     "state": {
      "_model_module": "@jupyter-widgets/controls",
      "_model_module_version": "1.5.0",
      "_model_name": "DescriptionStyleModel",
      "_view_count": null,
      "_view_module": "@jupyter-widgets/base",
      "_view_module_version": "1.2.0",
      "_view_name": "StyleView",
      "description_width": ""
     }
    },
    "2dba218620fa4884a89bfbce631bb4bd": {
     "model_module": "@jupyter-widgets/base",
     "model_module_version": "1.2.0",
     "model_name": "LayoutModel",
     "state": {
      "_model_module": "@jupyter-widgets/base",
      "_model_module_version": "1.2.0",
      "_model_name": "LayoutModel",
      "_view_count": null,
      "_view_module": "@jupyter-widgets/base",
      "_view_module_version": "1.2.0",
      "_view_name": "LayoutView",
      "align_content": null,
      "align_items": null,
      "align_self": null,
      "border": null,
      "bottom": null,
      "display": null,
      "flex": null,
      "flex_flow": null,
      "grid_area": null,
      "grid_auto_columns": null,
      "grid_auto_flow": null,
      "grid_auto_rows": null,
      "grid_column": null,
      "grid_gap": null,
      "grid_row": null,
      "grid_template_areas": null,
      "grid_template_columns": null,
      "grid_template_rows": null,
      "height": null,
      "justify_content": null,
      "justify_items": null,
      "left": null,
      "margin": null,
      "max_height": null,
      "max_width": null,
      "min_height": null,
      "min_width": null,
      "object_fit": null,
      "object_position": null,
      "order": null,
      "overflow": null,
      "overflow_x": null,
      "overflow_y": null,
      "padding": null,
      "right": null,
      "top": null,
      "visibility": null,
      "width": null
     }
    },
    "2eb4bec3068e42b786d9d86227e62547": {
     "model_module": "@jupyter-widgets/base",
     "model_module_version": "1.2.0",
     "model_name": "LayoutModel",
     "state": {
      "_model_module": "@jupyter-widgets/base",
      "_model_module_version": "1.2.0",
      "_model_name": "LayoutModel",
      "_view_count": null,
      "_view_module": "@jupyter-widgets/base",
      "_view_module_version": "1.2.0",
      "_view_name": "LayoutView",
      "align_content": null,
      "align_items": null,
      "align_self": null,
      "border": null,
      "bottom": null,
      "display": null,
      "flex": null,
      "flex_flow": null,
      "grid_area": null,
      "grid_auto_columns": null,
      "grid_auto_flow": null,
      "grid_auto_rows": null,
      "grid_column": null,
      "grid_gap": null,
      "grid_row": null,
      "grid_template_areas": null,
      "grid_template_columns": null,
      "grid_template_rows": null,
      "height": null,
      "justify_content": null,
      "justify_items": null,
      "left": null,
      "margin": null,
      "max_height": null,
      "max_width": null,
      "min_height": null,
      "min_width": null,
      "object_fit": null,
      "object_position": null,
      "order": null,
      "overflow": null,
      "overflow_x": null,
      "overflow_y": null,
      "padding": null,
      "right": null,
      "top": null,
      "visibility": null,
      "width": null
     }
    },
    "317c855af9c3489c822a6e0c6f1d181b": {
     "model_module": "@jupyter-widgets/base",
     "model_module_version": "1.2.0",
     "model_name": "LayoutModel",
     "state": {
      "_model_module": "@jupyter-widgets/base",
      "_model_module_version": "1.2.0",
      "_model_name": "LayoutModel",
      "_view_count": null,
      "_view_module": "@jupyter-widgets/base",
      "_view_module_version": "1.2.0",
      "_view_name": "LayoutView",
      "align_content": null,
      "align_items": null,
      "align_self": null,
      "border": null,
      "bottom": null,
      "display": null,
      "flex": null,
      "flex_flow": null,
      "grid_area": null,
      "grid_auto_columns": null,
      "grid_auto_flow": null,
      "grid_auto_rows": null,
      "grid_column": null,
      "grid_gap": null,
      "grid_row": null,
      "grid_template_areas": null,
      "grid_template_columns": null,
      "grid_template_rows": null,
      "height": null,
      "justify_content": null,
      "justify_items": null,
      "left": null,
      "margin": null,
      "max_height": null,
      "max_width": null,
      "min_height": null,
      "min_width": null,
      "object_fit": null,
      "object_position": null,
      "order": null,
      "overflow": null,
      "overflow_x": null,
      "overflow_y": null,
      "padding": null,
      "right": null,
      "top": null,
      "visibility": null,
      "width": null
     }
    },
    "32debd619e974e68a409d3cb40f07ee9": {
     "model_module": "@jupyter-widgets/controls",
     "model_module_version": "1.5.0",
     "model_name": "DescriptionStyleModel",
     "state": {
      "_model_module": "@jupyter-widgets/controls",
      "_model_module_version": "1.5.0",
      "_model_name": "DescriptionStyleModel",
      "_view_count": null,
      "_view_module": "@jupyter-widgets/base",
      "_view_module_version": "1.2.0",
      "_view_name": "StyleView",
      "description_width": ""
     }
    },
    "34877b92f6964951bb1d2ca7ca4996e2": {
     "model_module": "@jupyter-widgets/controls",
     "model_module_version": "1.5.0",
     "model_name": "ProgressStyleModel",
     "state": {
      "_model_module": "@jupyter-widgets/controls",
      "_model_module_version": "1.5.0",
      "_model_name": "ProgressStyleModel",
      "_view_count": null,
      "_view_module": "@jupyter-widgets/base",
      "_view_module_version": "1.2.0",
      "_view_name": "StyleView",
      "bar_color": null,
      "description_width": ""
     }
    },
    "36c5d969b021443faa80d93bd272f45d": {
     "model_module": "@jupyter-widgets/base",
     "model_module_version": "1.2.0",
     "model_name": "LayoutModel",
     "state": {
      "_model_module": "@jupyter-widgets/base",
      "_model_module_version": "1.2.0",
      "_model_name": "LayoutModel",
      "_view_count": null,
      "_view_module": "@jupyter-widgets/base",
      "_view_module_version": "1.2.0",
      "_view_name": "LayoutView",
      "align_content": null,
      "align_items": null,
      "align_self": null,
      "border": null,
      "bottom": null,
      "display": null,
      "flex": null,
      "flex_flow": null,
      "grid_area": null,
      "grid_auto_columns": null,
      "grid_auto_flow": null,
      "grid_auto_rows": null,
      "grid_column": null,
      "grid_gap": null,
      "grid_row": null,
      "grid_template_areas": null,
      "grid_template_columns": null,
      "grid_template_rows": null,
      "height": null,
      "justify_content": null,
      "justify_items": null,
      "left": null,
      "margin": null,
      "max_height": null,
      "max_width": null,
      "min_height": null,
      "min_width": null,
      "object_fit": null,
      "object_position": null,
      "order": null,
      "overflow": null,
      "overflow_x": null,
      "overflow_y": null,
      "padding": null,
      "right": null,
      "top": null,
      "visibility": null,
      "width": null
     }
    },
    "387018128b434ce5b2ccd75495019750": {
     "model_module": "@jupyter-widgets/base",
     "model_module_version": "1.2.0",
     "model_name": "LayoutModel",
     "state": {
      "_model_module": "@jupyter-widgets/base",
      "_model_module_version": "1.2.0",
      "_model_name": "LayoutModel",
      "_view_count": null,
      "_view_module": "@jupyter-widgets/base",
      "_view_module_version": "1.2.0",
      "_view_name": "LayoutView",
      "align_content": null,
      "align_items": null,
      "align_self": null,
      "border": null,
      "bottom": null,
      "display": null,
      "flex": null,
      "flex_flow": null,
      "grid_area": null,
      "grid_auto_columns": null,
      "grid_auto_flow": null,
      "grid_auto_rows": null,
      "grid_column": null,
      "grid_gap": null,
      "grid_row": null,
      "grid_template_areas": null,
      "grid_template_columns": null,
      "grid_template_rows": null,
      "height": null,
      "justify_content": null,
      "justify_items": null,
      "left": null,
      "margin": null,
      "max_height": null,
      "max_width": null,
      "min_height": null,
      "min_width": null,
      "object_fit": null,
      "object_position": null,
      "order": null,
      "overflow": null,
      "overflow_x": null,
      "overflow_y": null,
      "padding": null,
      "right": null,
      "top": null,
      "visibility": null,
      "width": null
     }
    },
    "38850c00fae0403d850b66bf1592fa1d": {
     "model_module": "@jupyter-widgets/controls",
     "model_module_version": "1.5.0",
     "model_name": "HTMLModel",
     "state": {
      "_dom_classes": [],
      "_model_module": "@jupyter-widgets/controls",
      "_model_module_version": "1.5.0",
      "_model_name": "HTMLModel",
      "_view_count": null,
      "_view_module": "@jupyter-widgets/controls",
      "_view_module_version": "1.5.0",
      "_view_name": "HTMLView",
      "description": "",
      "description_tooltip": null,
      "layout": "IPY_MODEL_72ed553e40984d4082c2bac0fa604b7d",
      "placeholder": "​",
      "style": "IPY_MODEL_5a19450362cd488382c58ff8abcd5f42",
      "value": "Train Acc: 100%"
     }
    },
    "3b7bad45b315478794c05ecabcd2b03f": {
     "model_module": "@jupyter-widgets/base",
     "model_module_version": "1.2.0",
     "model_name": "LayoutModel",
     "state": {
      "_model_module": "@jupyter-widgets/base",
      "_model_module_version": "1.2.0",
      "_model_name": "LayoutModel",
      "_view_count": null,
      "_view_module": "@jupyter-widgets/base",
      "_view_module_version": "1.2.0",
      "_view_name": "LayoutView",
      "align_content": null,
      "align_items": null,
      "align_self": null,
      "border": null,
      "bottom": null,
      "display": null,
      "flex": null,
      "flex_flow": null,
      "grid_area": null,
      "grid_auto_columns": null,
      "grid_auto_flow": null,
      "grid_auto_rows": null,
      "grid_column": null,
      "grid_gap": null,
      "grid_row": null,
      "grid_template_areas": null,
      "grid_template_columns": null,
      "grid_template_rows": null,
      "height": null,
      "justify_content": null,
      "justify_items": null,
      "left": null,
      "margin": null,
      "max_height": null,
      "max_width": null,
      "min_height": null,
      "min_width": null,
      "object_fit": null,
      "object_position": null,
      "order": null,
      "overflow": null,
      "overflow_x": null,
      "overflow_y": null,
      "padding": null,
      "right": null,
      "top": null,
      "visibility": null,
      "width": null
     }
    },
    "3b91504a88674c25855e2bb3fa479244": {
     "model_module": "@jupyter-widgets/base",
     "model_module_version": "1.2.0",
     "model_name": "LayoutModel",
     "state": {
      "_model_module": "@jupyter-widgets/base",
      "_model_module_version": "1.2.0",
      "_model_name": "LayoutModel",
      "_view_count": null,
      "_view_module": "@jupyter-widgets/base",
      "_view_module_version": "1.2.0",
      "_view_name": "LayoutView",
      "align_content": null,
      "align_items": null,
      "align_self": null,
      "border": null,
      "bottom": null,
      "display": null,
      "flex": null,
      "flex_flow": null,
      "grid_area": null,
      "grid_auto_columns": null,
      "grid_auto_flow": null,
      "grid_auto_rows": null,
      "grid_column": null,
      "grid_gap": null,
      "grid_row": null,
      "grid_template_areas": null,
      "grid_template_columns": null,
      "grid_template_rows": null,
      "height": null,
      "justify_content": null,
      "justify_items": null,
      "left": null,
      "margin": null,
      "max_height": null,
      "max_width": null,
      "min_height": null,
      "min_width": null,
      "object_fit": null,
      "object_position": null,
      "order": null,
      "overflow": null,
      "overflow_x": null,
      "overflow_y": null,
      "padding": null,
      "right": null,
      "top": null,
      "visibility": null,
      "width": null
     }
    },
    "3d8e00010f0542e5bde579eb218dfa44": {
     "model_module": "@jupyter-widgets/base",
     "model_module_version": "1.2.0",
     "model_name": "LayoutModel",
     "state": {
      "_model_module": "@jupyter-widgets/base",
      "_model_module_version": "1.2.0",
      "_model_name": "LayoutModel",
      "_view_count": null,
      "_view_module": "@jupyter-widgets/base",
      "_view_module_version": "1.2.0",
      "_view_name": "LayoutView",
      "align_content": null,
      "align_items": null,
      "align_self": null,
      "border": null,
      "bottom": null,
      "display": null,
      "flex": null,
      "flex_flow": null,
      "grid_area": null,
      "grid_auto_columns": null,
      "grid_auto_flow": null,
      "grid_auto_rows": null,
      "grid_column": null,
      "grid_gap": null,
      "grid_row": null,
      "grid_template_areas": null,
      "grid_template_columns": null,
      "grid_template_rows": null,
      "height": null,
      "justify_content": null,
      "justify_items": null,
      "left": null,
      "margin": null,
      "max_height": null,
      "max_width": null,
      "min_height": null,
      "min_width": null,
      "object_fit": null,
      "object_position": null,
      "order": null,
      "overflow": null,
      "overflow_x": null,
      "overflow_y": null,
      "padding": null,
      "right": null,
      "top": null,
      "visibility": null,
      "width": null
     }
    },
    "3de9d35e3d9042098999ed78220d6446": {
     "model_module": "@jupyter-widgets/base",
     "model_module_version": "1.2.0",
     "model_name": "LayoutModel",
     "state": {
      "_model_module": "@jupyter-widgets/base",
      "_model_module_version": "1.2.0",
      "_model_name": "LayoutModel",
      "_view_count": null,
      "_view_module": "@jupyter-widgets/base",
      "_view_module_version": "1.2.0",
      "_view_name": "LayoutView",
      "align_content": null,
      "align_items": null,
      "align_self": null,
      "border": null,
      "bottom": null,
      "display": null,
      "flex": null,
      "flex_flow": null,
      "grid_area": null,
      "grid_auto_columns": null,
      "grid_auto_flow": null,
      "grid_auto_rows": null,
      "grid_column": null,
      "grid_gap": null,
      "grid_row": null,
      "grid_template_areas": null,
      "grid_template_columns": null,
      "grid_template_rows": null,
      "height": null,
      "justify_content": null,
      "justify_items": null,
      "left": null,
      "margin": null,
      "max_height": null,
      "max_width": null,
      "min_height": null,
      "min_width": null,
      "object_fit": null,
      "object_position": null,
      "order": null,
      "overflow": null,
      "overflow_x": null,
      "overflow_y": null,
      "padding": null,
      "right": null,
      "top": null,
      "visibility": null,
      "width": null
     }
    },
    "3f2fe2d9a0ad4cfbb0a3816d04046bff": {
     "model_module": "@jupyter-widgets/controls",
     "model_module_version": "1.5.0",
     "model_name": "DescriptionStyleModel",
     "state": {
      "_model_module": "@jupyter-widgets/controls",
      "_model_module_version": "1.5.0",
      "_model_name": "DescriptionStyleModel",
      "_view_count": null,
      "_view_module": "@jupyter-widgets/base",
      "_view_module_version": "1.2.0",
      "_view_name": "StyleView",
      "description_width": ""
     }
    },
    "4037dbe08ffb470fa508bcb153563205": {
     "model_module": "@jupyter-widgets/controls",
     "model_module_version": "1.5.0",
     "model_name": "ProgressStyleModel",
     "state": {
      "_model_module": "@jupyter-widgets/controls",
      "_model_module_version": "1.5.0",
      "_model_name": "ProgressStyleModel",
      "_view_count": null,
      "_view_module": "@jupyter-widgets/base",
      "_view_module_version": "1.2.0",
      "_view_name": "StyleView",
      "bar_color": null,
      "description_width": ""
     }
    },
    "410799b397e54882a7d1197713a88a49": {
     "model_module": "@jupyter-widgets/base",
     "model_module_version": "1.2.0",
     "model_name": "LayoutModel",
     "state": {
      "_model_module": "@jupyter-widgets/base",
      "_model_module_version": "1.2.0",
      "_model_name": "LayoutModel",
      "_view_count": null,
      "_view_module": "@jupyter-widgets/base",
      "_view_module_version": "1.2.0",
      "_view_name": "LayoutView",
      "align_content": null,
      "align_items": null,
      "align_self": null,
      "border": null,
      "bottom": null,
      "display": null,
      "flex": null,
      "flex_flow": null,
      "grid_area": null,
      "grid_auto_columns": null,
      "grid_auto_flow": null,
      "grid_auto_rows": null,
      "grid_column": null,
      "grid_gap": null,
      "grid_row": null,
      "grid_template_areas": null,
      "grid_template_columns": null,
      "grid_template_rows": null,
      "height": null,
      "justify_content": null,
      "justify_items": null,
      "left": null,
      "margin": null,
      "max_height": null,
      "max_width": null,
      "min_height": null,
      "min_width": null,
      "object_fit": null,
      "object_position": null,
      "order": null,
      "overflow": null,
      "overflow_x": null,
      "overflow_y": null,
      "padding": null,
      "right": null,
      "top": null,
      "visibility": null,
      "width": null
     }
    },
    "4241d35e1df54a0dba5d443d3964b09a": {
     "model_module": "@jupyter-widgets/controls",
     "model_module_version": "1.5.0",
     "model_name": "HTMLModel",
     "state": {
      "_dom_classes": [],
      "_model_module": "@jupyter-widgets/controls",
      "_model_module_version": "1.5.0",
      "_model_name": "HTMLModel",
      "_view_count": null,
      "_view_module": "@jupyter-widgets/controls",
      "_view_module_version": "1.5.0",
      "_view_name": "HTMLView",
      "description": "",
      "description_tooltip": null,
      "layout": "IPY_MODEL_0f7e725ae69343ce8558bf640609b8c1",
      "placeholder": "​",
      "style": "IPY_MODEL_c942ac127d2b4bbc9c94e7a89b37efc2",
      "value": "Train Acc: 100%"
     }
    },
    "42b3ea68b16f4dafb20ababf13efd630": {
     "model_module": "@jupyter-widgets/controls",
     "model_module_version": "1.5.0",
     "model_name": "FloatProgressModel",
     "state": {
      "_dom_classes": [],
      "_model_module": "@jupyter-widgets/controls",
      "_model_module_version": "1.5.0",
      "_model_name": "FloatProgressModel",
      "_view_count": null,
      "_view_module": "@jupyter-widgets/controls",
      "_view_module_version": "1.5.0",
      "_view_name": "ProgressView",
      "bar_style": "success",
      "description": "",
      "description_tooltip": null,
      "layout": "IPY_MODEL_ff78ef50665942ceafb18be02153ad5d",
      "max": 99,
      "min": 0,
      "orientation": "horizontal",
      "style": "IPY_MODEL_e7f67d9ae676450983cbd02f32460fa0",
      "value": 99
     }
    },
    "4334476d02a6463a8821341705da93c8": {
     "model_module": "@jupyter-widgets/controls",
     "model_module_version": "1.5.0",
     "model_name": "ProgressStyleModel",
     "state": {
      "_model_module": "@jupyter-widgets/controls",
      "_model_module_version": "1.5.0",
      "_model_name": "ProgressStyleModel",
      "_view_count": null,
      "_view_module": "@jupyter-widgets/base",
      "_view_module_version": "1.2.0",
      "_view_name": "StyleView",
      "bar_color": null,
      "description_width": ""
     }
    },
    "43360ee800c74d568b5809119d7275f2": {
     "model_module": "@jupyter-widgets/base",
     "model_module_version": "1.2.0",
     "model_name": "LayoutModel",
     "state": {
      "_model_module": "@jupyter-widgets/base",
      "_model_module_version": "1.2.0",
      "_model_name": "LayoutModel",
      "_view_count": null,
      "_view_module": "@jupyter-widgets/base",
      "_view_module_version": "1.2.0",
      "_view_name": "LayoutView",
      "align_content": null,
      "align_items": null,
      "align_self": null,
      "border": null,
      "bottom": null,
      "display": null,
      "flex": null,
      "flex_flow": null,
      "grid_area": null,
      "grid_auto_columns": null,
      "grid_auto_flow": null,
      "grid_auto_rows": null,
      "grid_column": null,
      "grid_gap": null,
      "grid_row": null,
      "grid_template_areas": null,
      "grid_template_columns": null,
      "grid_template_rows": null,
      "height": null,
      "justify_content": null,
      "justify_items": null,
      "left": null,
      "margin": null,
      "max_height": null,
      "max_width": null,
      "min_height": null,
      "min_width": null,
      "object_fit": null,
      "object_position": null,
      "order": null,
      "overflow": null,
      "overflow_x": null,
      "overflow_y": null,
      "padding": null,
      "right": null,
      "top": null,
      "visibility": null,
      "width": null
     }
    },
    "4460b968e0764bf3aed992439119cae5": {
     "model_module": "@jupyter-widgets/base",
     "model_module_version": "1.2.0",
     "model_name": "LayoutModel",
     "state": {
      "_model_module": "@jupyter-widgets/base",
      "_model_module_version": "1.2.0",
      "_model_name": "LayoutModel",
      "_view_count": null,
      "_view_module": "@jupyter-widgets/base",
      "_view_module_version": "1.2.0",
      "_view_name": "LayoutView",
      "align_content": null,
      "align_items": null,
      "align_self": null,
      "border": null,
      "bottom": null,
      "display": null,
      "flex": null,
      "flex_flow": null,
      "grid_area": null,
      "grid_auto_columns": null,
      "grid_auto_flow": null,
      "grid_auto_rows": null,
      "grid_column": null,
      "grid_gap": null,
      "grid_row": null,
      "grid_template_areas": null,
      "grid_template_columns": null,
      "grid_template_rows": null,
      "height": null,
      "justify_content": null,
      "justify_items": null,
      "left": null,
      "margin": null,
      "max_height": null,
      "max_width": null,
      "min_height": null,
      "min_width": null,
      "object_fit": null,
      "object_position": null,
      "order": null,
      "overflow": null,
      "overflow_x": null,
      "overflow_y": null,
      "padding": null,
      "right": null,
      "top": null,
      "visibility": null,
      "width": null
     }
    },
    "45cad59c33224fee962de65e50b28456": {
     "model_module": "@jupyter-widgets/base",
     "model_module_version": "1.2.0",
     "model_name": "LayoutModel",
     "state": {
      "_model_module": "@jupyter-widgets/base",
      "_model_module_version": "1.2.0",
      "_model_name": "LayoutModel",
      "_view_count": null,
      "_view_module": "@jupyter-widgets/base",
      "_view_module_version": "1.2.0",
      "_view_name": "LayoutView",
      "align_content": null,
      "align_items": null,
      "align_self": null,
      "border": null,
      "bottom": null,
      "display": null,
      "flex": null,
      "flex_flow": null,
      "grid_area": null,
      "grid_auto_columns": null,
      "grid_auto_flow": null,
      "grid_auto_rows": null,
      "grid_column": null,
      "grid_gap": null,
      "grid_row": null,
      "grid_template_areas": null,
      "grid_template_columns": null,
      "grid_template_rows": null,
      "height": null,
      "justify_content": null,
      "justify_items": null,
      "left": null,
      "margin": null,
      "max_height": null,
      "max_width": null,
      "min_height": null,
      "min_width": null,
      "object_fit": null,
      "object_position": null,
      "order": null,
      "overflow": null,
      "overflow_x": null,
      "overflow_y": null,
      "padding": null,
      "right": null,
      "top": null,
      "visibility": null,
      "width": null
     }
    },
    "4611e1a813354e1aa13a51d62bf19b39": {
     "model_module": "@jupyter-widgets/base",
     "model_module_version": "1.2.0",
     "model_name": "LayoutModel",
     "state": {
      "_model_module": "@jupyter-widgets/base",
      "_model_module_version": "1.2.0",
      "_model_name": "LayoutModel",
      "_view_count": null,
      "_view_module": "@jupyter-widgets/base",
      "_view_module_version": "1.2.0",
      "_view_name": "LayoutView",
      "align_content": null,
      "align_items": null,
      "align_self": null,
      "border": null,
      "bottom": null,
      "display": null,
      "flex": null,
      "flex_flow": null,
      "grid_area": null,
      "grid_auto_columns": null,
      "grid_auto_flow": null,
      "grid_auto_rows": null,
      "grid_column": null,
      "grid_gap": null,
      "grid_row": null,
      "grid_template_areas": null,
      "grid_template_columns": null,
      "grid_template_rows": null,
      "height": null,
      "justify_content": null,
      "justify_items": null,
      "left": null,
      "margin": null,
      "max_height": null,
      "max_width": null,
      "min_height": null,
      "min_width": null,
      "object_fit": null,
      "object_position": null,
      "order": null,
      "overflow": null,
      "overflow_x": null,
      "overflow_y": null,
      "padding": null,
      "right": null,
      "top": null,
      "visibility": null,
      "width": null
     }
    },
    "46ad7621d6c2426a9090a23c0304b18a": {
     "model_module": "@jupyter-widgets/controls",
     "model_module_version": "1.5.0",
     "model_name": "DescriptionStyleModel",
     "state": {
      "_model_module": "@jupyter-widgets/controls",
      "_model_module_version": "1.5.0",
      "_model_name": "DescriptionStyleModel",
      "_view_count": null,
      "_view_module": "@jupyter-widgets/base",
      "_view_module_version": "1.2.0",
      "_view_name": "StyleView",
      "description_width": ""
     }
    },
    "479bdbf9a7ae4f19a7d117722d899a61": {
     "model_module": "@jupyter-widgets/controls",
     "model_module_version": "1.5.0",
     "model_name": "HTMLModel",
     "state": {
      "_dom_classes": [],
      "_model_module": "@jupyter-widgets/controls",
      "_model_module_version": "1.5.0",
      "_model_name": "HTMLModel",
      "_view_count": null,
      "_view_module": "@jupyter-widgets/controls",
      "_view_module_version": "1.5.0",
      "_view_name": "HTMLView",
      "description": "",
      "description_tooltip": null,
      "layout": "IPY_MODEL_1f39d8851b5647b59d3244c46bf6a52f",
      "placeholder": "​",
      "style": "IPY_MODEL_ec5e5d0abf0847ba80127af04525527d",
      "value": "Test Acc: 100%"
     }
    },
    "47e256677ce645669a54db56a388255b": {
     "model_module": "@jupyter-widgets/base",
     "model_module_version": "1.2.0",
     "model_name": "LayoutModel",
     "state": {
      "_model_module": "@jupyter-widgets/base",
      "_model_module_version": "1.2.0",
      "_model_name": "LayoutModel",
      "_view_count": null,
      "_view_module": "@jupyter-widgets/base",
      "_view_module_version": "1.2.0",
      "_view_name": "LayoutView",
      "align_content": null,
      "align_items": null,
      "align_self": null,
      "border": null,
      "bottom": null,
      "display": null,
      "flex": null,
      "flex_flow": null,
      "grid_area": null,
      "grid_auto_columns": null,
      "grid_auto_flow": null,
      "grid_auto_rows": null,
      "grid_column": null,
      "grid_gap": null,
      "grid_row": null,
      "grid_template_areas": null,
      "grid_template_columns": null,
      "grid_template_rows": null,
      "height": null,
      "justify_content": null,
      "justify_items": null,
      "left": null,
      "margin": null,
      "max_height": null,
      "max_width": null,
      "min_height": null,
      "min_width": null,
      "object_fit": null,
      "object_position": null,
      "order": null,
      "overflow": null,
      "overflow_x": null,
      "overflow_y": null,
      "padding": null,
      "right": null,
      "top": null,
      "visibility": null,
      "width": null
     }
    },
    "488f861a5f3047879fea8b8e6fd80578": {
     "model_module": "@jupyter-widgets/controls",
     "model_module_version": "1.5.0",
     "model_name": "HBoxModel",
     "state": {
      "_dom_classes": [],
      "_model_module": "@jupyter-widgets/controls",
      "_model_module_version": "1.5.0",
      "_model_name": "HBoxModel",
      "_view_count": null,
      "_view_module": "@jupyter-widgets/controls",
      "_view_module_version": "1.5.0",
      "_view_name": "HBoxView",
      "box_style": "",
      "children": [
       "IPY_MODEL_7cc4b60f819d4d049d0b65c0819876e6",
       "IPY_MODEL_f5cbc0dfd25f4ecfa0a91bb5be9b88c4",
       "IPY_MODEL_7f366d4f36af4b7da46a1e4ecd423ad4"
      ],
      "layout": "IPY_MODEL_9874ea1e57ca45378c3ade75bf6a2fe7"
     }
    },
    "4a3366e1f4fc4f368e764e42d2a95365": {
     "model_module": "@jupyter-widgets/controls",
     "model_module_version": "1.5.0",
     "model_name": "DescriptionStyleModel",
     "state": {
      "_model_module": "@jupyter-widgets/controls",
      "_model_module_version": "1.5.0",
      "_model_name": "DescriptionStyleModel",
      "_view_count": null,
      "_view_module": "@jupyter-widgets/base",
      "_view_module_version": "1.2.0",
      "_view_name": "StyleView",
      "description_width": ""
     }
    },
    "4c25ace49d1b4b13ac8196ce989e82a6": {
     "model_module": "@jupyter-widgets/controls",
     "model_module_version": "1.5.0",
     "model_name": "DescriptionStyleModel",
     "state": {
      "_model_module": "@jupyter-widgets/controls",
      "_model_module_version": "1.5.0",
      "_model_name": "DescriptionStyleModel",
      "_view_count": null,
      "_view_module": "@jupyter-widgets/base",
      "_view_module_version": "1.2.0",
      "_view_name": "StyleView",
      "description_width": ""
     }
    },
    "4d7a28afde9e470982a0201d696158e7": {
     "model_module": "@jupyter-widgets/controls",
     "model_module_version": "1.5.0",
     "model_name": "DescriptionStyleModel",
     "state": {
      "_model_module": "@jupyter-widgets/controls",
      "_model_module_version": "1.5.0",
      "_model_name": "DescriptionStyleModel",
      "_view_count": null,
      "_view_module": "@jupyter-widgets/base",
      "_view_module_version": "1.2.0",
      "_view_name": "StyleView",
      "description_width": ""
     }
    },
    "4ed79e5ccd9242c6abc0ef77ef666415": {
     "model_module": "@jupyter-widgets/controls",
     "model_module_version": "1.5.0",
     "model_name": "DescriptionStyleModel",
     "state": {
      "_model_module": "@jupyter-widgets/controls",
      "_model_module_version": "1.5.0",
      "_model_name": "DescriptionStyleModel",
      "_view_count": null,
      "_view_module": "@jupyter-widgets/base",
      "_view_module_version": "1.2.0",
      "_view_name": "StyleView",
      "description_width": ""
     }
    },
    "4f50294088a04ef48ad6c2c5487012a0": {
     "model_module": "@jupyter-widgets/controls",
     "model_module_version": "1.5.0",
     "model_name": "HTMLModel",
     "state": {
      "_dom_classes": [],
      "_model_module": "@jupyter-widgets/controls",
      "_model_module_version": "1.5.0",
      "_model_name": "HTMLModel",
      "_view_count": null,
      "_view_module": "@jupyter-widgets/controls",
      "_view_module_version": "1.5.0",
      "_view_name": "HTMLView",
      "description": "",
      "description_tooltip": null,
      "layout": "IPY_MODEL_f429aa2959084b829069c851746250d2",
      "placeholder": "​",
      "style": "IPY_MODEL_987c414d44b84ffea79e19c917f7430b",
      "value": " 394/394 [02:41&lt;00:00,  2.72it/s]"
     }
    },
    "5166a6ca1860442cb2c76f71757efc26": {
     "model_module": "@jupyter-widgets/controls",
     "model_module_version": "1.5.0",
     "model_name": "FloatProgressModel",
     "state": {
      "_dom_classes": [],
      "_model_module": "@jupyter-widgets/controls",
      "_model_module_version": "1.5.0",
      "_model_name": "FloatProgressModel",
      "_view_count": null,
      "_view_module": "@jupyter-widgets/controls",
      "_view_module_version": "1.5.0",
      "_view_name": "ProgressView",
      "bar_style": "success",
      "description": "",
      "description_tooltip": null,
      "layout": "IPY_MODEL_66b2ac7a4a7a46eda05744745e462575",
      "max": 99,
      "min": 0,
      "orientation": "horizontal",
      "style": "IPY_MODEL_34877b92f6964951bb1d2ca7ca4996e2",
      "value": 99
     }
    },
    "5765f07f46284f769973956f060085f9": {
     "model_module": "@jupyter-widgets/controls",
     "model_module_version": "1.5.0",
     "model_name": "HBoxModel",
     "state": {
      "_dom_classes": [],
      "_model_module": "@jupyter-widgets/controls",
      "_model_module_version": "1.5.0",
      "_model_name": "HBoxModel",
      "_view_count": null,
      "_view_module": "@jupyter-widgets/controls",
      "_view_module_version": "1.5.0",
      "_view_name": "HBoxView",
      "box_style": "",
      "children": [
       "IPY_MODEL_8a317ca463f74ba7ac763ad49d45b531",
       "IPY_MODEL_ab1c368fb1b042a8a065870b9960aa31",
       "IPY_MODEL_12cdd4ab758d467fb1178c8138ac37ae"
      ],
      "layout": "IPY_MODEL_59ddccedb7324d3e8f6eca10ad2e1ff9"
     }
    },
    "5785c4f147194b4ba0f9d6eeb0944da9": {
     "model_module": "@jupyter-widgets/base",
     "model_module_version": "1.2.0",
     "model_name": "LayoutModel",
     "state": {
      "_model_module": "@jupyter-widgets/base",
      "_model_module_version": "1.2.0",
      "_model_name": "LayoutModel",
      "_view_count": null,
      "_view_module": "@jupyter-widgets/base",
      "_view_module_version": "1.2.0",
      "_view_name": "LayoutView",
      "align_content": null,
      "align_items": null,
      "align_self": null,
      "border": null,
      "bottom": null,
      "display": null,
      "flex": null,
      "flex_flow": null,
      "grid_area": null,
      "grid_auto_columns": null,
      "grid_auto_flow": null,
      "grid_auto_rows": null,
      "grid_column": null,
      "grid_gap": null,
      "grid_row": null,
      "grid_template_areas": null,
      "grid_template_columns": null,
      "grid_template_rows": null,
      "height": null,
      "justify_content": null,
      "justify_items": null,
      "left": null,
      "margin": null,
      "max_height": null,
      "max_width": null,
      "min_height": null,
      "min_width": null,
      "object_fit": null,
      "object_position": null,
      "order": null,
      "overflow": null,
      "overflow_x": null,
      "overflow_y": null,
      "padding": null,
      "right": null,
      "top": null,
      "visibility": null,
      "width": null
     }
    },
    "57ddf7280ba2461bac642089f5f61751": {
     "model_module": "@jupyter-widgets/controls",
     "model_module_version": "1.5.0",
     "model_name": "DescriptionStyleModel",
     "state": {
      "_model_module": "@jupyter-widgets/controls",
      "_model_module_version": "1.5.0",
      "_model_name": "DescriptionStyleModel",
      "_view_count": null,
      "_view_module": "@jupyter-widgets/base",
      "_view_module_version": "1.2.0",
      "_view_name": "StyleView",
      "description_width": ""
     }
    },
    "59ddccedb7324d3e8f6eca10ad2e1ff9": {
     "model_module": "@jupyter-widgets/base",
     "model_module_version": "1.2.0",
     "model_name": "LayoutModel",
     "state": {
      "_model_module": "@jupyter-widgets/base",
      "_model_module_version": "1.2.0",
      "_model_name": "LayoutModel",
      "_view_count": null,
      "_view_module": "@jupyter-widgets/base",
      "_view_module_version": "1.2.0",
      "_view_name": "LayoutView",
      "align_content": null,
      "align_items": null,
      "align_self": null,
      "border": null,
      "bottom": null,
      "display": null,
      "flex": null,
      "flex_flow": null,
      "grid_area": null,
      "grid_auto_columns": null,
      "grid_auto_flow": null,
      "grid_auto_rows": null,
      "grid_column": null,
      "grid_gap": null,
      "grid_row": null,
      "grid_template_areas": null,
      "grid_template_columns": null,
      "grid_template_rows": null,
      "height": null,
      "justify_content": null,
      "justify_items": null,
      "left": null,
      "margin": null,
      "max_height": null,
      "max_width": null,
      "min_height": null,
      "min_width": null,
      "object_fit": null,
      "object_position": null,
      "order": null,
      "overflow": null,
      "overflow_x": null,
      "overflow_y": null,
      "padding": null,
      "right": null,
      "top": null,
      "visibility": null,
      "width": null
     }
    },
    "5a19450362cd488382c58ff8abcd5f42": {
     "model_module": "@jupyter-widgets/controls",
     "model_module_version": "1.5.0",
     "model_name": "DescriptionStyleModel",
     "state": {
      "_model_module": "@jupyter-widgets/controls",
      "_model_module_version": "1.5.0",
      "_model_name": "DescriptionStyleModel",
      "_view_count": null,
      "_view_module": "@jupyter-widgets/base",
      "_view_module_version": "1.2.0",
      "_view_name": "StyleView",
      "description_width": ""
     }
    },
    "5dd7d71b5e114303a1f415b4352cb897": {
     "model_module": "@jupyter-widgets/base",
     "model_module_version": "1.2.0",
     "model_name": "LayoutModel",
     "state": {
      "_model_module": "@jupyter-widgets/base",
      "_model_module_version": "1.2.0",
      "_model_name": "LayoutModel",
      "_view_count": null,
      "_view_module": "@jupyter-widgets/base",
      "_view_module_version": "1.2.0",
      "_view_name": "LayoutView",
      "align_content": null,
      "align_items": null,
      "align_self": null,
      "border": null,
      "bottom": null,
      "display": null,
      "flex": null,
      "flex_flow": null,
      "grid_area": null,
      "grid_auto_columns": null,
      "grid_auto_flow": null,
      "grid_auto_rows": null,
      "grid_column": null,
      "grid_gap": null,
      "grid_row": null,
      "grid_template_areas": null,
      "grid_template_columns": null,
      "grid_template_rows": null,
      "height": null,
      "justify_content": null,
      "justify_items": null,
      "left": null,
      "margin": null,
      "max_height": null,
      "max_width": null,
      "min_height": null,
      "min_width": null,
      "object_fit": null,
      "object_position": null,
      "order": null,
      "overflow": null,
      "overflow_x": null,
      "overflow_y": null,
      "padding": null,
      "right": null,
      "top": null,
      "visibility": null,
      "width": null
     }
    },
    "5e5f699f9c844210b6e65d928302d1e3": {
     "model_module": "@jupyter-widgets/controls",
     "model_module_version": "1.5.0",
     "model_name": "HTMLModel",
     "state": {
      "_dom_classes": [],
      "_model_module": "@jupyter-widgets/controls",
      "_model_module_version": "1.5.0",
      "_model_name": "HTMLModel",
      "_view_count": null,
      "_view_module": "@jupyter-widgets/controls",
      "_view_module_version": "1.5.0",
      "_view_name": "HTMLView",
      "description": "",
      "description_tooltip": null,
      "layout": "IPY_MODEL_a9de44b7c31d424d9f2294c94c75abef",
      "placeholder": "​",
      "style": "IPY_MODEL_7a68bf639f0740e0bf4d6470b85a0b0f",
      "value": " 394/394 [01:41&lt;00:00,  4.35it/s]"
     }
    },
    "5e96d70e00a6405c84d2732ad895d6d8": {
     "model_module": "@jupyter-widgets/base",
     "model_module_version": "1.2.0",
     "model_name": "LayoutModel",
     "state": {
      "_model_module": "@jupyter-widgets/base",
      "_model_module_version": "1.2.0",
      "_model_name": "LayoutModel",
      "_view_count": null,
      "_view_module": "@jupyter-widgets/base",
      "_view_module_version": "1.2.0",
      "_view_name": "LayoutView",
      "align_content": null,
      "align_items": null,
      "align_self": null,
      "border": null,
      "bottom": null,
      "display": null,
      "flex": null,
      "flex_flow": null,
      "grid_area": null,
      "grid_auto_columns": null,
      "grid_auto_flow": null,
      "grid_auto_rows": null,
      "grid_column": null,
      "grid_gap": null,
      "grid_row": null,
      "grid_template_areas": null,
      "grid_template_columns": null,
      "grid_template_rows": null,
      "height": null,
      "justify_content": null,
      "justify_items": null,
      "left": null,
      "margin": null,
      "max_height": null,
      "max_width": null,
      "min_height": null,
      "min_width": null,
      "object_fit": null,
      "object_position": null,
      "order": null,
      "overflow": null,
      "overflow_x": null,
      "overflow_y": null,
      "padding": null,
      "right": null,
      "top": null,
      "visibility": null,
      "width": null
     }
    },
    "5fba407906d445ba9e7bdee8aab9f2cd": {
     "model_module": "@jupyter-widgets/base",
     "model_module_version": "1.2.0",
     "model_name": "LayoutModel",
     "state": {
      "_model_module": "@jupyter-widgets/base",
      "_model_module_version": "1.2.0",
      "_model_name": "LayoutModel",
      "_view_count": null,
      "_view_module": "@jupyter-widgets/base",
      "_view_module_version": "1.2.0",
      "_view_name": "LayoutView",
      "align_content": null,
      "align_items": null,
      "align_self": null,
      "border": null,
      "bottom": null,
      "display": null,
      "flex": null,
      "flex_flow": null,
      "grid_area": null,
      "grid_auto_columns": null,
      "grid_auto_flow": null,
      "grid_auto_rows": null,
      "grid_column": null,
      "grid_gap": null,
      "grid_row": null,
      "grid_template_areas": null,
      "grid_template_columns": null,
      "grid_template_rows": null,
      "height": null,
      "justify_content": null,
      "justify_items": null,
      "left": null,
      "margin": null,
      "max_height": null,
      "max_width": null,
      "min_height": null,
      "min_width": null,
      "object_fit": null,
      "object_position": null,
      "order": null,
      "overflow": null,
      "overflow_x": null,
      "overflow_y": null,
      "padding": null,
      "right": null,
      "top": null,
      "visibility": null,
      "width": null
     }
    },
    "60255a00b2094cc99d94d060e4b8ab07": {
     "model_module": "@jupyter-widgets/controls",
     "model_module_version": "1.5.0",
     "model_name": "HTMLModel",
     "state": {
      "_dom_classes": [],
      "_model_module": "@jupyter-widgets/controls",
      "_model_module_version": "1.5.0",
      "_model_name": "HTMLModel",
      "_view_count": null,
      "_view_module": "@jupyter-widgets/controls",
      "_view_module_version": "1.5.0",
      "_view_name": "HTMLView",
      "description": "",
      "description_tooltip": null,
      "layout": "IPY_MODEL_4460b968e0764bf3aed992439119cae5",
      "placeholder": "​",
      "style": "IPY_MODEL_8c249d6aaab54fd4bfc574dbc92c54dd",
      "value": "Train Acc: 100%"
     }
    },
    "60599c36415046b189df3a97502acb3a": {
     "model_module": "@jupyter-widgets/controls",
     "model_module_version": "1.5.0",
     "model_name": "HBoxModel",
     "state": {
      "_dom_classes": [],
      "_model_module": "@jupyter-widgets/controls",
      "_model_module_version": "1.5.0",
      "_model_name": "HBoxModel",
      "_view_count": null,
      "_view_module": "@jupyter-widgets/controls",
      "_view_module_version": "1.5.0",
      "_view_name": "HBoxView",
      "box_style": "",
      "children": [
       "IPY_MODEL_95394bc1a3f847eaa163a287c0c97e52",
       "IPY_MODEL_75b164d11df04e7694b25802c4073aca",
       "IPY_MODEL_d477ff71ce6a48758512cd71ef9de99c"
      ],
      "layout": "IPY_MODEL_a57481f59e3d46c9b34386bd628d913a"
     }
    },
    "60a45a8ba98045f0b357b083f54b325b": {
     "model_module": "@jupyter-widgets/controls",
     "model_module_version": "1.5.0",
     "model_name": "FloatProgressModel",
     "state": {
      "_dom_classes": [],
      "_model_module": "@jupyter-widgets/controls",
      "_model_module_version": "1.5.0",
      "_model_name": "FloatProgressModel",
      "_view_count": null,
      "_view_module": "@jupyter-widgets/controls",
      "_view_module_version": "1.5.0",
      "_view_name": "ProgressView",
      "bar_style": "success",
      "description": "",
      "description_tooltip": null,
      "layout": "IPY_MODEL_055c5d710a50435294d327d54b6da7c4",
      "max": 394,
      "min": 0,
      "orientation": "horizontal",
      "style": "IPY_MODEL_24acfcdcf416402382b43835ab26d8db",
      "value": 394
     }
    },
    "6219976d422941f0972b36ac67672456": {
     "model_module": "@jupyter-widgets/controls",
     "model_module_version": "1.5.0",
     "model_name": "ProgressStyleModel",
     "state": {
      "_model_module": "@jupyter-widgets/controls",
      "_model_module_version": "1.5.0",
      "_model_name": "ProgressStyleModel",
      "_view_count": null,
      "_view_module": "@jupyter-widgets/base",
      "_view_module_version": "1.2.0",
      "_view_name": "StyleView",
      "bar_color": null,
      "description_width": ""
     }
    },
    "66b2ac7a4a7a46eda05744745e462575": {
     "model_module": "@jupyter-widgets/base",
     "model_module_version": "1.2.0",
     "model_name": "LayoutModel",
     "state": {
      "_model_module": "@jupyter-widgets/base",
      "_model_module_version": "1.2.0",
      "_model_name": "LayoutModel",
      "_view_count": null,
      "_view_module": "@jupyter-widgets/base",
      "_view_module_version": "1.2.0",
      "_view_name": "LayoutView",
      "align_content": null,
      "align_items": null,
      "align_self": null,
      "border": null,
      "bottom": null,
      "display": null,
      "flex": null,
      "flex_flow": null,
      "grid_area": null,
      "grid_auto_columns": null,
      "grid_auto_flow": null,
      "grid_auto_rows": null,
      "grid_column": null,
      "grid_gap": null,
      "grid_row": null,
      "grid_template_areas": null,
      "grid_template_columns": null,
      "grid_template_rows": null,
      "height": null,
      "justify_content": null,
      "justify_items": null,
      "left": null,
      "margin": null,
      "max_height": null,
      "max_width": null,
      "min_height": null,
      "min_width": null,
      "object_fit": null,
      "object_position": null,
      "order": null,
      "overflow": null,
      "overflow_x": null,
      "overflow_y": null,
      "padding": null,
      "right": null,
      "top": null,
      "visibility": null,
      "width": null
     }
    },
    "6a34340eba25470591bc474bdec8f802": {
     "model_module": "@jupyter-widgets/base",
     "model_module_version": "1.2.0",
     "model_name": "LayoutModel",
     "state": {
      "_model_module": "@jupyter-widgets/base",
      "_model_module_version": "1.2.0",
      "_model_name": "LayoutModel",
      "_view_count": null,
      "_view_module": "@jupyter-widgets/base",
      "_view_module_version": "1.2.0",
      "_view_name": "LayoutView",
      "align_content": null,
      "align_items": null,
      "align_self": null,
      "border": null,
      "bottom": null,
      "display": null,
      "flex": null,
      "flex_flow": null,
      "grid_area": null,
      "grid_auto_columns": null,
      "grid_auto_flow": null,
      "grid_auto_rows": null,
      "grid_column": null,
      "grid_gap": null,
      "grid_row": null,
      "grid_template_areas": null,
      "grid_template_columns": null,
      "grid_template_rows": null,
      "height": null,
      "justify_content": null,
      "justify_items": null,
      "left": null,
      "margin": null,
      "max_height": null,
      "max_width": null,
      "min_height": null,
      "min_width": null,
      "object_fit": null,
      "object_position": null,
      "order": null,
      "overflow": null,
      "overflow_x": null,
      "overflow_y": null,
      "padding": null,
      "right": null,
      "top": null,
      "visibility": null,
      "width": null
     }
    },
    "6a8c79d865e841ec9188263c53753f3d": {
     "model_module": "@jupyter-widgets/base",
     "model_module_version": "1.2.0",
     "model_name": "LayoutModel",
     "state": {
      "_model_module": "@jupyter-widgets/base",
      "_model_module_version": "1.2.0",
      "_model_name": "LayoutModel",
      "_view_count": null,
      "_view_module": "@jupyter-widgets/base",
      "_view_module_version": "1.2.0",
      "_view_name": "LayoutView",
      "align_content": null,
      "align_items": null,
      "align_self": null,
      "border": null,
      "bottom": null,
      "display": null,
      "flex": null,
      "flex_flow": null,
      "grid_area": null,
      "grid_auto_columns": null,
      "grid_auto_flow": null,
      "grid_auto_rows": null,
      "grid_column": null,
      "grid_gap": null,
      "grid_row": null,
      "grid_template_areas": null,
      "grid_template_columns": null,
      "grid_template_rows": null,
      "height": null,
      "justify_content": null,
      "justify_items": null,
      "left": null,
      "margin": null,
      "max_height": null,
      "max_width": null,
      "min_height": null,
      "min_width": null,
      "object_fit": null,
      "object_position": null,
      "order": null,
      "overflow": null,
      "overflow_x": null,
      "overflow_y": null,
      "padding": null,
      "right": null,
      "top": null,
      "visibility": null,
      "width": null
     }
    },
    "6cb3b2bbdb2e4819a5921acf20978455": {
     "model_module": "@jupyter-widgets/controls",
     "model_module_version": "1.5.0",
     "model_name": "ProgressStyleModel",
     "state": {
      "_model_module": "@jupyter-widgets/controls",
      "_model_module_version": "1.5.0",
      "_model_name": "ProgressStyleModel",
      "_view_count": null,
      "_view_module": "@jupyter-widgets/base",
      "_view_module_version": "1.2.0",
      "_view_name": "StyleView",
      "bar_color": null,
      "description_width": ""
     }
    },
    "704eff93a84c4e82b0a92e1ac1bf0492": {
     "model_module": "@jupyter-widgets/controls",
     "model_module_version": "1.5.0",
     "model_name": "DescriptionStyleModel",
     "state": {
      "_model_module": "@jupyter-widgets/controls",
      "_model_module_version": "1.5.0",
      "_model_name": "DescriptionStyleModel",
      "_view_count": null,
      "_view_module": "@jupyter-widgets/base",
      "_view_module_version": "1.2.0",
      "_view_name": "StyleView",
      "description_width": ""
     }
    },
    "705b76e424ca4c73ac2689e31788d42b": {
     "model_module": "@jupyter-widgets/controls",
     "model_module_version": "1.5.0",
     "model_name": "HBoxModel",
     "state": {
      "_dom_classes": [],
      "_model_module": "@jupyter-widgets/controls",
      "_model_module_version": "1.5.0",
      "_model_name": "HBoxModel",
      "_view_count": null,
      "_view_module": "@jupyter-widgets/controls",
      "_view_module_version": "1.5.0",
      "_view_name": "HBoxView",
      "box_style": "",
      "children": [
       "IPY_MODEL_0085e8d4d8194e96b54f5c1a1a1528a7",
       "IPY_MODEL_ba73fa4a78f44b8a8a6312c592f8b9f3",
       "IPY_MODEL_4f50294088a04ef48ad6c2c5487012a0"
      ],
      "layout": "IPY_MODEL_410799b397e54882a7d1197713a88a49"
     }
    },
    "71884807b9ac4888a25f754cabdd74be": {
     "model_module": "@jupyter-widgets/controls",
     "model_module_version": "1.5.0",
     "model_name": "ProgressStyleModel",
     "state": {
      "_model_module": "@jupyter-widgets/controls",
      "_model_module_version": "1.5.0",
      "_model_name": "ProgressStyleModel",
      "_view_count": null,
      "_view_module": "@jupyter-widgets/base",
      "_view_module_version": "1.2.0",
      "_view_name": "StyleView",
      "bar_color": null,
      "description_width": ""
     }
    },
    "72ed553e40984d4082c2bac0fa604b7d": {
     "model_module": "@jupyter-widgets/base",
     "model_module_version": "1.2.0",
     "model_name": "LayoutModel",
     "state": {
      "_model_module": "@jupyter-widgets/base",
      "_model_module_version": "1.2.0",
      "_model_name": "LayoutModel",
      "_view_count": null,
      "_view_module": "@jupyter-widgets/base",
      "_view_module_version": "1.2.0",
      "_view_name": "LayoutView",
      "align_content": null,
      "align_items": null,
      "align_self": null,
      "border": null,
      "bottom": null,
      "display": null,
      "flex": null,
      "flex_flow": null,
      "grid_area": null,
      "grid_auto_columns": null,
      "grid_auto_flow": null,
      "grid_auto_rows": null,
      "grid_column": null,
      "grid_gap": null,
      "grid_row": null,
      "grid_template_areas": null,
      "grid_template_columns": null,
      "grid_template_rows": null,
      "height": null,
      "justify_content": null,
      "justify_items": null,
      "left": null,
      "margin": null,
      "max_height": null,
      "max_width": null,
      "min_height": null,
      "min_width": null,
      "object_fit": null,
      "object_position": null,
      "order": null,
      "overflow": null,
      "overflow_x": null,
      "overflow_y": null,
      "padding": null,
      "right": null,
      "top": null,
      "visibility": null,
      "width": null
     }
    },
    "72ede5532a2641f2b043386e88154b3a": {
     "model_module": "@jupyter-widgets/controls",
     "model_module_version": "1.5.0",
     "model_name": "HBoxModel",
     "state": {
      "_dom_classes": [],
      "_model_module": "@jupyter-widgets/controls",
      "_model_module_version": "1.5.0",
      "_model_name": "HBoxModel",
      "_view_count": null,
      "_view_module": "@jupyter-widgets/controls",
      "_view_module_version": "1.5.0",
      "_view_name": "HBoxView",
      "box_style": "",
      "children": [
       "IPY_MODEL_08b5b9fe2c2842c9affdc3fa050d24df",
       "IPY_MODEL_42b3ea68b16f4dafb20ababf13efd630",
       "IPY_MODEL_173c4cbdb4e44f98a8a9a08f9f4342d2"
      ],
      "layout": "IPY_MODEL_1793c061a3124cf0a6805b1244379fd7"
     }
    },
    "73037aac0275474ab83f1759f3c26110": {
     "model_module": "@jupyter-widgets/base",
     "model_module_version": "1.2.0",
     "model_name": "LayoutModel",
     "state": {
      "_model_module": "@jupyter-widgets/base",
      "_model_module_version": "1.2.0",
      "_model_name": "LayoutModel",
      "_view_count": null,
      "_view_module": "@jupyter-widgets/base",
      "_view_module_version": "1.2.0",
      "_view_name": "LayoutView",
      "align_content": null,
      "align_items": null,
      "align_self": null,
      "border": null,
      "bottom": null,
      "display": null,
      "flex": null,
      "flex_flow": null,
      "grid_area": null,
      "grid_auto_columns": null,
      "grid_auto_flow": null,
      "grid_auto_rows": null,
      "grid_column": null,
      "grid_gap": null,
      "grid_row": null,
      "grid_template_areas": null,
      "grid_template_columns": null,
      "grid_template_rows": null,
      "height": null,
      "justify_content": null,
      "justify_items": null,
      "left": null,
      "margin": null,
      "max_height": null,
      "max_width": null,
      "min_height": null,
      "min_width": null,
      "object_fit": null,
      "object_position": null,
      "order": null,
      "overflow": null,
      "overflow_x": null,
      "overflow_y": null,
      "padding": null,
      "right": null,
      "top": null,
      "visibility": null,
      "width": null
     }
    },
    "731138fc3ef34e4a89d8ed1f13993edf": {
     "model_module": "@jupyter-widgets/base",
     "model_module_version": "1.2.0",
     "model_name": "LayoutModel",
     "state": {
      "_model_module": "@jupyter-widgets/base",
      "_model_module_version": "1.2.0",
      "_model_name": "LayoutModel",
      "_view_count": null,
      "_view_module": "@jupyter-widgets/base",
      "_view_module_version": "1.2.0",
      "_view_name": "LayoutView",
      "align_content": null,
      "align_items": null,
      "align_self": null,
      "border": null,
      "bottom": null,
      "display": null,
      "flex": null,
      "flex_flow": null,
      "grid_area": null,
      "grid_auto_columns": null,
      "grid_auto_flow": null,
      "grid_auto_rows": null,
      "grid_column": null,
      "grid_gap": null,
      "grid_row": null,
      "grid_template_areas": null,
      "grid_template_columns": null,
      "grid_template_rows": null,
      "height": null,
      "justify_content": null,
      "justify_items": null,
      "left": null,
      "margin": null,
      "max_height": null,
      "max_width": null,
      "min_height": null,
      "min_width": null,
      "object_fit": null,
      "object_position": null,
      "order": null,
      "overflow": null,
      "overflow_x": null,
      "overflow_y": null,
      "padding": null,
      "right": null,
      "top": null,
      "visibility": null,
      "width": null
     }
    },
    "733dbf66519a46089fb456c6ac572044": {
     "model_module": "@jupyter-widgets/base",
     "model_module_version": "1.2.0",
     "model_name": "LayoutModel",
     "state": {
      "_model_module": "@jupyter-widgets/base",
      "_model_module_version": "1.2.0",
      "_model_name": "LayoutModel",
      "_view_count": null,
      "_view_module": "@jupyter-widgets/base",
      "_view_module_version": "1.2.0",
      "_view_name": "LayoutView",
      "align_content": null,
      "align_items": null,
      "align_self": null,
      "border": null,
      "bottom": null,
      "display": null,
      "flex": null,
      "flex_flow": null,
      "grid_area": null,
      "grid_auto_columns": null,
      "grid_auto_flow": null,
      "grid_auto_rows": null,
      "grid_column": null,
      "grid_gap": null,
      "grid_row": null,
      "grid_template_areas": null,
      "grid_template_columns": null,
      "grid_template_rows": null,
      "height": null,
      "justify_content": null,
      "justify_items": null,
      "left": null,
      "margin": null,
      "max_height": null,
      "max_width": null,
      "min_height": null,
      "min_width": null,
      "object_fit": null,
      "object_position": null,
      "order": null,
      "overflow": null,
      "overflow_x": null,
      "overflow_y": null,
      "padding": null,
      "right": null,
      "top": null,
      "visibility": null,
      "width": null
     }
    },
    "741df4f13b6f438c9ca663699324d9a2": {
     "model_module": "@jupyter-widgets/base",
     "model_module_version": "1.2.0",
     "model_name": "LayoutModel",
     "state": {
      "_model_module": "@jupyter-widgets/base",
      "_model_module_version": "1.2.0",
      "_model_name": "LayoutModel",
      "_view_count": null,
      "_view_module": "@jupyter-widgets/base",
      "_view_module_version": "1.2.0",
      "_view_name": "LayoutView",
      "align_content": null,
      "align_items": null,
      "align_self": null,
      "border": null,
      "bottom": null,
      "display": null,
      "flex": null,
      "flex_flow": null,
      "grid_area": null,
      "grid_auto_columns": null,
      "grid_auto_flow": null,
      "grid_auto_rows": null,
      "grid_column": null,
      "grid_gap": null,
      "grid_row": null,
      "grid_template_areas": null,
      "grid_template_columns": null,
      "grid_template_rows": null,
      "height": null,
      "justify_content": null,
      "justify_items": null,
      "left": null,
      "margin": null,
      "max_height": null,
      "max_width": null,
      "min_height": null,
      "min_width": null,
      "object_fit": null,
      "object_position": null,
      "order": null,
      "overflow": null,
      "overflow_x": null,
      "overflow_y": null,
      "padding": null,
      "right": null,
      "top": null,
      "visibility": null,
      "width": null
     }
    },
    "75b164d11df04e7694b25802c4073aca": {
     "model_module": "@jupyter-widgets/controls",
     "model_module_version": "1.5.0",
     "model_name": "FloatProgressModel",
     "state": {
      "_dom_classes": [],
      "_model_module": "@jupyter-widgets/controls",
      "_model_module_version": "1.5.0",
      "_model_name": "FloatProgressModel",
      "_view_count": null,
      "_view_module": "@jupyter-widgets/controls",
      "_view_module_version": "1.5.0",
      "_view_name": "ProgressView",
      "bar_style": "success",
      "description": "",
      "description_tooltip": null,
      "layout": "IPY_MODEL_f86087d39a4a4ce4bddf8d6a71ee4dee",
      "max": 394,
      "min": 0,
      "orientation": "horizontal",
      "style": "IPY_MODEL_e22bbbc154ce4f7d91eaebfabfdcf956",
      "value": 394
     }
    },
    "774bf35489974cd791f1d47c41537b9d": {
     "model_module": "@jupyter-widgets/controls",
     "model_module_version": "1.5.0",
     "model_name": "ProgressStyleModel",
     "state": {
      "_model_module": "@jupyter-widgets/controls",
      "_model_module_version": "1.5.0",
      "_model_name": "ProgressStyleModel",
      "_view_count": null,
      "_view_module": "@jupyter-widgets/base",
      "_view_module_version": "1.2.0",
      "_view_name": "StyleView",
      "bar_color": null,
      "description_width": ""
     }
    },
    "78b8b61b0211443589cfb624ac98f45a": {
     "model_module": "@jupyter-widgets/base",
     "model_module_version": "1.2.0",
     "model_name": "LayoutModel",
     "state": {
      "_model_module": "@jupyter-widgets/base",
      "_model_module_version": "1.2.0",
      "_model_name": "LayoutModel",
      "_view_count": null,
      "_view_module": "@jupyter-widgets/base",
      "_view_module_version": "1.2.0",
      "_view_name": "LayoutView",
      "align_content": null,
      "align_items": null,
      "align_self": null,
      "border": null,
      "bottom": null,
      "display": null,
      "flex": null,
      "flex_flow": null,
      "grid_area": null,
      "grid_auto_columns": null,
      "grid_auto_flow": null,
      "grid_auto_rows": null,
      "grid_column": null,
      "grid_gap": null,
      "grid_row": null,
      "grid_template_areas": null,
      "grid_template_columns": null,
      "grid_template_rows": null,
      "height": null,
      "justify_content": null,
      "justify_items": null,
      "left": null,
      "margin": null,
      "max_height": null,
      "max_width": null,
      "min_height": null,
      "min_width": null,
      "object_fit": null,
      "object_position": null,
      "order": null,
      "overflow": null,
      "overflow_x": null,
      "overflow_y": null,
      "padding": null,
      "right": null,
      "top": null,
      "visibility": null,
      "width": null
     }
    },
    "79c17a968d664a75a6565c4b2d34c321": {
     "model_module": "@jupyter-widgets/controls",
     "model_module_version": "1.5.0",
     "model_name": "HTMLModel",
     "state": {
      "_dom_classes": [],
      "_model_module": "@jupyter-widgets/controls",
      "_model_module_version": "1.5.0",
      "_model_name": "HTMLModel",
      "_view_count": null,
      "_view_module": "@jupyter-widgets/controls",
      "_view_module_version": "1.5.0",
      "_view_name": "HTMLView",
      "description": "",
      "description_tooltip": null,
      "layout": "IPY_MODEL_6a8c79d865e841ec9188263c53753f3d",
      "placeholder": "​",
      "style": "IPY_MODEL_46ad7621d6c2426a9090a23c0304b18a",
      "value": " 99/99 [00:27&lt;00:00,  4.55it/s]"
     }
    },
    "7a68bf639f0740e0bf4d6470b85a0b0f": {
     "model_module": "@jupyter-widgets/controls",
     "model_module_version": "1.5.0",
     "model_name": "DescriptionStyleModel",
     "state": {
      "_model_module": "@jupyter-widgets/controls",
      "_model_module_version": "1.5.0",
      "_model_name": "DescriptionStyleModel",
      "_view_count": null,
      "_view_module": "@jupyter-widgets/base",
      "_view_module_version": "1.2.0",
      "_view_name": "StyleView",
      "description_width": ""
     }
    },
    "7ae9ca316d07419a8ee8f2886de55cb6": {
     "model_module": "@jupyter-widgets/base",
     "model_module_version": "1.2.0",
     "model_name": "LayoutModel",
     "state": {
      "_model_module": "@jupyter-widgets/base",
      "_model_module_version": "1.2.0",
      "_model_name": "LayoutModel",
      "_view_count": null,
      "_view_module": "@jupyter-widgets/base",
      "_view_module_version": "1.2.0",
      "_view_name": "LayoutView",
      "align_content": null,
      "align_items": null,
      "align_self": null,
      "border": null,
      "bottom": null,
      "display": null,
      "flex": null,
      "flex_flow": null,
      "grid_area": null,
      "grid_auto_columns": null,
      "grid_auto_flow": null,
      "grid_auto_rows": null,
      "grid_column": null,
      "grid_gap": null,
      "grid_row": null,
      "grid_template_areas": null,
      "grid_template_columns": null,
      "grid_template_rows": null,
      "height": null,
      "justify_content": null,
      "justify_items": null,
      "left": null,
      "margin": null,
      "max_height": null,
      "max_width": null,
      "min_height": null,
      "min_width": null,
      "object_fit": null,
      "object_position": null,
      "order": null,
      "overflow": null,
      "overflow_x": null,
      "overflow_y": null,
      "padding": null,
      "right": null,
      "top": null,
      "visibility": null,
      "width": null
     }
    },
    "7cc4b60f819d4d049d0b65c0819876e6": {
     "model_module": "@jupyter-widgets/controls",
     "model_module_version": "1.5.0",
     "model_name": "HTMLModel",
     "state": {
      "_dom_classes": [],
      "_model_module": "@jupyter-widgets/controls",
      "_model_module_version": "1.5.0",
      "_model_name": "HTMLModel",
      "_view_count": null,
      "_view_module": "@jupyter-widgets/controls",
      "_view_module_version": "1.5.0",
      "_view_name": "HTMLView",
      "description": "",
      "description_tooltip": null,
      "layout": "IPY_MODEL_2ba32e02e1b54425af2e9a030831d0b3",
      "placeholder": "​",
      "style": "IPY_MODEL_3f2fe2d9a0ad4cfbb0a3816d04046bff",
      "value": "Train: 100%"
     }
    },
    "7eba2b6c239f423696dae02cceab84d4": {
     "model_module": "@jupyter-widgets/controls",
     "model_module_version": "1.5.0",
     "model_name": "DescriptionStyleModel",
     "state": {
      "_model_module": "@jupyter-widgets/controls",
      "_model_module_version": "1.5.0",
      "_model_name": "DescriptionStyleModel",
      "_view_count": null,
      "_view_module": "@jupyter-widgets/base",
      "_view_module_version": "1.2.0",
      "_view_name": "StyleView",
      "description_width": ""
     }
    },
    "7f366d4f36af4b7da46a1e4ecd423ad4": {
     "model_module": "@jupyter-widgets/controls",
     "model_module_version": "1.5.0",
     "model_name": "HTMLModel",
     "state": {
      "_dom_classes": [],
      "_model_module": "@jupyter-widgets/controls",
      "_model_module_version": "1.5.0",
      "_model_name": "HTMLModel",
      "_view_count": null,
      "_view_module": "@jupyter-widgets/controls",
      "_view_module_version": "1.5.0",
      "_view_name": "HTMLView",
      "description": "",
      "description_tooltip": null,
      "layout": "IPY_MODEL_8d8430e25f7445d4b0ed3dcf009fa434",
      "placeholder": "​",
      "style": "IPY_MODEL_8530ac3e4900417a9fa750774839547b",
      "value": " 394/394 [02:40&lt;00:00,  2.49it/s]"
     }
    },
    "823034df13de4b9ba31871c6e0b2d5d1": {
     "model_module": "@jupyter-widgets/controls",
     "model_module_version": "1.5.0",
     "model_name": "HTMLModel",
     "state": {
      "_dom_classes": [],
      "_model_module": "@jupyter-widgets/controls",
      "_model_module_version": "1.5.0",
      "_model_name": "HTMLModel",
      "_view_count": null,
      "_view_module": "@jupyter-widgets/controls",
      "_view_module_version": "1.5.0",
      "_view_name": "HTMLView",
      "description": "",
      "description_tooltip": null,
      "layout": "IPY_MODEL_5dd7d71b5e114303a1f415b4352cb897",
      "placeholder": "​",
      "style": "IPY_MODEL_4d7a28afde9e470982a0201d696158e7",
      "value": "Test Acc: 100%"
     }
    },
    "8262e4d0635441c5a0849e3df74884d2": {
     "model_module": "@jupyter-widgets/controls",
     "model_module_version": "1.5.0",
     "model_name": "ProgressStyleModel",
     "state": {
      "_model_module": "@jupyter-widgets/controls",
      "_model_module_version": "1.5.0",
      "_model_name": "ProgressStyleModel",
      "_view_count": null,
      "_view_module": "@jupyter-widgets/base",
      "_view_module_version": "1.2.0",
      "_view_name": "StyleView",
      "bar_color": null,
      "description_width": ""
     }
    },
    "845832323b22450f9bed7716065e99a8": {
     "model_module": "@jupyter-widgets/controls",
     "model_module_version": "1.5.0",
     "model_name": "FloatProgressModel",
     "state": {
      "_dom_classes": [],
      "_model_module": "@jupyter-widgets/controls",
      "_model_module_version": "1.5.0",
      "_model_name": "FloatProgressModel",
      "_view_count": null,
      "_view_module": "@jupyter-widgets/controls",
      "_view_module_version": "1.5.0",
      "_view_name": "ProgressView",
      "bar_style": "success",
      "description": "",
      "description_tooltip": null,
      "layout": "IPY_MODEL_0935f56f12014730be75b0cc8164e4e7",
      "max": 99,
      "min": 0,
      "orientation": "horizontal",
      "style": "IPY_MODEL_8262e4d0635441c5a0849e3df74884d2",
      "value": 99
     }
    },
    "8530ac3e4900417a9fa750774839547b": {
     "model_module": "@jupyter-widgets/controls",
     "model_module_version": "1.5.0",
     "model_name": "DescriptionStyleModel",
     "state": {
      "_model_module": "@jupyter-widgets/controls",
      "_model_module_version": "1.5.0",
      "_model_name": "DescriptionStyleModel",
      "_view_count": null,
      "_view_module": "@jupyter-widgets/base",
      "_view_module_version": "1.2.0",
      "_view_name": "StyleView",
      "description_width": ""
     }
    },
    "8a317ca463f74ba7ac763ad49d45b531": {
     "model_module": "@jupyter-widgets/controls",
     "model_module_version": "1.5.0",
     "model_name": "HTMLModel",
     "state": {
      "_dom_classes": [],
      "_model_module": "@jupyter-widgets/controls",
      "_model_module_version": "1.5.0",
      "_model_name": "HTMLModel",
      "_view_count": null,
      "_view_module": "@jupyter-widgets/controls",
      "_view_module_version": "1.5.0",
      "_view_name": "HTMLView",
      "description": "",
      "description_tooltip": null,
      "layout": "IPY_MODEL_47e256677ce645669a54db56a388255b",
      "placeholder": "​",
      "style": "IPY_MODEL_2d39161297a84fce83eda363cdbb22db",
      "value": "Train: 100%"
     }
    },
    "8b526ee44e6e415380d9e941242c05a3": {
     "model_module": "@jupyter-widgets/base",
     "model_module_version": "1.2.0",
     "model_name": "LayoutModel",
     "state": {
      "_model_module": "@jupyter-widgets/base",
      "_model_module_version": "1.2.0",
      "_model_name": "LayoutModel",
      "_view_count": null,
      "_view_module": "@jupyter-widgets/base",
      "_view_module_version": "1.2.0",
      "_view_name": "LayoutView",
      "align_content": null,
      "align_items": null,
      "align_self": null,
      "border": null,
      "bottom": null,
      "display": null,
      "flex": null,
      "flex_flow": null,
      "grid_area": null,
      "grid_auto_columns": null,
      "grid_auto_flow": null,
      "grid_auto_rows": null,
      "grid_column": null,
      "grid_gap": null,
      "grid_row": null,
      "grid_template_areas": null,
      "grid_template_columns": null,
      "grid_template_rows": null,
      "height": null,
      "justify_content": null,
      "justify_items": null,
      "left": null,
      "margin": null,
      "max_height": null,
      "max_width": null,
      "min_height": null,
      "min_width": null,
      "object_fit": null,
      "object_position": null,
      "order": null,
      "overflow": null,
      "overflow_x": null,
      "overflow_y": null,
      "padding": null,
      "right": null,
      "top": null,
      "visibility": null,
      "width": null
     }
    },
    "8c249d6aaab54fd4bfc574dbc92c54dd": {
     "model_module": "@jupyter-widgets/controls",
     "model_module_version": "1.5.0",
     "model_name": "DescriptionStyleModel",
     "state": {
      "_model_module": "@jupyter-widgets/controls",
      "_model_module_version": "1.5.0",
      "_model_name": "DescriptionStyleModel",
      "_view_count": null,
      "_view_module": "@jupyter-widgets/base",
      "_view_module_version": "1.2.0",
      "_view_name": "StyleView",
      "description_width": ""
     }
    },
    "8d8430e25f7445d4b0ed3dcf009fa434": {
     "model_module": "@jupyter-widgets/base",
     "model_module_version": "1.2.0",
     "model_name": "LayoutModel",
     "state": {
      "_model_module": "@jupyter-widgets/base",
      "_model_module_version": "1.2.0",
      "_model_name": "LayoutModel",
      "_view_count": null,
      "_view_module": "@jupyter-widgets/base",
      "_view_module_version": "1.2.0",
      "_view_name": "LayoutView",
      "align_content": null,
      "align_items": null,
      "align_self": null,
      "border": null,
      "bottom": null,
      "display": null,
      "flex": null,
      "flex_flow": null,
      "grid_area": null,
      "grid_auto_columns": null,
      "grid_auto_flow": null,
      "grid_auto_rows": null,
      "grid_column": null,
      "grid_gap": null,
      "grid_row": null,
      "grid_template_areas": null,
      "grid_template_columns": null,
      "grid_template_rows": null,
      "height": null,
      "justify_content": null,
      "justify_items": null,
      "left": null,
      "margin": null,
      "max_height": null,
      "max_width": null,
      "min_height": null,
      "min_width": null,
      "object_fit": null,
      "object_position": null,
      "order": null,
      "overflow": null,
      "overflow_x": null,
      "overflow_y": null,
      "padding": null,
      "right": null,
      "top": null,
      "visibility": null,
      "width": null
     }
    },
    "8fa0d24599654e5084e683de00c9d7b2": {
     "model_module": "@jupyter-widgets/controls",
     "model_module_version": "1.5.0",
     "model_name": "DescriptionStyleModel",
     "state": {
      "_model_module": "@jupyter-widgets/controls",
      "_model_module_version": "1.5.0",
      "_model_name": "DescriptionStyleModel",
      "_view_count": null,
      "_view_module": "@jupyter-widgets/base",
      "_view_module_version": "1.2.0",
      "_view_name": "StyleView",
      "description_width": ""
     }
    },
    "90c56bff610c4bcba32631063d57506d": {
     "model_module": "@jupyter-widgets/controls",
     "model_module_version": "1.5.0",
     "model_name": "HTMLModel",
     "state": {
      "_dom_classes": [],
      "_model_module": "@jupyter-widgets/controls",
      "_model_module_version": "1.5.0",
      "_model_name": "HTMLModel",
      "_view_count": null,
      "_view_module": "@jupyter-widgets/controls",
      "_view_module_version": "1.5.0",
      "_view_name": "HTMLView",
      "description": "",
      "description_tooltip": null,
      "layout": "IPY_MODEL_0a86c315ec93445b9e076ba48f7c6206",
      "placeholder": "​",
      "style": "IPY_MODEL_96c621cdfb9a4004ae497bb052478256",
      "value": "Test Acc: 100%"
     }
    },
    "95394bc1a3f847eaa163a287c0c97e52": {
     "model_module": "@jupyter-widgets/controls",
     "model_module_version": "1.5.0",
     "model_name": "HTMLModel",
     "state": {
      "_dom_classes": [],
      "_model_module": "@jupyter-widgets/controls",
      "_model_module_version": "1.5.0",
      "_model_name": "HTMLModel",
      "_view_count": null,
      "_view_module": "@jupyter-widgets/controls",
      "_view_module_version": "1.5.0",
      "_view_name": "HTMLView",
      "description": "",
      "description_tooltip": null,
      "layout": "IPY_MODEL_fc66adcb3aa64b09bc2bd15194f80b26",
      "placeholder": "​",
      "style": "IPY_MODEL_ba86e14c9c6e46468b29c9ef25bd625b",
      "value": "Train Acc: 100%"
     }
    },
    "96c621cdfb9a4004ae497bb052478256": {
     "model_module": "@jupyter-widgets/controls",
     "model_module_version": "1.5.0",
     "model_name": "DescriptionStyleModel",
     "state": {
      "_model_module": "@jupyter-widgets/controls",
      "_model_module_version": "1.5.0",
      "_model_name": "DescriptionStyleModel",
      "_view_count": null,
      "_view_module": "@jupyter-widgets/base",
      "_view_module_version": "1.2.0",
      "_view_name": "StyleView",
      "description_width": ""
     }
    },
    "97e6fcc487574c63ae41e498842abd80": {
     "model_module": "@jupyter-widgets/base",
     "model_module_version": "1.2.0",
     "model_name": "LayoutModel",
     "state": {
      "_model_module": "@jupyter-widgets/base",
      "_model_module_version": "1.2.0",
      "_model_name": "LayoutModel",
      "_view_count": null,
      "_view_module": "@jupyter-widgets/base",
      "_view_module_version": "1.2.0",
      "_view_name": "LayoutView",
      "align_content": null,
      "align_items": null,
      "align_self": null,
      "border": null,
      "bottom": null,
      "display": null,
      "flex": null,
      "flex_flow": null,
      "grid_area": null,
      "grid_auto_columns": null,
      "grid_auto_flow": null,
      "grid_auto_rows": null,
      "grid_column": null,
      "grid_gap": null,
      "grid_row": null,
      "grid_template_areas": null,
      "grid_template_columns": null,
      "grid_template_rows": null,
      "height": null,
      "justify_content": null,
      "justify_items": null,
      "left": null,
      "margin": null,
      "max_height": null,
      "max_width": null,
      "min_height": null,
      "min_width": null,
      "object_fit": null,
      "object_position": null,
      "order": null,
      "overflow": null,
      "overflow_x": null,
      "overflow_y": null,
      "padding": null,
      "right": null,
      "top": null,
      "visibility": null,
      "width": null
     }
    },
    "9874ea1e57ca45378c3ade75bf6a2fe7": {
     "model_module": "@jupyter-widgets/base",
     "model_module_version": "1.2.0",
     "model_name": "LayoutModel",
     "state": {
      "_model_module": "@jupyter-widgets/base",
      "_model_module_version": "1.2.0",
      "_model_name": "LayoutModel",
      "_view_count": null,
      "_view_module": "@jupyter-widgets/base",
      "_view_module_version": "1.2.0",
      "_view_name": "LayoutView",
      "align_content": null,
      "align_items": null,
      "align_self": null,
      "border": null,
      "bottom": null,
      "display": null,
      "flex": null,
      "flex_flow": null,
      "grid_area": null,
      "grid_auto_columns": null,
      "grid_auto_flow": null,
      "grid_auto_rows": null,
      "grid_column": null,
      "grid_gap": null,
      "grid_row": null,
      "grid_template_areas": null,
      "grid_template_columns": null,
      "grid_template_rows": null,
      "height": null,
      "justify_content": null,
      "justify_items": null,
      "left": null,
      "margin": null,
      "max_height": null,
      "max_width": null,
      "min_height": null,
      "min_width": null,
      "object_fit": null,
      "object_position": null,
      "order": null,
      "overflow": null,
      "overflow_x": null,
      "overflow_y": null,
      "padding": null,
      "right": null,
      "top": null,
      "visibility": null,
      "width": null
     }
    },
    "987c414d44b84ffea79e19c917f7430b": {
     "model_module": "@jupyter-widgets/controls",
     "model_module_version": "1.5.0",
     "model_name": "DescriptionStyleModel",
     "state": {
      "_model_module": "@jupyter-widgets/controls",
      "_model_module_version": "1.5.0",
      "_model_name": "DescriptionStyleModel",
      "_view_count": null,
      "_view_module": "@jupyter-widgets/base",
      "_view_module_version": "1.2.0",
      "_view_name": "StyleView",
      "description_width": ""
     }
    },
    "98edc88ed2d74f39b5aa36b62ddf0e9a": {
     "model_module": "@jupyter-widgets/base",
     "model_module_version": "1.2.0",
     "model_name": "LayoutModel",
     "state": {
      "_model_module": "@jupyter-widgets/base",
      "_model_module_version": "1.2.0",
      "_model_name": "LayoutModel",
      "_view_count": null,
      "_view_module": "@jupyter-widgets/base",
      "_view_module_version": "1.2.0",
      "_view_name": "LayoutView",
      "align_content": null,
      "align_items": null,
      "align_self": null,
      "border": null,
      "bottom": null,
      "display": null,
      "flex": null,
      "flex_flow": null,
      "grid_area": null,
      "grid_auto_columns": null,
      "grid_auto_flow": null,
      "grid_auto_rows": null,
      "grid_column": null,
      "grid_gap": null,
      "grid_row": null,
      "grid_template_areas": null,
      "grid_template_columns": null,
      "grid_template_rows": null,
      "height": null,
      "justify_content": null,
      "justify_items": null,
      "left": null,
      "margin": null,
      "max_height": null,
      "max_width": null,
      "min_height": null,
      "min_width": null,
      "object_fit": null,
      "object_position": null,
      "order": null,
      "overflow": null,
      "overflow_x": null,
      "overflow_y": null,
      "padding": null,
      "right": null,
      "top": null,
      "visibility": null,
      "width": null
     }
    },
    "9a0a20539dda4478a8a710f1261580ed": {
     "model_module": "@jupyter-widgets/controls",
     "model_module_version": "1.5.0",
     "model_name": "DescriptionStyleModel",
     "state": {
      "_model_module": "@jupyter-widgets/controls",
      "_model_module_version": "1.5.0",
      "_model_name": "DescriptionStyleModel",
      "_view_count": null,
      "_view_module": "@jupyter-widgets/base",
      "_view_module_version": "1.2.0",
      "_view_name": "StyleView",
      "description_width": ""
     }
    },
    "9b9213b0c14a49b08ea11d1ac2d782af": {
     "model_module": "@jupyter-widgets/controls",
     "model_module_version": "1.5.0",
     "model_name": "HTMLModel",
     "state": {
      "_dom_classes": [],
      "_model_module": "@jupyter-widgets/controls",
      "_model_module_version": "1.5.0",
      "_model_name": "HTMLModel",
      "_view_count": null,
      "_view_module": "@jupyter-widgets/controls",
      "_view_module_version": "1.5.0",
      "_view_name": "HTMLView",
      "description": "",
      "description_tooltip": null,
      "layout": "IPY_MODEL_e9edb1dd68e348e8b083ab2eefc4092e",
      "placeholder": "​",
      "style": "IPY_MODEL_f4cf09693c624fda89db50f53cc67123",
      "value": "Epochs:  50%"
     }
    },
    "9e0e4ce504ee446e8273d3d0e706bbdc": {
     "model_module": "@jupyter-widgets/controls",
     "model_module_version": "1.5.0",
     "model_name": "FloatProgressModel",
     "state": {
      "_dom_classes": [],
      "_model_module": "@jupyter-widgets/controls",
      "_model_module_version": "1.5.0",
      "_model_name": "FloatProgressModel",
      "_view_count": null,
      "_view_module": "@jupyter-widgets/controls",
      "_view_module_version": "1.5.0",
      "_view_name": "ProgressView",
      "bar_style": "success",
      "description": "",
      "description_tooltip": null,
      "layout": "IPY_MODEL_0b0404b13a6f4acdb00357204f4b8a2b",
      "max": 99,
      "min": 0,
      "orientation": "horizontal",
      "style": "IPY_MODEL_e4766288c2eb407a9c52bf7c4ef63556",
      "value": 99
     }
    },
    "a29373a0a028462c9e5ea80e61e55a91": {
     "model_module": "@jupyter-widgets/controls",
     "model_module_version": "1.5.0",
     "model_name": "HTMLModel",
     "state": {
      "_dom_classes": [],
      "_model_module": "@jupyter-widgets/controls",
      "_model_module_version": "1.5.0",
      "_model_name": "HTMLModel",
      "_view_count": null,
      "_view_module": "@jupyter-widgets/controls",
      "_view_module_version": "1.5.0",
      "_view_name": "HTMLView",
      "description": "",
      "description_tooltip": null,
      "layout": "IPY_MODEL_97e6fcc487574c63ae41e498842abd80",
      "placeholder": "​",
      "style": "IPY_MODEL_0181ebd689274a31bdab2c8dd58c6c4e",
      "value": " 99/99 [00:28&lt;00:00,  3.00it/s]"
     }
    },
    "a42c1c1355584cc9bdb5de85889d2f22": {
     "model_module": "@jupyter-widgets/controls",
     "model_module_version": "1.5.0",
     "model_name": "HBoxModel",
     "state": {
      "_dom_classes": [],
      "_model_module": "@jupyter-widgets/controls",
      "_model_module_version": "1.5.0",
      "_model_name": "HBoxModel",
      "_view_count": null,
      "_view_module": "@jupyter-widgets/controls",
      "_view_module_version": "1.5.0",
      "_view_name": "HBoxView",
      "box_style": "",
      "children": [
       "IPY_MODEL_fcef7abb8dbc4737bb2c6dc69e985bca",
       "IPY_MODEL_126b24ef832543c6a45c31ef9f978db9",
       "IPY_MODEL_a6fe8da71e194fca933d209a5fc77d8d"
      ],
      "layout": "IPY_MODEL_20f4f47cc5124107869a36d521a6049f"
     }
    },
    "a4798deb10094dfc9fc55e5620f2ab14": {
     "model_module": "@jupyter-widgets/controls",
     "model_module_version": "1.5.0",
     "model_name": "DescriptionStyleModel",
     "state": {
      "_model_module": "@jupyter-widgets/controls",
      "_model_module_version": "1.5.0",
      "_model_name": "DescriptionStyleModel",
      "_view_count": null,
      "_view_module": "@jupyter-widgets/base",
      "_view_module_version": "1.2.0",
      "_view_name": "StyleView",
      "description_width": ""
     }
    },
    "a57481f59e3d46c9b34386bd628d913a": {
     "model_module": "@jupyter-widgets/base",
     "model_module_version": "1.2.0",
     "model_name": "LayoutModel",
     "state": {
      "_model_module": "@jupyter-widgets/base",
      "_model_module_version": "1.2.0",
      "_model_name": "LayoutModel",
      "_view_count": null,
      "_view_module": "@jupyter-widgets/base",
      "_view_module_version": "1.2.0",
      "_view_name": "LayoutView",
      "align_content": null,
      "align_items": null,
      "align_self": null,
      "border": null,
      "bottom": null,
      "display": null,
      "flex": null,
      "flex_flow": null,
      "grid_area": null,
      "grid_auto_columns": null,
      "grid_auto_flow": null,
      "grid_auto_rows": null,
      "grid_column": null,
      "grid_gap": null,
      "grid_row": null,
      "grid_template_areas": null,
      "grid_template_columns": null,
      "grid_template_rows": null,
      "height": null,
      "justify_content": null,
      "justify_items": null,
      "left": null,
      "margin": null,
      "max_height": null,
      "max_width": null,
      "min_height": null,
      "min_width": null,
      "object_fit": null,
      "object_position": null,
      "order": null,
      "overflow": null,
      "overflow_x": null,
      "overflow_y": null,
      "padding": null,
      "right": null,
      "top": null,
      "visibility": null,
      "width": null
     }
    },
    "a5c730a12bd141ac886ea6d550eeb24f": {
     "model_module": "@jupyter-widgets/base",
     "model_module_version": "1.2.0",
     "model_name": "LayoutModel",
     "state": {
      "_model_module": "@jupyter-widgets/base",
      "_model_module_version": "1.2.0",
      "_model_name": "LayoutModel",
      "_view_count": null,
      "_view_module": "@jupyter-widgets/base",
      "_view_module_version": "1.2.0",
      "_view_name": "LayoutView",
      "align_content": null,
      "align_items": null,
      "align_self": null,
      "border": null,
      "bottom": null,
      "display": null,
      "flex": null,
      "flex_flow": null,
      "grid_area": null,
      "grid_auto_columns": null,
      "grid_auto_flow": null,
      "grid_auto_rows": null,
      "grid_column": null,
      "grid_gap": null,
      "grid_row": null,
      "grid_template_areas": null,
      "grid_template_columns": null,
      "grid_template_rows": null,
      "height": null,
      "justify_content": null,
      "justify_items": null,
      "left": null,
      "margin": null,
      "max_height": null,
      "max_width": null,
      "min_height": null,
      "min_width": null,
      "object_fit": null,
      "object_position": null,
      "order": null,
      "overflow": null,
      "overflow_x": null,
      "overflow_y": null,
      "padding": null,
      "right": null,
      "top": null,
      "visibility": null,
      "width": null
     }
    },
    "a6f583d12d22412aa2c26e219009782f": {
     "model_module": "@jupyter-widgets/controls",
     "model_module_version": "1.5.0",
     "model_name": "HTMLModel",
     "state": {
      "_dom_classes": [],
      "_model_module": "@jupyter-widgets/controls",
      "_model_module_version": "1.5.0",
      "_model_name": "HTMLModel",
      "_view_count": null,
      "_view_module": "@jupyter-widgets/controls",
      "_view_module_version": "1.5.0",
      "_view_name": "HTMLView",
      "description": "",
      "description_tooltip": null,
      "layout": "IPY_MODEL_016a5d76897846c6962e4ab6283ab95e",
      "placeholder": "​",
      "style": "IPY_MODEL_208401f2be014d3286246242f39197c6",
      "value": "Test Acc: 100%"
     }
    },
    "a6fe8da71e194fca933d209a5fc77d8d": {
     "model_module": "@jupyter-widgets/controls",
     "model_module_version": "1.5.0",
     "model_name": "HTMLModel",
     "state": {
      "_dom_classes": [],
      "_model_module": "@jupyter-widgets/controls",
      "_model_module_version": "1.5.0",
      "_model_name": "HTMLModel",
      "_view_count": null,
      "_view_module": "@jupyter-widgets/controls",
      "_view_module_version": "1.5.0",
      "_view_name": "HTMLView",
      "description": "",
      "description_tooltip": null,
      "layout": "IPY_MODEL_2eb4bec3068e42b786d9d86227e62547",
      "placeholder": "​",
      "style": "IPY_MODEL_8fa0d24599654e5084e683de00c9d7b2",
      "value": " 328/394 [02:16&lt;00:27,  2.44it/s]"
     }
    },
    "a794e7c5fca84ac6afa47e86d612f935": {
     "model_module": "@jupyter-widgets/controls",
     "model_module_version": "1.5.0",
     "model_name": "HBoxModel",
     "state": {
      "_dom_classes": [],
      "_model_module": "@jupyter-widgets/controls",
      "_model_module_version": "1.5.0",
      "_model_name": "HBoxModel",
      "_view_count": null,
      "_view_module": "@jupyter-widgets/controls",
      "_view_module_version": "1.5.0",
      "_view_name": "HBoxView",
      "box_style": "",
      "children": [
       "IPY_MODEL_a6f583d12d22412aa2c26e219009782f",
       "IPY_MODEL_dafb9cf855bf467aaf5439bf072b3353",
       "IPY_MODEL_79c17a968d664a75a6565c4b2d34c321"
      ],
      "layout": "IPY_MODEL_ebc265042f9c4ff3aa8693a8b90ad6d9"
     }
    },
    "a7d7a2e22187471b96412e597f5cf68c": {
     "model_module": "@jupyter-widgets/controls",
     "model_module_version": "1.5.0",
     "model_name": "FloatProgressModel",
     "state": {
      "_dom_classes": [],
      "_model_module": "@jupyter-widgets/controls",
      "_model_module_version": "1.5.0",
      "_model_name": "FloatProgressModel",
      "_view_count": null,
      "_view_module": "@jupyter-widgets/controls",
      "_view_module_version": "1.5.0",
      "_view_name": "ProgressView",
      "bar_style": "success",
      "description": "",
      "description_tooltip": null,
      "layout": "IPY_MODEL_6a34340eba25470591bc474bdec8f802",
      "max": 99,
      "min": 0,
      "orientation": "horizontal",
      "style": "IPY_MODEL_e7ac031c0c574a4093ef54747c8da3ff",
      "value": 99
     }
    },
    "a924e5bfeee0495aa9d6a94533ac4fbe": {
     "model_module": "@jupyter-widgets/controls",
     "model_module_version": "1.5.0",
     "model_name": "FloatProgressModel",
     "state": {
      "_dom_classes": [],
      "_model_module": "@jupyter-widgets/controls",
      "_model_module_version": "1.5.0",
      "_model_name": "FloatProgressModel",
      "_view_count": null,
      "_view_module": "@jupyter-widgets/controls",
      "_view_module_version": "1.5.0",
      "_view_name": "ProgressView",
      "bar_style": "success",
      "description": "",
      "description_tooltip": null,
      "layout": "IPY_MODEL_0be76c59c34346879029e128374ad603",
      "max": 394,
      "min": 0,
      "orientation": "horizontal",
      "style": "IPY_MODEL_1223c759aa4e4d3594acd99dbd3e0759",
      "value": 394
     }
    },
    "a9de44b7c31d424d9f2294c94c75abef": {
     "model_module": "@jupyter-widgets/base",
     "model_module_version": "1.2.0",
     "model_name": "LayoutModel",
     "state": {
      "_model_module": "@jupyter-widgets/base",
      "_model_module_version": "1.2.0",
      "_model_name": "LayoutModel",
      "_view_count": null,
      "_view_module": "@jupyter-widgets/base",
      "_view_module_version": "1.2.0",
      "_view_name": "LayoutView",
      "align_content": null,
      "align_items": null,
      "align_self": null,
      "border": null,
      "bottom": null,
      "display": null,
      "flex": null,
      "flex_flow": null,
      "grid_area": null,
      "grid_auto_columns": null,
      "grid_auto_flow": null,
      "grid_auto_rows": null,
      "grid_column": null,
      "grid_gap": null,
      "grid_row": null,
      "grid_template_areas": null,
      "grid_template_columns": null,
      "grid_template_rows": null,
      "height": null,
      "justify_content": null,
      "justify_items": null,
      "left": null,
      "margin": null,
      "max_height": null,
      "max_width": null,
      "min_height": null,
      "min_width": null,
      "object_fit": null,
      "object_position": null,
      "order": null,
      "overflow": null,
      "overflow_x": null,
      "overflow_y": null,
      "padding": null,
      "right": null,
      "top": null,
      "visibility": null,
      "width": null
     }
    },
    "ab1c368fb1b042a8a065870b9960aa31": {
     "model_module": "@jupyter-widgets/controls",
     "model_module_version": "1.5.0",
     "model_name": "FloatProgressModel",
     "state": {
      "_dom_classes": [],
      "_model_module": "@jupyter-widgets/controls",
      "_model_module_version": "1.5.0",
      "_model_name": "FloatProgressModel",
      "_view_count": null,
      "_view_module": "@jupyter-widgets/controls",
      "_view_module_version": "1.5.0",
      "_view_name": "ProgressView",
      "bar_style": "success",
      "description": "",
      "description_tooltip": null,
      "layout": "IPY_MODEL_20df05c60ffa4e33ab7deb046dd2e1ca",
      "max": 394,
      "min": 0,
      "orientation": "horizontal",
      "style": "IPY_MODEL_4037dbe08ffb470fa508bcb153563205",
      "value": 394
     }
    },
    "ac80247bb1df429e86b50c157bdfa228": {
     "model_module": "@jupyter-widgets/base",
     "model_module_version": "1.2.0",
     "model_name": "LayoutModel",
     "state": {
      "_model_module": "@jupyter-widgets/base",
      "_model_module_version": "1.2.0",
      "_model_name": "LayoutModel",
      "_view_count": null,
      "_view_module": "@jupyter-widgets/base",
      "_view_module_version": "1.2.0",
      "_view_name": "LayoutView",
      "align_content": null,
      "align_items": null,
      "align_self": null,
      "border": null,
      "bottom": null,
      "display": null,
      "flex": null,
      "flex_flow": null,
      "grid_area": null,
      "grid_auto_columns": null,
      "grid_auto_flow": null,
      "grid_auto_rows": null,
      "grid_column": null,
      "grid_gap": null,
      "grid_row": null,
      "grid_template_areas": null,
      "grid_template_columns": null,
      "grid_template_rows": null,
      "height": null,
      "justify_content": null,
      "justify_items": null,
      "left": null,
      "margin": null,
      "max_height": null,
      "max_width": null,
      "min_height": null,
      "min_width": null,
      "object_fit": null,
      "object_position": null,
      "order": null,
      "overflow": null,
      "overflow_x": null,
      "overflow_y": null,
      "padding": null,
      "right": null,
      "top": null,
      "visibility": null,
      "width": null
     }
    },
    "b0a9f96eff364ce5b4b8318e277aa6d4": {
     "model_module": "@jupyter-widgets/controls",
     "model_module_version": "1.5.0",
     "model_name": "HBoxModel",
     "state": {
      "_dom_classes": [],
      "_model_module": "@jupyter-widgets/controls",
      "_model_module_version": "1.5.0",
      "_model_name": "HBoxModel",
      "_view_count": null,
      "_view_module": "@jupyter-widgets/controls",
      "_view_module_version": "1.5.0",
      "_view_name": "HBoxView",
      "box_style": "",
      "children": [
       "IPY_MODEL_479bdbf9a7ae4f19a7d117722d899a61",
       "IPY_MODEL_5166a6ca1860442cb2c76f71757efc26",
       "IPY_MODEL_21b25a56c79f4448a8dfdfcd627efb9c"
      ],
      "layout": "IPY_MODEL_ac80247bb1df429e86b50c157bdfa228"
     }
    },
    "b0fd0b9df2194992aa5c1f31961f3f73": {
     "model_module": "@jupyter-widgets/controls",
     "model_module_version": "1.5.0",
     "model_name": "HBoxModel",
     "state": {
      "_dom_classes": [],
      "_model_module": "@jupyter-widgets/controls",
      "_model_module_version": "1.5.0",
      "_model_name": "HBoxModel",
      "_view_count": null,
      "_view_module": "@jupyter-widgets/controls",
      "_view_module_version": "1.5.0",
      "_view_name": "HBoxView",
      "box_style": "",
      "children": [
       "IPY_MODEL_c7e4308efcb54c56b97be5ad5eb83da7",
       "IPY_MODEL_e088c21070564533aea0ad01cc5f1fb0",
       "IPY_MODEL_da7fa1cdf0804ed89f5260723e47e9f0"
      ],
      "layout": "IPY_MODEL_dab8ec32768148d296202637671ddbfb"
     }
    },
    "b1979d0d603c4eb1b5da0808719bf8b3": {
     "model_module": "@jupyter-widgets/base",
     "model_module_version": "1.2.0",
     "model_name": "LayoutModel",
     "state": {
      "_model_module": "@jupyter-widgets/base",
      "_model_module_version": "1.2.0",
      "_model_name": "LayoutModel",
      "_view_count": null,
      "_view_module": "@jupyter-widgets/base",
      "_view_module_version": "1.2.0",
      "_view_name": "LayoutView",
      "align_content": null,
      "align_items": null,
      "align_self": null,
      "border": null,
      "bottom": null,
      "display": null,
      "flex": null,
      "flex_flow": null,
      "grid_area": null,
      "grid_auto_columns": null,
      "grid_auto_flow": null,
      "grid_auto_rows": null,
      "grid_column": null,
      "grid_gap": null,
      "grid_row": null,
      "grid_template_areas": null,
      "grid_template_columns": null,
      "grid_template_rows": null,
      "height": null,
      "justify_content": null,
      "justify_items": null,
      "left": null,
      "margin": null,
      "max_height": null,
      "max_width": null,
      "min_height": null,
      "min_width": null,
      "object_fit": null,
      "object_position": null,
      "order": null,
      "overflow": null,
      "overflow_x": null,
      "overflow_y": null,
      "padding": null,
      "right": null,
      "top": null,
      "visibility": null,
      "width": null
     }
    },
    "b237de9a83294e0e8711e9f1f3974896": {
     "model_module": "@jupyter-widgets/controls",
     "model_module_version": "1.5.0",
     "model_name": "HBoxModel",
     "state": {
      "_dom_classes": [],
      "_model_module": "@jupyter-widgets/controls",
      "_model_module_version": "1.5.0",
      "_model_name": "HBoxModel",
      "_view_count": null,
      "_view_module": "@jupyter-widgets/controls",
      "_view_module_version": "1.5.0",
      "_view_name": "HBoxView",
      "box_style": "",
      "children": [
       "IPY_MODEL_d099d4bae53b4b0dbeed3a9707c3ce03",
       "IPY_MODEL_60a45a8ba98045f0b357b083f54b325b",
       "IPY_MODEL_20566a901a13483f9304f8222b1d2d55"
      ],
      "layout": "IPY_MODEL_cb0403f33da146d6af39f3b968c3ca83"
     }
    },
    "b395255c6eeb44b6afec8c4cd4251c45": {
     "model_module": "@jupyter-widgets/base",
     "model_module_version": "1.2.0",
     "model_name": "LayoutModel",
     "state": {
      "_model_module": "@jupyter-widgets/base",
      "_model_module_version": "1.2.0",
      "_model_name": "LayoutModel",
      "_view_count": null,
      "_view_module": "@jupyter-widgets/base",
      "_view_module_version": "1.2.0",
      "_view_name": "LayoutView",
      "align_content": null,
      "align_items": null,
      "align_self": null,
      "border": null,
      "bottom": null,
      "display": null,
      "flex": null,
      "flex_flow": null,
      "grid_area": null,
      "grid_auto_columns": null,
      "grid_auto_flow": null,
      "grid_auto_rows": null,
      "grid_column": null,
      "grid_gap": null,
      "grid_row": null,
      "grid_template_areas": null,
      "grid_template_columns": null,
      "grid_template_rows": null,
      "height": null,
      "justify_content": null,
      "justify_items": null,
      "left": null,
      "margin": null,
      "max_height": null,
      "max_width": null,
      "min_height": null,
      "min_width": null,
      "object_fit": null,
      "object_position": null,
      "order": null,
      "overflow": null,
      "overflow_x": null,
      "overflow_y": null,
      "padding": null,
      "right": null,
      "top": null,
      "visibility": null,
      "width": null
     }
    },
    "b8546e4de5c143849101643807b0d203": {
     "model_module": "@jupyter-widgets/controls",
     "model_module_version": "1.5.0",
     "model_name": "HTMLModel",
     "state": {
      "_dom_classes": [],
      "_model_module": "@jupyter-widgets/controls",
      "_model_module_version": "1.5.0",
      "_model_name": "HTMLModel",
      "_view_count": null,
      "_view_module": "@jupyter-widgets/controls",
      "_view_module_version": "1.5.0",
      "_view_name": "HTMLView",
      "description": "",
      "description_tooltip": null,
      "layout": "IPY_MODEL_f797d031adbc44b0b142b5bc9ab7cda6",
      "placeholder": "​",
      "style": "IPY_MODEL_704eff93a84c4e82b0a92e1ac1bf0492",
      "value": "Train: 100%"
     }
    },
    "ba73fa4a78f44b8a8a6312c592f8b9f3": {
     "model_module": "@jupyter-widgets/controls",
     "model_module_version": "1.5.0",
     "model_name": "FloatProgressModel",
     "state": {
      "_dom_classes": [],
      "_model_module": "@jupyter-widgets/controls",
      "_model_module_version": "1.5.0",
      "_model_name": "FloatProgressModel",
      "_view_count": null,
      "_view_module": "@jupyter-widgets/controls",
      "_view_module_version": "1.5.0",
      "_view_name": "ProgressView",
      "bar_style": "success",
      "description": "",
      "description_tooltip": null,
      "layout": "IPY_MODEL_45cad59c33224fee962de65e50b28456",
      "max": 394,
      "min": 0,
      "orientation": "horizontal",
      "style": "IPY_MODEL_c95bcb85964b4fed8d37f3282cb4cbdc",
      "value": 394
     }
    },
    "ba86e14c9c6e46468b29c9ef25bd625b": {
     "model_module": "@jupyter-widgets/controls",
     "model_module_version": "1.5.0",
     "model_name": "DescriptionStyleModel",
     "state": {
      "_model_module": "@jupyter-widgets/controls",
      "_model_module_version": "1.5.0",
      "_model_name": "DescriptionStyleModel",
      "_view_count": null,
      "_view_module": "@jupyter-widgets/base",
      "_view_module_version": "1.2.0",
      "_view_name": "StyleView",
      "description_width": ""
     }
    },
    "c102fb88349946a288f2f9d39869a0c3": {
     "model_module": "@jupyter-widgets/controls",
     "model_module_version": "1.5.0",
     "model_name": "HTMLModel",
     "state": {
      "_dom_classes": [],
      "_model_module": "@jupyter-widgets/controls",
      "_model_module_version": "1.5.0",
      "_model_name": "HTMLModel",
      "_view_count": null,
      "_view_module": "@jupyter-widgets/controls",
      "_view_module_version": "1.5.0",
      "_view_name": "HTMLView",
      "description": "",
      "description_tooltip": null,
      "layout": "IPY_MODEL_387018128b434ce5b2ccd75495019750",
      "placeholder": "​",
      "style": "IPY_MODEL_eb0c32ce12954adf98df55fc0f172b3c",
      "value": " 5/10 [27:12&lt;25:23, 304.68s/it]"
     }
    },
    "c35bf6d045924329a0e6590de7288db4": {
     "model_module": "@jupyter-widgets/controls",
     "model_module_version": "1.5.0",
     "model_name": "HTMLModel",
     "state": {
      "_dom_classes": [],
      "_model_module": "@jupyter-widgets/controls",
      "_model_module_version": "1.5.0",
      "_model_name": "HTMLModel",
      "_view_count": null,
      "_view_module": "@jupyter-widgets/controls",
      "_view_module_version": "1.5.0",
      "_view_name": "HTMLView",
      "description": "",
      "description_tooltip": null,
      "layout": "IPY_MODEL_78b8b61b0211443589cfb624ac98f45a",
      "placeholder": "​",
      "style": "IPY_MODEL_162b0a8e007f439d864fe35a48b52dae",
      "value": "Test Acc: 100%"
     }
    },
    "c7e4308efcb54c56b97be5ad5eb83da7": {
     "model_module": "@jupyter-widgets/controls",
     "model_module_version": "1.5.0",
     "model_name": "HTMLModel",
     "state": {
      "_dom_classes": [],
      "_model_module": "@jupyter-widgets/controls",
      "_model_module_version": "1.5.0",
      "_model_name": "HTMLModel",
      "_view_count": null,
      "_view_module": "@jupyter-widgets/controls",
      "_view_module_version": "1.5.0",
      "_view_name": "HTMLView",
      "description": "",
      "description_tooltip": null,
      "layout": "IPY_MODEL_1d82f9356a344557b12feb6e99688fa6",
      "placeholder": "​",
      "style": "IPY_MODEL_2277d17f8e4449d28275f1891b997629",
      "value": "Train Acc: 100%"
     }
    },
    "c85ec8bf2a184d2a9e3928a26513d351": {
     "model_module": "@jupyter-widgets/base",
     "model_module_version": "1.2.0",
     "model_name": "LayoutModel",
     "state": {
      "_model_module": "@jupyter-widgets/base",
      "_model_module_version": "1.2.0",
      "_model_name": "LayoutModel",
      "_view_count": null,
      "_view_module": "@jupyter-widgets/base",
      "_view_module_version": "1.2.0",
      "_view_name": "LayoutView",
      "align_content": null,
      "align_items": null,
      "align_self": null,
      "border": null,
      "bottom": null,
      "display": null,
      "flex": null,
      "flex_flow": null,
      "grid_area": null,
      "grid_auto_columns": null,
      "grid_auto_flow": null,
      "grid_auto_rows": null,
      "grid_column": null,
      "grid_gap": null,
      "grid_row": null,
      "grid_template_areas": null,
      "grid_template_columns": null,
      "grid_template_rows": null,
      "height": null,
      "justify_content": null,
      "justify_items": null,
      "left": null,
      "margin": null,
      "max_height": null,
      "max_width": null,
      "min_height": null,
      "min_width": null,
      "object_fit": null,
      "object_position": null,
      "order": null,
      "overflow": null,
      "overflow_x": null,
      "overflow_y": null,
      "padding": null,
      "right": null,
      "top": null,
      "visibility": null,
      "width": null
     }
    },
    "c942ac127d2b4bbc9c94e7a89b37efc2": {
     "model_module": "@jupyter-widgets/controls",
     "model_module_version": "1.5.0",
     "model_name": "DescriptionStyleModel",
     "state": {
      "_model_module": "@jupyter-widgets/controls",
      "_model_module_version": "1.5.0",
      "_model_name": "DescriptionStyleModel",
      "_view_count": null,
      "_view_module": "@jupyter-widgets/base",
      "_view_module_version": "1.2.0",
      "_view_name": "StyleView",
      "description_width": ""
     }
    },
    "c95bcb85964b4fed8d37f3282cb4cbdc": {
     "model_module": "@jupyter-widgets/controls",
     "model_module_version": "1.5.0",
     "model_name": "ProgressStyleModel",
     "state": {
      "_model_module": "@jupyter-widgets/controls",
      "_model_module_version": "1.5.0",
      "_model_name": "ProgressStyleModel",
      "_view_count": null,
      "_view_module": "@jupyter-widgets/base",
      "_view_module_version": "1.2.0",
      "_view_name": "StyleView",
      "bar_color": null,
      "description_width": ""
     }
    },
    "ca19fdc22239411e99448ed970928416": {
     "model_module": "@jupyter-widgets/base",
     "model_module_version": "1.2.0",
     "model_name": "LayoutModel",
     "state": {
      "_model_module": "@jupyter-widgets/base",
      "_model_module_version": "1.2.0",
      "_model_name": "LayoutModel",
      "_view_count": null,
      "_view_module": "@jupyter-widgets/base",
      "_view_module_version": "1.2.0",
      "_view_name": "LayoutView",
      "align_content": null,
      "align_items": null,
      "align_self": null,
      "border": null,
      "bottom": null,
      "display": null,
      "flex": null,
      "flex_flow": null,
      "grid_area": null,
      "grid_auto_columns": null,
      "grid_auto_flow": null,
      "grid_auto_rows": null,
      "grid_column": null,
      "grid_gap": null,
      "grid_row": null,
      "grid_template_areas": null,
      "grid_template_columns": null,
      "grid_template_rows": null,
      "height": null,
      "justify_content": null,
      "justify_items": null,
      "left": null,
      "margin": null,
      "max_height": null,
      "max_width": null,
      "min_height": null,
      "min_width": null,
      "object_fit": null,
      "object_position": null,
      "order": null,
      "overflow": null,
      "overflow_x": null,
      "overflow_y": null,
      "padding": null,
      "right": null,
      "top": null,
      "visibility": null,
      "width": null
     }
    },
    "cae5684d7e424e3aa42d1ccc3eb13d6e": {
     "model_module": "@jupyter-widgets/base",
     "model_module_version": "1.2.0",
     "model_name": "LayoutModel",
     "state": {
      "_model_module": "@jupyter-widgets/base",
      "_model_module_version": "1.2.0",
      "_model_name": "LayoutModel",
      "_view_count": null,
      "_view_module": "@jupyter-widgets/base",
      "_view_module_version": "1.2.0",
      "_view_name": "LayoutView",
      "align_content": null,
      "align_items": null,
      "align_self": null,
      "border": null,
      "bottom": null,
      "display": null,
      "flex": null,
      "flex_flow": null,
      "grid_area": null,
      "grid_auto_columns": null,
      "grid_auto_flow": null,
      "grid_auto_rows": null,
      "grid_column": null,
      "grid_gap": null,
      "grid_row": null,
      "grid_template_areas": null,
      "grid_template_columns": null,
      "grid_template_rows": null,
      "height": null,
      "justify_content": null,
      "justify_items": null,
      "left": null,
      "margin": null,
      "max_height": null,
      "max_width": null,
      "min_height": null,
      "min_width": null,
      "object_fit": null,
      "object_position": null,
      "order": null,
      "overflow": null,
      "overflow_x": null,
      "overflow_y": null,
      "padding": null,
      "right": null,
      "top": null,
      "visibility": null,
      "width": null
     }
    },
    "cb0403f33da146d6af39f3b968c3ca83": {
     "model_module": "@jupyter-widgets/base",
     "model_module_version": "1.2.0",
     "model_name": "LayoutModel",
     "state": {
      "_model_module": "@jupyter-widgets/base",
      "_model_module_version": "1.2.0",
      "_model_name": "LayoutModel",
      "_view_count": null,
      "_view_module": "@jupyter-widgets/base",
      "_view_module_version": "1.2.0",
      "_view_name": "LayoutView",
      "align_content": null,
      "align_items": null,
      "align_self": null,
      "border": null,
      "bottom": null,
      "display": null,
      "flex": null,
      "flex_flow": null,
      "grid_area": null,
      "grid_auto_columns": null,
      "grid_auto_flow": null,
      "grid_auto_rows": null,
      "grid_column": null,
      "grid_gap": null,
      "grid_row": null,
      "grid_template_areas": null,
      "grid_template_columns": null,
      "grid_template_rows": null,
      "height": null,
      "justify_content": null,
      "justify_items": null,
      "left": null,
      "margin": null,
      "max_height": null,
      "max_width": null,
      "min_height": null,
      "min_width": null,
      "object_fit": null,
      "object_position": null,
      "order": null,
      "overflow": null,
      "overflow_x": null,
      "overflow_y": null,
      "padding": null,
      "right": null,
      "top": null,
      "visibility": null,
      "width": null
     }
    },
    "cdf5825edce84b7699dd2a4444b9c2ad": {
     "model_module": "@jupyter-widgets/controls",
     "model_module_version": "1.5.0",
     "model_name": "HTMLModel",
     "state": {
      "_dom_classes": [],
      "_model_module": "@jupyter-widgets/controls",
      "_model_module_version": "1.5.0",
      "_model_name": "HTMLModel",
      "_view_count": null,
      "_view_module": "@jupyter-widgets/controls",
      "_view_module_version": "1.5.0",
      "_view_name": "HTMLView",
      "description": "",
      "description_tooltip": null,
      "layout": "IPY_MODEL_741df4f13b6f438c9ca663699324d9a2",
      "placeholder": "​",
      "style": "IPY_MODEL_4c25ace49d1b4b13ac8196ce989e82a6",
      "value": " 394/394 [01:51&lt;00:00,  4.09it/s]"
     }
    },
    "ce534a213e5045ef941a4e22544545f1": {
     "model_module": "@jupyter-widgets/controls",
     "model_module_version": "1.5.0",
     "model_name": "FloatProgressModel",
     "state": {
      "_dom_classes": [],
      "_model_module": "@jupyter-widgets/controls",
      "_model_module_version": "1.5.0",
      "_model_name": "FloatProgressModel",
      "_view_count": null,
      "_view_module": "@jupyter-widgets/controls",
      "_view_module_version": "1.5.0",
      "_view_name": "ProgressView",
      "bar_style": "success",
      "description": "",
      "description_tooltip": null,
      "layout": "IPY_MODEL_a5c730a12bd141ac886ea6d550eeb24f",
      "max": 394,
      "min": 0,
      "orientation": "horizontal",
      "style": "IPY_MODEL_094eadcb330346b49510dbc11a8ce48e",
      "value": 394
     }
    },
    "d099d4bae53b4b0dbeed3a9707c3ce03": {
     "model_module": "@jupyter-widgets/controls",
     "model_module_version": "1.5.0",
     "model_name": "HTMLModel",
     "state": {
      "_dom_classes": [],
      "_model_module": "@jupyter-widgets/controls",
      "_model_module_version": "1.5.0",
      "_model_name": "HTMLModel",
      "_view_count": null,
      "_view_module": "@jupyter-widgets/controls",
      "_view_module_version": "1.5.0",
      "_view_name": "HTMLView",
      "description": "",
      "description_tooltip": null,
      "layout": "IPY_MODEL_e1a122cb984d46e884bc8b7f6fe5bbfd",
      "placeholder": "​",
      "style": "IPY_MODEL_edabd67424c44b07b2cd171ea2d648be",
      "value": "Train: 100%"
     }
    },
    "d0f1e987d0634b9085c1ca0f7bdf16fd": {
     "model_module": "@jupyter-widgets/controls",
     "model_module_version": "1.5.0",
     "model_name": "HTMLModel",
     "state": {
      "_dom_classes": [],
      "_model_module": "@jupyter-widgets/controls",
      "_model_module_version": "1.5.0",
      "_model_name": "HTMLModel",
      "_view_count": null,
      "_view_module": "@jupyter-widgets/controls",
      "_view_module_version": "1.5.0",
      "_view_name": "HTMLView",
      "description": "",
      "description_tooltip": null,
      "layout": "IPY_MODEL_0d8734c7ab0b4af8a19f2b84141116f4",
      "placeholder": "​",
      "style": "IPY_MODEL_254585e78d324aa788aa55e3cb23bd7b",
      "value": "Train Acc: 100%"
     }
    },
    "d1bca9c263ca4c1ebf33ca42b22ab825": {
     "model_module": "@jupyter-widgets/controls",
     "model_module_version": "1.5.0",
     "model_name": "HTMLModel",
     "state": {
      "_dom_classes": [],
      "_model_module": "@jupyter-widgets/controls",
      "_model_module_version": "1.5.0",
      "_model_name": "HTMLModel",
      "_view_count": null,
      "_view_module": "@jupyter-widgets/controls",
      "_view_module_version": "1.5.0",
      "_view_name": "HTMLView",
      "description": "",
      "description_tooltip": null,
      "layout": "IPY_MODEL_3b7bad45b315478794c05ecabcd2b03f",
      "placeholder": "​",
      "style": "IPY_MODEL_2d7e29410bc34e95a16ad9561f376f9a",
      "value": " 99/99 [00:25&lt;00:00,  4.91it/s]"
     }
    },
    "d477ff71ce6a48758512cd71ef9de99c": {
     "model_module": "@jupyter-widgets/controls",
     "model_module_version": "1.5.0",
     "model_name": "HTMLModel",
     "state": {
      "_dom_classes": [],
      "_model_module": "@jupyter-widgets/controls",
      "_model_module_version": "1.5.0",
      "_model_name": "HTMLModel",
      "_view_count": null,
      "_view_module": "@jupyter-widgets/controls",
      "_view_module_version": "1.5.0",
      "_view_name": "HTMLView",
      "description": "",
      "description_tooltip": null,
      "layout": "IPY_MODEL_98edc88ed2d74f39b5aa36b62ddf0e9a",
      "placeholder": "​",
      "style": "IPY_MODEL_246399cb7ce04c2bb58f54e131f77a26",
      "value": " 394/394 [01:48&lt;00:00,  3.43it/s]"
     }
    },
    "d775e3022495477980dcd5587df9d43c": {
     "model_module": "@jupyter-widgets/controls",
     "model_module_version": "1.5.0",
     "model_name": "DescriptionStyleModel",
     "state": {
      "_model_module": "@jupyter-widgets/controls",
      "_model_module_version": "1.5.0",
      "_model_name": "DescriptionStyleModel",
      "_view_count": null,
      "_view_module": "@jupyter-widgets/base",
      "_view_module_version": "1.2.0",
      "_view_name": "StyleView",
      "description_width": ""
     }
    },
    "da7fa1cdf0804ed89f5260723e47e9f0": {
     "model_module": "@jupyter-widgets/controls",
     "model_module_version": "1.5.0",
     "model_name": "HTMLModel",
     "state": {
      "_dom_classes": [],
      "_model_module": "@jupyter-widgets/controls",
      "_model_module_version": "1.5.0",
      "_model_name": "HTMLModel",
      "_view_count": null,
      "_view_module": "@jupyter-widgets/controls",
      "_view_module_version": "1.5.0",
      "_view_name": "HTMLView",
      "description": "",
      "description_tooltip": null,
      "layout": "IPY_MODEL_f72a39b652ee40c3a284645fadb3ff46",
      "placeholder": "​",
      "style": "IPY_MODEL_a4798deb10094dfc9fc55e5620f2ab14",
      "value": " 394/394 [01:48&lt;00:00,  4.05it/s]"
     }
    },
    "dab8ec32768148d296202637671ddbfb": {
     "model_module": "@jupyter-widgets/base",
     "model_module_version": "1.2.0",
     "model_name": "LayoutModel",
     "state": {
      "_model_module": "@jupyter-widgets/base",
      "_model_module_version": "1.2.0",
      "_model_name": "LayoutModel",
      "_view_count": null,
      "_view_module": "@jupyter-widgets/base",
      "_view_module_version": "1.2.0",
      "_view_name": "LayoutView",
      "align_content": null,
      "align_items": null,
      "align_self": null,
      "border": null,
      "bottom": null,
      "display": null,
      "flex": null,
      "flex_flow": null,
      "grid_area": null,
      "grid_auto_columns": null,
      "grid_auto_flow": null,
      "grid_auto_rows": null,
      "grid_column": null,
      "grid_gap": null,
      "grid_row": null,
      "grid_template_areas": null,
      "grid_template_columns": null,
      "grid_template_rows": null,
      "height": null,
      "justify_content": null,
      "justify_items": null,
      "left": null,
      "margin": null,
      "max_height": null,
      "max_width": null,
      "min_height": null,
      "min_width": null,
      "object_fit": null,
      "object_position": null,
      "order": null,
      "overflow": null,
      "overflow_x": null,
      "overflow_y": null,
      "padding": null,
      "right": null,
      "top": null,
      "visibility": null,
      "width": null
     }
    },
    "dafb9cf855bf467aaf5439bf072b3353": {
     "model_module": "@jupyter-widgets/controls",
     "model_module_version": "1.5.0",
     "model_name": "FloatProgressModel",
     "state": {
      "_dom_classes": [],
      "_model_module": "@jupyter-widgets/controls",
      "_model_module_version": "1.5.0",
      "_model_name": "FloatProgressModel",
      "_view_count": null,
      "_view_module": "@jupyter-widgets/controls",
      "_view_module_version": "1.5.0",
      "_view_name": "ProgressView",
      "bar_style": "success",
      "description": "",
      "description_tooltip": null,
      "layout": "IPY_MODEL_4611e1a813354e1aa13a51d62bf19b39",
      "max": 99,
      "min": 0,
      "orientation": "horizontal",
      "style": "IPY_MODEL_10e8b97a46894a00ad9609a75ec35d0c",
      "value": 99
     }
    },
    "e088c21070564533aea0ad01cc5f1fb0": {
     "model_module": "@jupyter-widgets/controls",
     "model_module_version": "1.5.0",
     "model_name": "FloatProgressModel",
     "state": {
      "_dom_classes": [],
      "_model_module": "@jupyter-widgets/controls",
      "_model_module_version": "1.5.0",
      "_model_name": "FloatProgressModel",
      "_view_count": null,
      "_view_module": "@jupyter-widgets/controls",
      "_view_module_version": "1.5.0",
      "_view_name": "ProgressView",
      "bar_style": "success",
      "description": "",
      "description_tooltip": null,
      "layout": "IPY_MODEL_43360ee800c74d568b5809119d7275f2",
      "max": 394,
      "min": 0,
      "orientation": "horizontal",
      "style": "IPY_MODEL_1e11847fb17849cfa83595d50a2bafaf",
      "value": 394
     }
    },
    "e0a04d8b05e4445c8cfaac635fa3f020": {
     "model_module": "@jupyter-widgets/controls",
     "model_module_version": "1.5.0",
     "model_name": "HBoxModel",
     "state": {
      "_dom_classes": [],
      "_model_module": "@jupyter-widgets/controls",
      "_model_module_version": "1.5.0",
      "_model_name": "HBoxModel",
      "_view_count": null,
      "_view_module": "@jupyter-widgets/controls",
      "_view_module_version": "1.5.0",
      "_view_name": "HBoxView",
      "box_style": "",
      "children": [
       "IPY_MODEL_b8546e4de5c143849101643807b0d203",
       "IPY_MODEL_1ca234da13ee40cdafa52be5db0221ad",
       "IPY_MODEL_04b2b64ccc704e85aaa5b54fdee08fce"
      ],
      "layout": "IPY_MODEL_ca19fdc22239411e99448ed970928416"
     }
    },
    "e1a122cb984d46e884bc8b7f6fe5bbfd": {
     "model_module": "@jupyter-widgets/base",
     "model_module_version": "1.2.0",
     "model_name": "LayoutModel",
     "state": {
      "_model_module": "@jupyter-widgets/base",
      "_model_module_version": "1.2.0",
      "_model_name": "LayoutModel",
      "_view_count": null,
      "_view_module": "@jupyter-widgets/base",
      "_view_module_version": "1.2.0",
      "_view_name": "LayoutView",
      "align_content": null,
      "align_items": null,
      "align_self": null,
      "border": null,
      "bottom": null,
      "display": null,
      "flex": null,
      "flex_flow": null,
      "grid_area": null,
      "grid_auto_columns": null,
      "grid_auto_flow": null,
      "grid_auto_rows": null,
      "grid_column": null,
      "grid_gap": null,
      "grid_row": null,
      "grid_template_areas": null,
      "grid_template_columns": null,
      "grid_template_rows": null,
      "height": null,
      "justify_content": null,
      "justify_items": null,
      "left": null,
      "margin": null,
      "max_height": null,
      "max_width": null,
      "min_height": null,
      "min_width": null,
      "object_fit": null,
      "object_position": null,
      "order": null,
      "overflow": null,
      "overflow_x": null,
      "overflow_y": null,
      "padding": null,
      "right": null,
      "top": null,
      "visibility": null,
      "width": null
     }
    },
    "e22bbbc154ce4f7d91eaebfabfdcf956": {
     "model_module": "@jupyter-widgets/controls",
     "model_module_version": "1.5.0",
     "model_name": "ProgressStyleModel",
     "state": {
      "_model_module": "@jupyter-widgets/controls",
      "_model_module_version": "1.5.0",
      "_model_name": "ProgressStyleModel",
      "_view_count": null,
      "_view_module": "@jupyter-widgets/base",
      "_view_module_version": "1.2.0",
      "_view_name": "StyleView",
      "bar_color": null,
      "description_width": ""
     }
    },
    "e3f4ab6e23614bb9b17c8fe2a13b0ad8": {
     "model_module": "@jupyter-widgets/controls",
     "model_module_version": "1.5.0",
     "model_name": "HBoxModel",
     "state": {
      "_dom_classes": [],
      "_model_module": "@jupyter-widgets/controls",
      "_model_module_version": "1.5.0",
      "_model_name": "HBoxModel",
      "_view_count": null,
      "_view_module": "@jupyter-widgets/controls",
      "_view_module_version": "1.5.0",
      "_view_name": "HBoxView",
      "box_style": "",
      "children": [
       "IPY_MODEL_4241d35e1df54a0dba5d443d3964b09a",
       "IPY_MODEL_2619aab6a091496b88a47d07295b8a29",
       "IPY_MODEL_cdf5825edce84b7699dd2a4444b9c2ad"
      ],
      "layout": "IPY_MODEL_c85ec8bf2a184d2a9e3928a26513d351"
     }
    },
    "e4766288c2eb407a9c52bf7c4ef63556": {
     "model_module": "@jupyter-widgets/controls",
     "model_module_version": "1.5.0",
     "model_name": "ProgressStyleModel",
     "state": {
      "_model_module": "@jupyter-widgets/controls",
      "_model_module_version": "1.5.0",
      "_model_name": "ProgressStyleModel",
      "_view_count": null,
      "_view_module": "@jupyter-widgets/base",
      "_view_module_version": "1.2.0",
      "_view_name": "StyleView",
      "bar_color": null,
      "description_width": ""
     }
    },
    "e7ac031c0c574a4093ef54747c8da3ff": {
     "model_module": "@jupyter-widgets/controls",
     "model_module_version": "1.5.0",
     "model_name": "ProgressStyleModel",
     "state": {
      "_model_module": "@jupyter-widgets/controls",
      "_model_module_version": "1.5.0",
      "_model_name": "ProgressStyleModel",
      "_view_count": null,
      "_view_module": "@jupyter-widgets/base",
      "_view_module_version": "1.2.0",
      "_view_name": "StyleView",
      "bar_color": null,
      "description_width": ""
     }
    },
    "e7f67d9ae676450983cbd02f32460fa0": {
     "model_module": "@jupyter-widgets/controls",
     "model_module_version": "1.5.0",
     "model_name": "ProgressStyleModel",
     "state": {
      "_model_module": "@jupyter-widgets/controls",
      "_model_module_version": "1.5.0",
      "_model_name": "ProgressStyleModel",
      "_view_count": null,
      "_view_module": "@jupyter-widgets/base",
      "_view_module_version": "1.2.0",
      "_view_name": "StyleView",
      "bar_color": null,
      "description_width": ""
     }
    },
    "e8a3d6caec1648a8b23ff7f7fd7e25b3": {
     "model_module": "@jupyter-widgets/controls",
     "model_module_version": "1.5.0",
     "model_name": "FloatProgressModel",
     "state": {
      "_dom_classes": [],
      "_model_module": "@jupyter-widgets/controls",
      "_model_module_version": "1.5.0",
      "_model_name": "FloatProgressModel",
      "_view_count": null,
      "_view_module": "@jupyter-widgets/controls",
      "_view_module_version": "1.5.0",
      "_view_name": "ProgressView",
      "bar_style": "",
      "description": "",
      "description_tooltip": null,
      "layout": "IPY_MODEL_f7e2881757104353847a8ae48ef57e21",
      "max": 10,
      "min": 0,
      "orientation": "horizontal",
      "style": "IPY_MODEL_f14128e2a1f544368aaa2ee3d778a33d",
      "value": 5
     }
    },
    "e9edb1dd68e348e8b083ab2eefc4092e": {
     "model_module": "@jupyter-widgets/base",
     "model_module_version": "1.2.0",
     "model_name": "LayoutModel",
     "state": {
      "_model_module": "@jupyter-widgets/base",
      "_model_module_version": "1.2.0",
      "_model_name": "LayoutModel",
      "_view_count": null,
      "_view_module": "@jupyter-widgets/base",
      "_view_module_version": "1.2.0",
      "_view_name": "LayoutView",
      "align_content": null,
      "align_items": null,
      "align_self": null,
      "border": null,
      "bottom": null,
      "display": null,
      "flex": null,
      "flex_flow": null,
      "grid_area": null,
      "grid_auto_columns": null,
      "grid_auto_flow": null,
      "grid_auto_rows": null,
      "grid_column": null,
      "grid_gap": null,
      "grid_row": null,
      "grid_template_areas": null,
      "grid_template_columns": null,
      "grid_template_rows": null,
      "height": null,
      "justify_content": null,
      "justify_items": null,
      "left": null,
      "margin": null,
      "max_height": null,
      "max_width": null,
      "min_height": null,
      "min_width": null,
      "object_fit": null,
      "object_position": null,
      "order": null,
      "overflow": null,
      "overflow_x": null,
      "overflow_y": null,
      "padding": null,
      "right": null,
      "top": null,
      "visibility": null,
      "width": null
     }
    },
    "eb0c32ce12954adf98df55fc0f172b3c": {
     "model_module": "@jupyter-widgets/controls",
     "model_module_version": "1.5.0",
     "model_name": "DescriptionStyleModel",
     "state": {
      "_model_module": "@jupyter-widgets/controls",
      "_model_module_version": "1.5.0",
      "_model_name": "DescriptionStyleModel",
      "_view_count": null,
      "_view_module": "@jupyter-widgets/base",
      "_view_module_version": "1.2.0",
      "_view_name": "StyleView",
      "description_width": ""
     }
    },
    "eba2f63fc1f14d74974a0eb234518182": {
     "model_module": "@jupyter-widgets/controls",
     "model_module_version": "1.5.0",
     "model_name": "HBoxModel",
     "state": {
      "_dom_classes": [],
      "_model_module": "@jupyter-widgets/controls",
      "_model_module_version": "1.5.0",
      "_model_name": "HBoxModel",
      "_view_count": null,
      "_view_module": "@jupyter-widgets/controls",
      "_view_module_version": "1.5.0",
      "_view_name": "HBoxView",
      "box_style": "",
      "children": [
       "IPY_MODEL_d0f1e987d0634b9085c1ca0f7bdf16fd",
       "IPY_MODEL_ce534a213e5045ef941a4e22544545f1",
       "IPY_MODEL_5e5f699f9c844210b6e65d928302d1e3"
      ],
      "layout": "IPY_MODEL_f165fcd727d54d9c817b8b9d9ffa1829"
     }
    },
    "ebc265042f9c4ff3aa8693a8b90ad6d9": {
     "model_module": "@jupyter-widgets/base",
     "model_module_version": "1.2.0",
     "model_name": "LayoutModel",
     "state": {
      "_model_module": "@jupyter-widgets/base",
      "_model_module_version": "1.2.0",
      "_model_name": "LayoutModel",
      "_view_count": null,
      "_view_module": "@jupyter-widgets/base",
      "_view_module_version": "1.2.0",
      "_view_name": "LayoutView",
      "align_content": null,
      "align_items": null,
      "align_self": null,
      "border": null,
      "bottom": null,
      "display": null,
      "flex": null,
      "flex_flow": null,
      "grid_area": null,
      "grid_auto_columns": null,
      "grid_auto_flow": null,
      "grid_auto_rows": null,
      "grid_column": null,
      "grid_gap": null,
      "grid_row": null,
      "grid_template_areas": null,
      "grid_template_columns": null,
      "grid_template_rows": null,
      "height": null,
      "justify_content": null,
      "justify_items": null,
      "left": null,
      "margin": null,
      "max_height": null,
      "max_width": null,
      "min_height": null,
      "min_width": null,
      "object_fit": null,
      "object_position": null,
      "order": null,
      "overflow": null,
      "overflow_x": null,
      "overflow_y": null,
      "padding": null,
      "right": null,
      "top": null,
      "visibility": null,
      "width": null
     }
    },
    "ec5e5d0abf0847ba80127af04525527d": {
     "model_module": "@jupyter-widgets/controls",
     "model_module_version": "1.5.0",
     "model_name": "DescriptionStyleModel",
     "state": {
      "_model_module": "@jupyter-widgets/controls",
      "_model_module_version": "1.5.0",
      "_model_name": "DescriptionStyleModel",
      "_view_count": null,
      "_view_module": "@jupyter-widgets/base",
      "_view_module_version": "1.2.0",
      "_view_name": "StyleView",
      "description_width": ""
     }
    },
    "edabd67424c44b07b2cd171ea2d648be": {
     "model_module": "@jupyter-widgets/controls",
     "model_module_version": "1.5.0",
     "model_name": "DescriptionStyleModel",
     "state": {
      "_model_module": "@jupyter-widgets/controls",
      "_model_module_version": "1.5.0",
      "_model_name": "DescriptionStyleModel",
      "_view_count": null,
      "_view_module": "@jupyter-widgets/base",
      "_view_module_version": "1.2.0",
      "_view_name": "StyleView",
      "description_width": ""
     }
    },
    "ee8b5246c5584d8ba8659b522477646c": {
     "model_module": "@jupyter-widgets/base",
     "model_module_version": "1.2.0",
     "model_name": "LayoutModel",
     "state": {
      "_model_module": "@jupyter-widgets/base",
      "_model_module_version": "1.2.0",
      "_model_name": "LayoutModel",
      "_view_count": null,
      "_view_module": "@jupyter-widgets/base",
      "_view_module_version": "1.2.0",
      "_view_name": "LayoutView",
      "align_content": null,
      "align_items": null,
      "align_self": null,
      "border": null,
      "bottom": null,
      "display": null,
      "flex": null,
      "flex_flow": null,
      "grid_area": null,
      "grid_auto_columns": null,
      "grid_auto_flow": null,
      "grid_auto_rows": null,
      "grid_column": null,
      "grid_gap": null,
      "grid_row": null,
      "grid_template_areas": null,
      "grid_template_columns": null,
      "grid_template_rows": null,
      "height": null,
      "justify_content": null,
      "justify_items": null,
      "left": null,
      "margin": null,
      "max_height": null,
      "max_width": null,
      "min_height": null,
      "min_width": null,
      "object_fit": null,
      "object_position": null,
      "order": null,
      "overflow": null,
      "overflow_x": null,
      "overflow_y": null,
      "padding": null,
      "right": null,
      "top": null,
      "visibility": null,
      "width": null
     }
    },
    "f06d9efc57db454db986a33008adf9b9": {
     "model_module": "@jupyter-widgets/controls",
     "model_module_version": "1.5.0",
     "model_name": "HBoxModel",
     "state": {
      "_dom_classes": [],
      "_model_module": "@jupyter-widgets/controls",
      "_model_module_version": "1.5.0",
      "_model_name": "HBoxModel",
      "_view_count": null,
      "_view_module": "@jupyter-widgets/controls",
      "_view_module_version": "1.5.0",
      "_view_name": "HBoxView",
      "box_style": "",
      "children": [
       "IPY_MODEL_38850c00fae0403d850b66bf1592fa1d",
       "IPY_MODEL_a924e5bfeee0495aa9d6a94533ac4fbe",
       "IPY_MODEL_28ae6de797cf456a913cdaf627f57383"
      ],
      "layout": "IPY_MODEL_3d8e00010f0542e5bde579eb218dfa44"
     }
    },
    "f14128e2a1f544368aaa2ee3d778a33d": {
     "model_module": "@jupyter-widgets/controls",
     "model_module_version": "1.5.0",
     "model_name": "ProgressStyleModel",
     "state": {
      "_model_module": "@jupyter-widgets/controls",
      "_model_module_version": "1.5.0",
      "_model_name": "ProgressStyleModel",
      "_view_count": null,
      "_view_module": "@jupyter-widgets/base",
      "_view_module_version": "1.2.0",
      "_view_name": "StyleView",
      "bar_color": null,
      "description_width": ""
     }
    },
    "f165fcd727d54d9c817b8b9d9ffa1829": {
     "model_module": "@jupyter-widgets/base",
     "model_module_version": "1.2.0",
     "model_name": "LayoutModel",
     "state": {
      "_model_module": "@jupyter-widgets/base",
      "_model_module_version": "1.2.0",
      "_model_name": "LayoutModel",
      "_view_count": null,
      "_view_module": "@jupyter-widgets/base",
      "_view_module_version": "1.2.0",
      "_view_name": "LayoutView",
      "align_content": null,
      "align_items": null,
      "align_self": null,
      "border": null,
      "bottom": null,
      "display": null,
      "flex": null,
      "flex_flow": null,
      "grid_area": null,
      "grid_auto_columns": null,
      "grid_auto_flow": null,
      "grid_auto_rows": null,
      "grid_column": null,
      "grid_gap": null,
      "grid_row": null,
      "grid_template_areas": null,
      "grid_template_columns": null,
      "grid_template_rows": null,
      "height": null,
      "justify_content": null,
      "justify_items": null,
      "left": null,
      "margin": null,
      "max_height": null,
      "max_width": null,
      "min_height": null,
      "min_width": null,
      "object_fit": null,
      "object_position": null,
      "order": null,
      "overflow": null,
      "overflow_x": null,
      "overflow_y": null,
      "padding": null,
      "right": null,
      "top": null,
      "visibility": null,
      "width": null
     }
    },
    "f429aa2959084b829069c851746250d2": {
     "model_module": "@jupyter-widgets/base",
     "model_module_version": "1.2.0",
     "model_name": "LayoutModel",
     "state": {
      "_model_module": "@jupyter-widgets/base",
      "_model_module_version": "1.2.0",
      "_model_name": "LayoutModel",
      "_view_count": null,
      "_view_module": "@jupyter-widgets/base",
      "_view_module_version": "1.2.0",
      "_view_name": "LayoutView",
      "align_content": null,
      "align_items": null,
      "align_self": null,
      "border": null,
      "bottom": null,
      "display": null,
      "flex": null,
      "flex_flow": null,
      "grid_area": null,
      "grid_auto_columns": null,
      "grid_auto_flow": null,
      "grid_auto_rows": null,
      "grid_column": null,
      "grid_gap": null,
      "grid_row": null,
      "grid_template_areas": null,
      "grid_template_columns": null,
      "grid_template_rows": null,
      "height": null,
      "justify_content": null,
      "justify_items": null,
      "left": null,
      "margin": null,
      "max_height": null,
      "max_width": null,
      "min_height": null,
      "min_width": null,
      "object_fit": null,
      "object_position": null,
      "order": null,
      "overflow": null,
      "overflow_x": null,
      "overflow_y": null,
      "padding": null,
      "right": null,
      "top": null,
      "visibility": null,
      "width": null
     }
    },
    "f457984693624b3d8e96f5161885d333": {
     "model_module": "@jupyter-widgets/controls",
     "model_module_version": "1.5.0",
     "model_name": "HTMLModel",
     "state": {
      "_dom_classes": [],
      "_model_module": "@jupyter-widgets/controls",
      "_model_module_version": "1.5.0",
      "_model_name": "HTMLModel",
      "_view_count": null,
      "_view_module": "@jupyter-widgets/controls",
      "_view_module_version": "1.5.0",
      "_view_name": "HTMLView",
      "description": "",
      "description_tooltip": null,
      "layout": "IPY_MODEL_08abb7ddba00438790c00f53a13a8cb9",
      "placeholder": "​",
      "style": "IPY_MODEL_9a0a20539dda4478a8a710f1261580ed",
      "value": " 99/99 [00:27&lt;00:00,  4.53it/s]"
     }
    },
    "f4cf09693c624fda89db50f53cc67123": {
     "model_module": "@jupyter-widgets/controls",
     "model_module_version": "1.5.0",
     "model_name": "DescriptionStyleModel",
     "state": {
      "_model_module": "@jupyter-widgets/controls",
      "_model_module_version": "1.5.0",
      "_model_name": "DescriptionStyleModel",
      "_view_count": null,
      "_view_module": "@jupyter-widgets/base",
      "_view_module_version": "1.2.0",
      "_view_name": "StyleView",
      "description_width": ""
     }
    },
    "f5cbc0dfd25f4ecfa0a91bb5be9b88c4": {
     "model_module": "@jupyter-widgets/controls",
     "model_module_version": "1.5.0",
     "model_name": "FloatProgressModel",
     "state": {
      "_dom_classes": [],
      "_model_module": "@jupyter-widgets/controls",
      "_model_module_version": "1.5.0",
      "_model_name": "FloatProgressModel",
      "_view_count": null,
      "_view_module": "@jupyter-widgets/controls",
      "_view_module_version": "1.5.0",
      "_view_name": "ProgressView",
      "bar_style": "success",
      "description": "",
      "description_tooltip": null,
      "layout": "IPY_MODEL_7ae9ca316d07419a8ee8f2886de55cb6",
      "max": 394,
      "min": 0,
      "orientation": "horizontal",
      "style": "IPY_MODEL_6cb3b2bbdb2e4819a5921acf20978455",
      "value": 394
     }
    },
    "f72a39b652ee40c3a284645fadb3ff46": {
     "model_module": "@jupyter-widgets/base",
     "model_module_version": "1.2.0",
     "model_name": "LayoutModel",
     "state": {
      "_model_module": "@jupyter-widgets/base",
      "_model_module_version": "1.2.0",
      "_model_name": "LayoutModel",
      "_view_count": null,
      "_view_module": "@jupyter-widgets/base",
      "_view_module_version": "1.2.0",
      "_view_name": "LayoutView",
      "align_content": null,
      "align_items": null,
      "align_self": null,
      "border": null,
      "bottom": null,
      "display": null,
      "flex": null,
      "flex_flow": null,
      "grid_area": null,
      "grid_auto_columns": null,
      "grid_auto_flow": null,
      "grid_auto_rows": null,
      "grid_column": null,
      "grid_gap": null,
      "grid_row": null,
      "grid_template_areas": null,
      "grid_template_columns": null,
      "grid_template_rows": null,
      "height": null,
      "justify_content": null,
      "justify_items": null,
      "left": null,
      "margin": null,
      "max_height": null,
      "max_width": null,
      "min_height": null,
      "min_width": null,
      "object_fit": null,
      "object_position": null,
      "order": null,
      "overflow": null,
      "overflow_x": null,
      "overflow_y": null,
      "padding": null,
      "right": null,
      "top": null,
      "visibility": null,
      "width": null
     }
    },
    "f7641e9d4d9e4d6ea47e91876b312e04": {
     "model_module": "@jupyter-widgets/base",
     "model_module_version": "1.2.0",
     "model_name": "LayoutModel",
     "state": {
      "_model_module": "@jupyter-widgets/base",
      "_model_module_version": "1.2.0",
      "_model_name": "LayoutModel",
      "_view_count": null,
      "_view_module": "@jupyter-widgets/base",
      "_view_module_version": "1.2.0",
      "_view_name": "LayoutView",
      "align_content": null,
      "align_items": null,
      "align_self": null,
      "border": null,
      "bottom": null,
      "display": null,
      "flex": null,
      "flex_flow": null,
      "grid_area": null,
      "grid_auto_columns": null,
      "grid_auto_flow": null,
      "grid_auto_rows": null,
      "grid_column": null,
      "grid_gap": null,
      "grid_row": null,
      "grid_template_areas": null,
      "grid_template_columns": null,
      "grid_template_rows": null,
      "height": null,
      "justify_content": null,
      "justify_items": null,
      "left": null,
      "margin": null,
      "max_height": null,
      "max_width": null,
      "min_height": null,
      "min_width": null,
      "object_fit": null,
      "object_position": null,
      "order": null,
      "overflow": null,
      "overflow_x": null,
      "overflow_y": null,
      "padding": null,
      "right": null,
      "top": null,
      "visibility": null,
      "width": null
     }
    },
    "f797d031adbc44b0b142b5bc9ab7cda6": {
     "model_module": "@jupyter-widgets/base",
     "model_module_version": "1.2.0",
     "model_name": "LayoutModel",
     "state": {
      "_model_module": "@jupyter-widgets/base",
      "_model_module_version": "1.2.0",
      "_model_name": "LayoutModel",
      "_view_count": null,
      "_view_module": "@jupyter-widgets/base",
      "_view_module_version": "1.2.0",
      "_view_name": "LayoutView",
      "align_content": null,
      "align_items": null,
      "align_self": null,
      "border": null,
      "bottom": null,
      "display": null,
      "flex": null,
      "flex_flow": null,
      "grid_area": null,
      "grid_auto_columns": null,
      "grid_auto_flow": null,
      "grid_auto_rows": null,
      "grid_column": null,
      "grid_gap": null,
      "grid_row": null,
      "grid_template_areas": null,
      "grid_template_columns": null,
      "grid_template_rows": null,
      "height": null,
      "justify_content": null,
      "justify_items": null,
      "left": null,
      "margin": null,
      "max_height": null,
      "max_width": null,
      "min_height": null,
      "min_width": null,
      "object_fit": null,
      "object_position": null,
      "order": null,
      "overflow": null,
      "overflow_x": null,
      "overflow_y": null,
      "padding": null,
      "right": null,
      "top": null,
      "visibility": null,
      "width": null
     }
    },
    "f7e2881757104353847a8ae48ef57e21": {
     "model_module": "@jupyter-widgets/base",
     "model_module_version": "1.2.0",
     "model_name": "LayoutModel",
     "state": {
      "_model_module": "@jupyter-widgets/base",
      "_model_module_version": "1.2.0",
      "_model_name": "LayoutModel",
      "_view_count": null,
      "_view_module": "@jupyter-widgets/base",
      "_view_module_version": "1.2.0",
      "_view_name": "LayoutView",
      "align_content": null,
      "align_items": null,
      "align_self": null,
      "border": null,
      "bottom": null,
      "display": null,
      "flex": null,
      "flex_flow": null,
      "grid_area": null,
      "grid_auto_columns": null,
      "grid_auto_flow": null,
      "grid_auto_rows": null,
      "grid_column": null,
      "grid_gap": null,
      "grid_row": null,
      "grid_template_areas": null,
      "grid_template_columns": null,
      "grid_template_rows": null,
      "height": null,
      "justify_content": null,
      "justify_items": null,
      "left": null,
      "margin": null,
      "max_height": null,
      "max_width": null,
      "min_height": null,
      "min_width": null,
      "object_fit": null,
      "object_position": null,
      "order": null,
      "overflow": null,
      "overflow_x": null,
      "overflow_y": null,
      "padding": null,
      "right": null,
      "top": null,
      "visibility": null,
      "width": null
     }
    },
    "f86087d39a4a4ce4bddf8d6a71ee4dee": {
     "model_module": "@jupyter-widgets/base",
     "model_module_version": "1.2.0",
     "model_name": "LayoutModel",
     "state": {
      "_model_module": "@jupyter-widgets/base",
      "_model_module_version": "1.2.0",
      "_model_name": "LayoutModel",
      "_view_count": null,
      "_view_module": "@jupyter-widgets/base",
      "_view_module_version": "1.2.0",
      "_view_name": "LayoutView",
      "align_content": null,
      "align_items": null,
      "align_self": null,
      "border": null,
      "bottom": null,
      "display": null,
      "flex": null,
      "flex_flow": null,
      "grid_area": null,
      "grid_auto_columns": null,
      "grid_auto_flow": null,
      "grid_auto_rows": null,
      "grid_column": null,
      "grid_gap": null,
      "grid_row": null,
      "grid_template_areas": null,
      "grid_template_columns": null,
      "grid_template_rows": null,
      "height": null,
      "justify_content": null,
      "justify_items": null,
      "left": null,
      "margin": null,
      "max_height": null,
      "max_width": null,
      "min_height": null,
      "min_width": null,
      "object_fit": null,
      "object_position": null,
      "order": null,
      "overflow": null,
      "overflow_x": null,
      "overflow_y": null,
      "padding": null,
      "right": null,
      "top": null,
      "visibility": null,
      "width": null
     }
    },
    "fafece39ecd5481b9b03e1456c96a3ca": {
     "model_module": "@jupyter-widgets/controls",
     "model_module_version": "1.5.0",
     "model_name": "HTMLModel",
     "state": {
      "_dom_classes": [],
      "_model_module": "@jupyter-widgets/controls",
      "_model_module_version": "1.5.0",
      "_model_name": "HTMLModel",
      "_view_count": null,
      "_view_module": "@jupyter-widgets/controls",
      "_view_module_version": "1.5.0",
      "_view_name": "HTMLView",
      "description": "",
      "description_tooltip": null,
      "layout": "IPY_MODEL_b1979d0d603c4eb1b5da0808719bf8b3",
      "placeholder": "​",
      "style": "IPY_MODEL_7eba2b6c239f423696dae02cceab84d4",
      "value": " 394/394 [01:48&lt;00:00,  3.85it/s]"
     }
    },
    "fbde1f6dfe784574a0b6d928912ddb5f": {
     "model_module": "@jupyter-widgets/controls",
     "model_module_version": "1.5.0",
     "model_name": "DescriptionStyleModel",
     "state": {
      "_model_module": "@jupyter-widgets/controls",
      "_model_module_version": "1.5.0",
      "_model_name": "DescriptionStyleModel",
      "_view_count": null,
      "_view_module": "@jupyter-widgets/base",
      "_view_module_version": "1.2.0",
      "_view_name": "StyleView",
      "description_width": ""
     }
    },
    "fc66adcb3aa64b09bc2bd15194f80b26": {
     "model_module": "@jupyter-widgets/base",
     "model_module_version": "1.2.0",
     "model_name": "LayoutModel",
     "state": {
      "_model_module": "@jupyter-widgets/base",
      "_model_module_version": "1.2.0",
      "_model_name": "LayoutModel",
      "_view_count": null,
      "_view_module": "@jupyter-widgets/base",
      "_view_module_version": "1.2.0",
      "_view_name": "LayoutView",
      "align_content": null,
      "align_items": null,
      "align_self": null,
      "border": null,
      "bottom": null,
      "display": null,
      "flex": null,
      "flex_flow": null,
      "grid_area": null,
      "grid_auto_columns": null,
      "grid_auto_flow": null,
      "grid_auto_rows": null,
      "grid_column": null,
      "grid_gap": null,
      "grid_row": null,
      "grid_template_areas": null,
      "grid_template_columns": null,
      "grid_template_rows": null,
      "height": null,
      "justify_content": null,
      "justify_items": null,
      "left": null,
      "margin": null,
      "max_height": null,
      "max_width": null,
      "min_height": null,
      "min_width": null,
      "object_fit": null,
      "object_position": null,
      "order": null,
      "overflow": null,
      "overflow_x": null,
      "overflow_y": null,
      "padding": null,
      "right": null,
      "top": null,
      "visibility": null,
      "width": null
     }
    },
    "fcef7abb8dbc4737bb2c6dc69e985bca": {
     "model_module": "@jupyter-widgets/controls",
     "model_module_version": "1.5.0",
     "model_name": "HTMLModel",
     "state": {
      "_dom_classes": [],
      "_model_module": "@jupyter-widgets/controls",
      "_model_module_version": "1.5.0",
      "_model_name": "HTMLModel",
      "_view_count": null,
      "_view_module": "@jupyter-widgets/controls",
      "_view_module_version": "1.5.0",
      "_view_name": "HTMLView",
      "description": "",
      "description_tooltip": null,
      "layout": "IPY_MODEL_f7641e9d4d9e4d6ea47e91876b312e04",
      "placeholder": "​",
      "style": "IPY_MODEL_4ed79e5ccd9242c6abc0ef77ef666415",
      "value": "Train:  83%"
     }
    },
    "ff78ef50665942ceafb18be02153ad5d": {
     "model_module": "@jupyter-widgets/base",
     "model_module_version": "1.2.0",
     "model_name": "LayoutModel",
     "state": {
      "_model_module": "@jupyter-widgets/base",
      "_model_module_version": "1.2.0",
      "_model_name": "LayoutModel",
      "_view_count": null,
      "_view_module": "@jupyter-widgets/base",
      "_view_module_version": "1.2.0",
      "_view_name": "LayoutView",
      "align_content": null,
      "align_items": null,
      "align_self": null,
      "border": null,
      "bottom": null,
      "display": null,
      "flex": null,
      "flex_flow": null,
      "grid_area": null,
      "grid_auto_columns": null,
      "grid_auto_flow": null,
      "grid_auto_rows": null,
      "grid_column": null,
      "grid_gap": null,
      "grid_row": null,
      "grid_template_areas": null,
      "grid_template_columns": null,
      "grid_template_rows": null,
      "height": null,
      "justify_content": null,
      "justify_items": null,
      "left": null,
      "margin": null,
      "max_height": null,
      "max_width": null,
      "min_height": null,
      "min_width": null,
      "object_fit": null,
      "object_position": null,
      "order": null,
      "overflow": null,
      "overflow_x": null,
      "overflow_y": null,
      "padding": null,
      "right": null,
      "top": null,
      "visibility": null,
      "width": null
     }
    }
   }
  }
 },
 "nbformat": 4,
 "nbformat_minor": 5
}
