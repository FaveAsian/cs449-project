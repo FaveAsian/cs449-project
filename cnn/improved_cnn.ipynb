{
 "cells": [
  {
   "cell_type": "markdown",
   "id": "91b95e33-580d-4d47-8972-38846de0c85d",
   "metadata": {},
   "source": [
    "# Improved CNN\n",
    "\n",
    "This is our improved CNN, modified from the baseline.\n",
    "\n",
    "## Setup\n",
    "\n",
    "First we import needed modules and (down)load our data."
   ]
  },
  {
   "cell_type": "code",
   "execution_count": 1,
   "id": "6d026df9",
   "metadata": {
    "id": "6d026df9"
   },
   "outputs": [],
   "source": [
    "import torch\n",
    "import torch.nn as nn\n",
    "import torchvision\n",
    "import torch.nn.functional as F\n",
    "from torch.optim import Adam\n",
    "from torch.autograd import Variable\n",
    "from torchvision.transforms import transforms\n",
    "from torch.utils.data import DataLoader, random_split\n",
    "from torchvision.datasets import ImageFolder\n",
    "from pathlib import Path\n",
    "import gdown"
   ]
  },
  {
   "cell_type": "code",
   "execution_count": null,
   "id": "GUc0K31jAux3",
   "metadata": {
    "id": "GUc0K31jAux3"
   },
   "outputs": [],
   "source": [
    "RESISC45_DIR = Path(\".\") / \"NWPU-RESISC45\"\n",
    "if not RESISC45_DIR.exists():\n",
    "    gdown.download(\n",
    "        id=\"1nd0R9iljzkWd7Hhfyp2tH55KxAsKrzYj\",\n",
    "        output=\"NWPU-RESISC45.rar\",\n",
    "    )\n",
    "    !unrar x NWPU-RESISC45.rar"
   ]
  },
  {
   "cell_type": "markdown",
   "id": "8cde1e27-0d3a-4842-89d6-3d90a0b32119",
   "metadata": {},
   "source": [
    "### Statistics\n",
    "\n",
    "We now perform some quick statistics on the data $-$ specifically, finding the mean and standard deviation."
   ]
  },
  {
   "cell_type": "code",
   "execution_count": 1,
   "id": "413a1eae",
   "metadata": {
    "id": "413a1eae",
    "tags": []
   },
   "outputs": [
    {
     "ename": "NameError",
     "evalue": "name 'transforms' is not defined",
     "output_type": "error",
     "traceback": [
      "\u001b[1;31m---------------------------------------------------------------------------\u001b[0m",
      "\u001b[1;31mNameError\u001b[0m                                 Traceback (most recent call last)",
      "Cell \u001b[1;32mIn[1], line 32\u001b[0m\n\u001b[0;32m     28\u001b[0m     \u001b[38;5;28mprint\u001b[39m(\u001b[38;5;124mf\u001b[39m\u001b[38;5;124m\"\u001b[39m\u001b[38;5;124mMean: \u001b[39m\u001b[38;5;132;01m{\u001b[39;00m[\u001b[38;5;28mround\u001b[39m(i,\u001b[38;5;250m \u001b[39m\u001b[38;5;241m4\u001b[39m)\u001b[38;5;250m \u001b[39m\u001b[38;5;28;01mfor\u001b[39;00m\u001b[38;5;250m \u001b[39mi\u001b[38;5;250m \u001b[39m\u001b[38;5;129;01min\u001b[39;00m\u001b[38;5;250m \u001b[39mmean\u001b[38;5;241m.\u001b[39mtolist()]\u001b[38;5;132;01m}\u001b[39;00m\u001b[38;5;124m\"\u001b[39m)\n\u001b[0;32m     29\u001b[0m     \u001b[38;5;28mprint\u001b[39m(\u001b[38;5;124mf\u001b[39m\u001b[38;5;124m\"\u001b[39m\u001b[38;5;124mStd: \u001b[39m\u001b[38;5;132;01m{\u001b[39;00m[\u001b[38;5;28mround\u001b[39m(i,\u001b[38;5;250m \u001b[39m\u001b[38;5;241m4\u001b[39m)\u001b[38;5;250m \u001b[39m\u001b[38;5;28;01mfor\u001b[39;00m\u001b[38;5;250m \u001b[39mi\u001b[38;5;250m \u001b[39m\u001b[38;5;129;01min\u001b[39;00m\u001b[38;5;250m \u001b[39mstd\u001b[38;5;241m.\u001b[39mtolist()]\u001b[38;5;132;01m}\u001b[39;00m\u001b[38;5;124m\"\u001b[39m)\n\u001b[1;32m---> 32\u001b[0m \u001b[43mget_mean_and_std\u001b[49m\u001b[43m(\u001b[49m\u001b[43m)\u001b[49m\n",
      "Cell \u001b[1;32mIn[1], line 4\u001b[0m, in \u001b[0;36mget_mean_and_std\u001b[1;34m()\u001b[0m\n\u001b[0;32m      2\u001b[0m \u001b[38;5;250m\u001b[39m\u001b[38;5;124;03m\"\"\"Log the mean and standard deviation of the RESISC45 data.\"\"\"\u001b[39;00m\n\u001b[0;32m      3\u001b[0m \u001b[38;5;66;03m# load in the data\u001b[39;00m\n\u001b[1;32m----> 4\u001b[0m transformations \u001b[38;5;241m=\u001b[39m \u001b[43mtransforms\u001b[49m\u001b[38;5;241m.\u001b[39mCompose(\n\u001b[0;32m      5\u001b[0m     [\n\u001b[0;32m      6\u001b[0m         transforms\u001b[38;5;241m.\u001b[39mToTensor(),\n\u001b[0;32m      7\u001b[0m     ]\n\u001b[0;32m      8\u001b[0m )\n\u001b[0;32m      9\u001b[0m dataset \u001b[38;5;241m=\u001b[39m ImageFolder(root\u001b[38;5;241m=\u001b[39mRESISC45_DIR, transform\u001b[38;5;241m=\u001b[39mtransformations)\n\u001b[0;32m     10\u001b[0m loader \u001b[38;5;241m=\u001b[39m DataLoader(dataset, batch_size\u001b[38;5;241m=\u001b[39m\u001b[38;5;241m64\u001b[39m, shuffle\u001b[38;5;241m=\u001b[39m\u001b[38;5;28;01mFalse\u001b[39;00m, num_workers\u001b[38;5;241m=\u001b[39m\u001b[38;5;241m4\u001b[39m)\n",
      "\u001b[1;31mNameError\u001b[0m: name 'transforms' is not defined"
     ]
    }
   ],
   "source": [
    "def get_mean_and_std():\n",
    "    \"\"\"Log the mean and standard deviation of the RESISC45 data.\"\"\"\n",
    "    # load in the data\n",
    "    transformations = transforms.Compose(\n",
    "        [\n",
    "            transforms.ToTensor(),\n",
    "        ]\n",
    "    )\n",
    "    dataset = ImageFolder(root=RESISC45_DIR, transform=transformations)\n",
    "    loader = DataLoader(dataset, batch_size=64, shuffle=False, num_workers=4)\n",
    "\n",
    "    # Iterate through the dataset\n",
    "    mean = 0.0\n",
    "    std = 0.0\n",
    "    total_samples = 0\n",
    "\n",
    "    for images, _ in loader:\n",
    "        batch_size = images.size(0)\n",
    "        images = images.view(batch_size, images.size(1), -1)\n",
    "        mean += images.mean(2).sum(0)\n",
    "        std += images.std(2).sum(0)\n",
    "        total_samples += batch_size\n",
    "\n",
    "    # Divide by number of samples and print results\n",
    "    mean /= total_samples\n",
    "    std /= total_samples\n",
    "\n",
    "    print(f\"Mean: {[round(i, 4) for i in mean.tolist()]}\")\n",
    "    print(f\"Std: {[round(i, 4) for i in std.tolist()]}\")\n",
    "\n",
    "\n",
    "get_mean_and_std()"
   ]
  },
  {
   "cell_type": "markdown",
   "id": "6747af47-2990-4f05-bde5-7e24a99a0698",
   "metadata": {},
   "source": [
    "# Learning\n",
    "\n",
    "We now will train our model.\n",
    "\n",
    "## Setup and Hyperparameters\n",
    "\n",
    "First, we define some basic hyperparameters, as shown below. We also find\n",
    "which device we are training on. Then, we load and normalize the data, and\n",
    "split it into train and test datasets. Finally, we define and create our neural network."
   ]
  },
  {
   "cell_type": "code",
   "execution_count": 4,
   "id": "6451f372",
   "metadata": {
    "id": "6451f372"
   },
   "outputs": [],
   "source": [
    "mean = (0.3680, 0.3810, 0.3436)\n",
    "std = (0.1454, 0.1356, 0.1320)\n",
    "\n",
    "train_ratio = 0.8\n",
    "test_ratio = 0.2\n",
    "\n",
    "batch_size = 128\n",
    "learning_rate = 0.0001\n",
    "\n",
    "device = torch.device(\"cuda:0\" if torch.cuda.is_available() else \"cpu\")"
   ]
  },
  {
   "cell_type": "code",
   "execution_count": 5,
   "id": "03ceceec",
   "metadata": {
    "id": "03ceceec"
   },
   "outputs": [],
   "source": [
    "# Loading and normalizing the data.\n",
    "\n",
    "transformations = transforms.Compose(\n",
    "    [transforms.ToTensor(), transforms.Normalize(mean, std)]\n",
    ")\n",
    "\n",
    "dataset = ImageFolder(root=\"NWPU-RESISC45\", transform=transformations)\n",
    "classes = dataset.class_to_idx\n",
    "\n",
    "train_size = int(train_ratio * len(dataset))\n",
    "test_size = len(dataset) - train_size\n",
    "\n",
    "train_set, test_set = random_split(dataset, [train_size, test_size])\n",
    "\n",
    "train_loader = DataLoader(train_set, batch_size=batch_size, shuffle=True, num_workers=0)\n",
    "test_loader = DataLoader(test_set, batch_size=batch_size, shuffle=False, num_workers=0)"
   ]
  },
  {
   "cell_type": "code",
   "execution_count": 6,
   "id": "dc3a30a2",
   "metadata": {
    "id": "dc3a30a2"
   },
   "outputs": [],
   "source": [
    "# Define a convolution neural network\n",
    "class Network(nn.Module):\n",
    "    def __init__(self):\n",
    "        super(Network, self).__init__()\n",
    "\n",
    "        self.conv1 = nn.Conv2d(\n",
    "            in_channels=3, out_channels=20, kernel_size=3, stride=1, padding=1\n",
    "        )\n",
    "        self.bn1 = nn.BatchNorm2d(20)\n",
    "        self.conv2 = nn.Conv2d(\n",
    "            in_channels=20, out_channels=20, kernel_size=3, stride=1, padding=1\n",
    "        )\n",
    "        self.bn2 = nn.BatchNorm2d(20)\n",
    "        self.pool1 = nn.MaxPool2d(2, 2)\n",
    "\n",
    "        self.conv3 = nn.Conv2d(\n",
    "            in_channels=20, out_channels=40, kernel_size=3, stride=1, padding=1\n",
    "        )\n",
    "        self.bn3 = nn.BatchNorm2d(40)\n",
    "        self.conv4 = nn.Conv2d(\n",
    "            in_channels=40, out_channels=40, kernel_size=3, stride=1, padding=1\n",
    "        )\n",
    "        self.bn4 = nn.BatchNorm2d(40)\n",
    "        self.pool2 = nn.MaxPool2d(2, 2)\n",
    "\n",
    "        self.fc1 = nn.Linear(40 * 64 * 64, 45)\n",
    "\n",
    "    def forward(self, input):\n",
    "        output = self.bn1(F.relu(self.conv1(input)))\n",
    "        output = self.bn2(F.relu(self.conv2(output)))\n",
    "        output = self.pool1(output)\n",
    "\n",
    "        output = self.bn3(F.relu(self.conv3(output)))\n",
    "        output = self.bn4(F.relu(self.conv4(output)))\n",
    "        output = self.pool2(output)\n",
    "\n",
    "        output = output.view(-1, 40 * 64 * 64)\n",
    "        output = self.fc1(output)\n",
    "\n",
    "        return output\n",
    "\n",
    "\n",
    "# Instantiate a neural network model\n",
    "model = Network()"
   ]
  },
  {
   "cell_type": "markdown",
   "id": "452909a2-d5f2-4c2a-93f5-7618bb578039",
   "metadata": {
    "tags": []
   },
   "source": [
    "### Training\n",
    "\n",
    "We now enter the training phase of the notebook. First, we create our loss function and optimizer\n",
    "(another hyperparameter). We chose the adam optimzier as it works well, with a small weight decay\n",
    "to help with overfitting. We then define helper functions to train our model: one for saving the model,\n",
    "two for testing train/test accuracy. Finally, we create our main training loop."
   ]
  },
  {
   "cell_type": "code",
   "execution_count": 7,
   "id": "ab65882f",
   "metadata": {
    "id": "ab65882f"
   },
   "outputs": [],
   "source": [
    "# Define the loss function with Classification Cross-Entropy loss and an optimizer with Adam optimizer\n",
    "loss_fn = nn.CrossEntropyLoss()\n",
    "optimizer = Adam(model.parameters(), lr=learning_rate, weight_decay=0.0001)"
   ]
  },
  {
   "cell_type": "code",
   "execution_count": 8,
   "id": "3ab8acab",
   "metadata": {
    "id": "3ab8acab"
   },
   "outputs": [],
   "source": [
    "# Function to save the model\n",
    "def saveModel():\n",
    "    path = \"./myFirstModel.pth\"\n",
    "    torch.save(model.state_dict(), path)\n",
    "\n",
    "\n",
    "# Function to test the model with the test dataset and print the accuracy for the test images\n",
    "def trainAccuracy():\n",
    "    model.eval()\n",
    "    accuracy = 0.0\n",
    "    total = 0.0\n",
    "\n",
    "    with torch.no_grad():\n",
    "        for data in train_loader:\n",
    "            images, labels = data\n",
    "            images = Variable(images.to(device))\n",
    "            labels = Variable(labels.to(device))\n",
    "            # run the model on the test set to predict labels\n",
    "            outputs = model(images)\n",
    "            # the label with the highest energy will be our prediction\n",
    "            _, predicted = torch.max(outputs.data, 1)\n",
    "            total += labels.size(0)\n",
    "            accuracy += (predicted == labels).sum().item()\n",
    "\n",
    "    # compute the accuracy over all test images\n",
    "    accuracy = 100 * accuracy / total\n",
    "    return accuracy\n",
    "\n",
    "\n",
    "def testAccuracy():\n",
    "    model.eval()\n",
    "    accuracy = 0.0\n",
    "    total = 0.0\n",
    "\n",
    "    with torch.no_grad():\n",
    "        for data in test_loader:\n",
    "            images, labels = data\n",
    "            images = Variable(images.to(device))\n",
    "            labels = Variable(labels.to(device))\n",
    "            # run the model on the test set to predict labels\n",
    "            outputs = model(images)\n",
    "            # the label with the highest energy will be our prediction\n",
    "            _, predicted = torch.max(outputs.data, 1)\n",
    "            total += labels.size(0)\n",
    "            accuracy += (predicted == labels).sum().item()\n",
    "\n",
    "    # compute the accuracy over all test images\n",
    "    accuracy = 100 * accuracy / total\n",
    "    return accuracy\n",
    "\n",
    "\n",
    "# Training function. We simply have to loop over our data iterator and feed the inputs to the network and optimize.\n",
    "def train(num_epochs):\n",
    "    train_acc_list = []\n",
    "    test_acc_list = []\n",
    "\n",
    "    best_accuracy = 0.0\n",
    "\n",
    "    # Define your execution device\n",
    "    device = torch.device(\"cuda:0\" if torch.cuda.is_available() else \"cpu\")\n",
    "    print(\"The model will be running on\", device, \"device\")\n",
    "    # Convert model parameters and buffers to CPU or Cuda\n",
    "    model.to(device)\n",
    "\n",
    "    for epoch in range(num_epochs):  # loop over the dataset multiple times\n",
    "        model.train()\n",
    "\n",
    "        running_loss = 0.0\n",
    "        running_acc = 0.0\n",
    "\n",
    "        for i, (images, labels) in enumerate(train_loader, 0):\n",
    "            # get the inputs\n",
    "            images = Variable(images.to(device))\n",
    "            labels = Variable(labels.to(device))\n",
    "\n",
    "            # zero the parameter gradients\n",
    "            optimizer.zero_grad()\n",
    "            # predict classes using images from the training set\n",
    "            outputs = model(images)\n",
    "            # compute the loss based on model output and real labels\n",
    "            loss = loss_fn(outputs, labels)\n",
    "            # backpropagate the loss\n",
    "            loss.backward()\n",
    "            # adjust parameters based on the calculated gradients\n",
    "            optimizer.step()\n",
    "\n",
    "            # Let's print statistics for every 1,000 images\n",
    "            running_loss += loss.item()  # extract the loss value\n",
    "            if i % 1000 == 999:\n",
    "                # print every 1000 (twice per epoch)\n",
    "                print(\"[%d, %5d] loss: %.3f\" % (epoch + 1, i + 1, running_loss / 1000))\n",
    "                # zero the loss\n",
    "                running_loss = 0.0\n",
    "\n",
    "            # Compute and print the average accuracy fo this epoch when tested over all 10000 test images\n",
    "            accuracy = trainAccuracy()\n",
    "            train_acc_list.append(accuracy)\n",
    "            print(\n",
    "                \"For epoch\",\n",
    "                epoch + 1,\n",
    "                \"the train accuracy over the whole test set is %d %%\" % (accuracy),\n",
    "            )\n",
    "            accuracy = testAccuracy()\n",
    "            test_acc_list.append(accuracy)\n",
    "            print(\n",
    "                \"For epoch\",\n",
    "                epoch + 1,\n",
    "                \"the test accuracy over the whole test set is %d %%\" % (accuracy),\n",
    "            )\n",
    "\n",
    "            # we want to save the model if the accuracy is the best\n",
    "            if accuracy > best_accuracy:\n",
    "                saveModel()\n",
    "                best_accuracy = accuracy\n",
    "\n",
    "    return train_acc_list, test_acc_list"
   ]
  },
  {
   "cell_type": "markdown",
   "id": "2d1a2c8b-ae39-47d9-9833-ce44aa3d90c6",
   "metadata": {},
   "source": [
    "Finally, we train our model, for ten epochs, and load the best model we have.\n",
    "While training, we also saved our best accuracies."
   ]
  },
  {
   "cell_type": "code",
   "execution_count": 10,
   "id": "dd9ec189",
   "metadata": {
    "colab": {
     "base_uri": "https://localhost:8080/"
    },
    "id": "dd9ec189",
    "outputId": "52433aa9-087b-496a-ac6b-aa2f371b31ed"
   },
   "outputs": [
    {
     "name": "stdout",
     "output_type": "stream",
     "text": [
      "The model will be running on cuda:0 device\n",
      "For epoch 1 the train accuracy over the whole test set is 77 %\n",
      "For epoch 1 the test accuracy over the whole test set is 38 %\n",
      "For epoch 2 the train accuracy over the whole test set is 94 %\n",
      "For epoch 2 the test accuracy over the whole test set is 39 %\n",
      "For epoch 3 the train accuracy over the whole test set is 98 %\n",
      "For epoch 3 the test accuracy over the whole test set is 41 %\n",
      "For epoch 4 the train accuracy over the whole test set is 99 %\n",
      "For epoch 4 the test accuracy over the whole test set is 42 %\n",
      "For epoch 5 the train accuracy over the whole test set is 99 %\n",
      "For epoch 5 the test accuracy over the whole test set is 43 %\n",
      "For epoch 6 the train accuracy over the whole test set is 99 %\n",
      "For epoch 6 the test accuracy over the whole test set is 44 %\n",
      "For epoch 7 the train accuracy over the whole test set is 99 %\n",
      "For epoch 7 the test accuracy over the whole test set is 44 %\n",
      "For epoch 8 the train accuracy over the whole test set is 100 %\n",
      "For epoch 8 the test accuracy over the whole test set is 44 %\n",
      "For epoch 9 the train accuracy over the whole test set is 100 %\n",
      "For epoch 9 the test accuracy over the whole test set is 45 %\n",
      "For epoch 10 the train accuracy over the whole test set is 100 %\n",
      "For epoch 10 the test accuracy over the whole test set is 45 %\n",
      "Finished Training\n"
     ]
    },
    {
     "data": {
      "text/plain": [
       "<All keys matched successfully>"
      ]
     },
     "execution_count": 10,
     "metadata": {},
     "output_type": "execute_result"
    }
   ],
   "source": [
    "# Let's build our model\n",
    "train(10)\n",
    "print(\"Finished Training\")\n",
    "\n",
    "# Test which classes performed well\n",
    "testAccuracy()\n",
    "\n",
    "# Let's load the model we just created and test the accuracy per label\n",
    "model = Network()\n",
    "path = \"myFirstModel.pth\"\n",
    "model.load_state_dict(torch.load(path))"
   ]
  },
  {
   "cell_type": "markdown",
   "id": "a4242cc7-8613-4c5f-914c-d0beecbc4868",
   "metadata": {},
   "source": [
    "### Visualization\n",
    "\n",
    "We now plot our training and testing accuracies across the epochs."
   ]
  },
  {
   "cell_type": "code",
   "execution_count": 30,
   "id": "lapyxuMcPK-E",
   "metadata": {
    "colab": {
     "base_uri": "https://localhost:8080/",
     "height": 472
    },
    "id": "lapyxuMcPK-E",
    "outputId": "ac533044-9e2d-4b09-c0cc-3e8846591dc8"
   },
   "outputs": [
    {
     "data": {
      "image/png": "[encoded data removed]",
      "text/plain": [
       "<Figure size 640x480 with 1 Axes>"
      ]
     },
     "metadata": {},
     "output_type": "display_data"
    }
   ],
   "source": [
    "import matplotlib.pyplot as plt\n",
    "\n",
    "epochs = [x + 1 for x in range(10)]\n",
    "training = [77, 94, 98, 99, 99, 99, 99, 100, 100, 100]\n",
    "testing = [38, 39, 41, 42, 43, 44, 44, 44, 45, 45]\n",
    "\n",
    "plt.plot(epochs, training, label=\"Training\")\n",
    "plt.plot(epochs, testing, label=\"Testing\")\n",
    "plt.ylim(0, 105)\n",
    "plt.xlim(0.5, 10.5)\n",
    "plt.title(\"Training and Testing Accuracy for Improved CNN\")\n",
    "plt.xlabel(\"Epochs\")\n",
    "plt.ylabel(\"Accuracy\")\n",
    "plt.legend()\n",
    "plt.show()"
   ]
  },
  {
   "cell_type": "markdown",
   "id": "7d99c3c1-de69-46ad-97c9-9243df94cb6d",
   "metadata": {},
   "source": [
    "## Validation\n",
    "\n",
    "Now that we've trained our model, we create some visualizations to help us validate the accuracy. \n",
    "Here, we are creating ag rid of images, and comparing the actual vs. predicted lables. This lets\n",
    "us visualize what the model does right and what it does wrong."
   ]
  },
  {
   "cell_type": "code",
   "execution_count": 9,
   "id": "4cf8227b",
   "metadata": {
    "id": "4cf8227b"
   },
   "outputs": [],
   "source": [
    "import matplotlib.pyplot as plt\n",
    "import numpy as np\n",
    "\n",
    "\n",
    "# Function to show the images\n",
    "def imageshow(img):\n",
    "    img = img / 2 + 0.5  # unnormalize\n",
    "    npimg = img.numpy()\n",
    "    plt.imshow(np.transpose(npimg, (1, 2, 0)))\n",
    "    plt.show()\n",
    "\n",
    "\n",
    "# Function to test the model with a batch of images and show the labels predictions\n",
    "def testBatch():\n",
    "    # get batch of images from the test DataLoader\n",
    "    images, labels = next(iter(test_loader))\n",
    "\n",
    "    # show all images as one image grid\n",
    "    imageshow(torchvision.utils.make_grid(images))\n",
    "\n",
    "    # Show the real labels on the screen\n",
    "    print(\n",
    "        \"Real labels: \",\n",
    "        \" \".join(\"%5s\" % list(classes.keys())[labels[j]] for j in range(batch_size)),\n",
    "    )\n",
    "\n",
    "    # Let's see what if the model identifiers the  labels of those example\n",
    "    outputs = model(images)\n",
    "\n",
    "    # We got the probability for every 10 labels. The highest (max) probability should be correct label\n",
    "    _, predicted = torch.max(outputs, 1)\n",
    "\n",
    "    # Let's show the predicted labels on the screen to compare with the real ones\n",
    "    print(\n",
    "        \"Predicted: \",\n",
    "        \" \".join(\"%5s\" % list(classes.keys())[predicted[j]] for j in range(batch_size)),\n",
    "    )"
   ]
  },
  {
   "cell_type": "code",
   "execution_count": null,
   "id": "Pkj3MLHGsNbx",
   "metadata": {
    "id": "Pkj3MLHGsNbx"
   },
   "outputs": [],
   "source": [
    "model = Network()\n",
    "path = \"myFirstModel.pth\"\n",
    "model.load_state_dict(torch.load(path))"
   ]
  },
  {
   "cell_type": "code",
   "execution_count": null,
   "id": "2eV21GnWsTpl",
   "metadata": {
    "id": "2eV21GnWsTpl"
   },
   "outputs": [],
   "source": [
    "testBatch()"
   ]
  }
 ],
 "metadata": {
  "accelerator": "GPU",
  "colab": {
   "provenance": []
  },
  "gpuClass": "standard",
  "kernelspec": {
   "display_name": "Python 3 (ipykernel)",
   "language": "python",
   "name": "python3"
  },
  "language_info": {
   "codemirror_mode": {
    "name": "ipython",
    "version": 3
   },
   "file_extension": ".py",
   "mimetype": "text/x-python",
   "name": "python",
   "nbconvert_exporter": "python",
   "pygments_lexer": "ipython3",
   "version": "3.11.1"
  }
 },
 "nbformat": 4,
 "nbformat_minor": 5
}
